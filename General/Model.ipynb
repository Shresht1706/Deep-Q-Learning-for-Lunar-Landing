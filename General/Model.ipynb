{
  "cells": [
    {
      "cell_type": "markdown",
      "metadata": {
        "id": "LbZcI9ZXHl3a"
      },
      "source": [
        "# Deep Q-Learning for Lunar Landing"
      ]
    },
    {
      "cell_type": "markdown",
      "metadata": {
        "id": "E8yPRjteXgPb"
      },
      "source": [
        "## Part 0 - Installing the required packages and importing the libraries"
      ]
    },
    {
      "cell_type": "markdown",
      "metadata": {
        "id": "slEm5teGWjWU"
      },
      "source": [
        "### Installing Gymnasium"
      ]
    },
    {
      "cell_type": "code",
      "execution_count": 1,
      "metadata": {
        "colab": {
          "base_uri": "https://localhost:8080/"
        },
        "id": "dbnq3XpoKa_7",
        "outputId": "d634f61a-d623-4fc7-dab9-62382e39686d"
      },
      "outputs": [
        {
          "name": "stdout",
          "output_type": "stream",
          "text": [
            "Requirement already satisfied: gymnasium in c:\\users\\shres\\.conda\\envs\\cuda_test\\lib\\site-packages (1.0.0)\n",
            "Requirement already satisfied: numpy>=1.21.0 in c:\\users\\shres\\.conda\\envs\\cuda_test\\lib\\site-packages (from gymnasium) (2.2.5)\n",
            "Requirement already satisfied: cloudpickle>=1.2.0 in c:\\users\\shres\\.conda\\envs\\cuda_test\\lib\\site-packages (from gymnasium) (3.1.1)\n",
            "Requirement already satisfied: typing-extensions>=4.3.0 in c:\\users\\shres\\.conda\\envs\\cuda_test\\lib\\site-packages (from gymnasium) (4.13.2)\n",
            "Requirement already satisfied: farama-notifications>=0.0.1 in c:\\users\\shres\\appdata\\roaming\\python\\python312\\site-packages (from gymnasium) (0.0.4)\n"
          ]
        },
        {
          "name": "stderr",
          "output_type": "stream",
          "text": [
            "WARNING: Ignoring invalid distribution ~orch (C:\\Users\\shres\\AppData\\Roaming\\Python\\Python312\\site-packages)\n",
            "WARNING: Ignoring invalid distribution ~orch (C:\\Users\\shres\\AppData\\Roaming\\Python\\Python312\\site-packages)\n",
            "WARNING: Ignoring invalid distribution ~orch (C:\\Users\\shres\\AppData\\Roaming\\Python\\Python312\\site-packages)\n",
            "WARNING: Ignoring invalid distribution ~orch (C:\\Users\\shres\\AppData\\Roaming\\Python\\Python312\\site-packages)\n",
            "WARNING: Ignoring invalid distribution ~orch (C:\\Users\\shres\\AppData\\Roaming\\Python\\Python312\\site-packages)\n"
          ]
        },
        {
          "name": "stdout",
          "output_type": "stream",
          "text": [
            "Requirement already satisfied: gymnasium==1.0.0 in c:\\users\\shres\\.conda\\envs\\cuda_test\\lib\\site-packages (1.0.0)\n",
            "Requirement already satisfied: numpy>=1.21.0 in c:\\users\\shres\\.conda\\envs\\cuda_test\\lib\\site-packages (from gymnasium==1.0.0) (2.2.5)\n",
            "Requirement already satisfied: cloudpickle>=1.2.0 in c:\\users\\shres\\.conda\\envs\\cuda_test\\lib\\site-packages (from gymnasium==1.0.0) (3.1.1)\n",
            "Requirement already satisfied: typing-extensions>=4.3.0 in c:\\users\\shres\\.conda\\envs\\cuda_test\\lib\\site-packages (from gymnasium==1.0.0) (4.13.2)\n",
            "Requirement already satisfied: farama-notifications>=0.0.1 in c:\\users\\shres\\appdata\\roaming\\python\\python312\\site-packages (from gymnasium==1.0.0) (0.0.4)\n"
          ]
        },
        {
          "name": "stderr",
          "output_type": "stream",
          "text": [
            "WARNING: Ignoring invalid distribution ~orch (C:\\Users\\shres\\AppData\\Roaming\\Python\\Python312\\site-packages)\n",
            "WARNING: Ignoring invalid distribution ~orch (C:\\Users\\shres\\AppData\\Roaming\\Python\\Python312\\site-packages)\n",
            "WARNING: Ignoring invalid distribution ~orch (C:\\Users\\shres\\AppData\\Roaming\\Python\\Python312\\site-packages)\n",
            "WARNING: Ignoring invalid distribution ~orch (C:\\Users\\shres\\AppData\\Roaming\\Python\\Python312\\site-packages)\n",
            "WARNING: Ignoring invalid distribution ~orch (C:\\Users\\shres\\AppData\\Roaming\\Python\\Python312\\site-packages)\n"
          ]
        },
        {
          "name": "stdout",
          "output_type": "stream",
          "text": [
            "Requirement already satisfied: swig in c:\\users\\shres\\appdata\\roaming\\python\\python312\\site-packages (4.3.1)\n"
          ]
        },
        {
          "name": "stderr",
          "output_type": "stream",
          "text": [
            "WARNING: Ignoring invalid distribution ~orch (C:\\Users\\shres\\AppData\\Roaming\\Python\\Python312\\site-packages)\n",
            "WARNING: Ignoring invalid distribution ~orch (C:\\Users\\shres\\AppData\\Roaming\\Python\\Python312\\site-packages)\n",
            "WARNING: Ignoring invalid distribution ~orch (C:\\Users\\shres\\AppData\\Roaming\\Python\\Python312\\site-packages)\n",
            "WARNING: Ignoring invalid distribution ~orch (C:\\Users\\shres\\AppData\\Roaming\\Python\\Python312\\site-packages)\n",
            "WARNING: Ignoring invalid distribution ~orch (C:\\Users\\shres\\AppData\\Roaming\\Python\\Python312\\site-packages)\n"
          ]
        },
        {
          "name": "stdout",
          "output_type": "stream",
          "text": [
            "Requirement already satisfied: gymnasium[box2d] in c:\\users\\shres\\.conda\\envs\\cuda_test\\lib\\site-packages (1.0.0)\n",
            "Requirement already satisfied: numpy>=1.21.0 in c:\\users\\shres\\.conda\\envs\\cuda_test\\lib\\site-packages (from gymnasium[box2d]) (2.2.5)\n",
            "Requirement already satisfied: cloudpickle>=1.2.0 in c:\\users\\shres\\.conda\\envs\\cuda_test\\lib\\site-packages (from gymnasium[box2d]) (3.1.1)\n",
            "Requirement already satisfied: typing-extensions>=4.3.0 in c:\\users\\shres\\.conda\\envs\\cuda_test\\lib\\site-packages (from gymnasium[box2d]) (4.13.2)\n",
            "Requirement already satisfied: farama-notifications>=0.0.1 in c:\\users\\shres\\appdata\\roaming\\python\\python312\\site-packages (from gymnasium[box2d]) (0.0.4)\n",
            "Requirement already satisfied: box2d-py==2.3.5 in c:\\users\\shres\\.conda\\envs\\cuda_test\\lib\\site-packages (from gymnasium[box2d]) (2.3.5)\n",
            "Requirement already satisfied: pygame>=2.1.3 in c:\\users\\shres\\.conda\\envs\\cuda_test\\lib\\site-packages (from gymnasium[box2d]) (2.6.1)\n",
            "Requirement already satisfied: swig==4.* in c:\\users\\shres\\appdata\\roaming\\python\\python312\\site-packages (from gymnasium[box2d]) (4.3.1)\n"
          ]
        },
        {
          "name": "stderr",
          "output_type": "stream",
          "text": [
            "WARNING: Ignoring invalid distribution ~orch (C:\\Users\\shres\\AppData\\Roaming\\Python\\Python312\\site-packages)\n",
            "WARNING: Ignoring invalid distribution ~orch (C:\\Users\\shres\\AppData\\Roaming\\Python\\Python312\\site-packages)\n",
            "WARNING: Ignoring invalid distribution ~orch (C:\\Users\\shres\\AppData\\Roaming\\Python\\Python312\\site-packages)\n",
            "WARNING: Ignoring invalid distribution ~orch (C:\\Users\\shres\\AppData\\Roaming\\Python\\Python312\\site-packages)\n",
            "WARNING: Ignoring invalid distribution ~orch (C:\\Users\\shres\\AppData\\Roaming\\Python\\Python312\\site-packages)\n"
          ]
        },
        {
          "name": "stdout",
          "output_type": "stream",
          "text": [
            "Requirement already satisfied: imageio in c:\\users\\shres\\.conda\\envs\\cuda_test\\lib\\site-packages (2.37.0)\n",
            "Requirement already satisfied: numpy in c:\\users\\shres\\.conda\\envs\\cuda_test\\lib\\site-packages (from imageio) (2.2.5)\n",
            "Requirement already satisfied: pillow>=8.3.2 in c:\\users\\shres\\.conda\\envs\\cuda_test\\lib\\site-packages (from imageio) (11.0.0)\n"
          ]
        },
        {
          "name": "stderr",
          "output_type": "stream",
          "text": [
            "WARNING: Ignoring invalid distribution ~orch (C:\\Users\\shres\\AppData\\Roaming\\Python\\Python312\\site-packages)\n",
            "WARNING: Ignoring invalid distribution ~orch (C:\\Users\\shres\\AppData\\Roaming\\Python\\Python312\\site-packages)\n",
            "WARNING: Ignoring invalid distribution ~orch (C:\\Users\\shres\\AppData\\Roaming\\Python\\Python312\\site-packages)\n",
            "WARNING: Ignoring invalid distribution ~orch (C:\\Users\\shres\\AppData\\Roaming\\Python\\Python312\\site-packages)\n",
            "WARNING: Ignoring invalid distribution ~orch (C:\\Users\\shres\\AppData\\Roaming\\Python\\Python312\\site-packages)\n"
          ]
        },
        {
          "name": "stdout",
          "output_type": "stream",
          "text": [
            "Requirement already satisfied: ipython in c:\\users\\shres\\appdata\\roaming\\python\\python312\\site-packages (9.1.0)\n",
            "Requirement already satisfied: colorama in c:\\users\\shres\\appdata\\roaming\\python\\python312\\site-packages (from ipython) (0.4.6)\n",
            "Requirement already satisfied: decorator in c:\\users\\shres\\appdata\\roaming\\python\\python312\\site-packages (from ipython) (5.2.1)\n",
            "Requirement already satisfied: ipython-pygments-lexers in c:\\users\\shres\\appdata\\roaming\\python\\python312\\site-packages (from ipython) (1.1.1)\n",
            "Requirement already satisfied: jedi>=0.16 in c:\\users\\shres\\appdata\\roaming\\python\\python312\\site-packages (from ipython) (0.19.2)\n",
            "Requirement already satisfied: matplotlib-inline in c:\\users\\shres\\appdata\\roaming\\python\\python312\\site-packages (from ipython) (0.1.7)\n",
            "Requirement already satisfied: prompt_toolkit<3.1.0,>=3.0.41 in c:\\users\\shres\\appdata\\roaming\\python\\python312\\site-packages (from ipython) (3.0.51)\n",
            "Requirement already satisfied: pygments>=2.4.0 in c:\\users\\shres\\appdata\\roaming\\python\\python312\\site-packages (from ipython) (2.19.1)\n",
            "Requirement already satisfied: stack_data in c:\\users\\shres\\appdata\\roaming\\python\\python312\\site-packages (from ipython) (0.6.3)\n",
            "Requirement already satisfied: traitlets>=5.13.0 in c:\\users\\shres\\appdata\\roaming\\python\\python312\\site-packages (from ipython) (5.14.3)\n",
            "Requirement already satisfied: parso<0.9.0,>=0.8.4 in c:\\users\\shres\\appdata\\roaming\\python\\python312\\site-packages (from jedi>=0.16->ipython) (0.8.4)\n",
            "Requirement already satisfied: wcwidth in c:\\users\\shres\\appdata\\roaming\\python\\python312\\site-packages (from prompt_toolkit<3.1.0,>=3.0.41->ipython) (0.2.13)\n",
            "Requirement already satisfied: executing>=1.2.0 in c:\\users\\shres\\appdata\\roaming\\python\\python312\\site-packages (from stack_data->ipython) (2.2.0)\n",
            "Requirement already satisfied: asttokens>=2.1.0 in c:\\users\\shres\\appdata\\roaming\\python\\python312\\site-packages (from stack_data->ipython) (3.0.0)\n",
            "Requirement already satisfied: pure-eval in c:\\users\\shres\\appdata\\roaming\\python\\python312\\site-packages (from stack_data->ipython) (0.2.3)\n"
          ]
        },
        {
          "name": "stderr",
          "output_type": "stream",
          "text": [
            "WARNING: Ignoring invalid distribution ~orch (C:\\Users\\shres\\AppData\\Roaming\\Python\\Python312\\site-packages)\n",
            "WARNING: Ignoring invalid distribution ~orch (C:\\Users\\shres\\AppData\\Roaming\\Python\\Python312\\site-packages)\n",
            "WARNING: Ignoring invalid distribution ~orch (C:\\Users\\shres\\AppData\\Roaming\\Python\\Python312\\site-packages)\n",
            "WARNING: Ignoring invalid distribution ~orch (C:\\Users\\shres\\AppData\\Roaming\\Python\\Python312\\site-packages)\n",
            "WARNING: Ignoring invalid distribution ~orch (C:\\Users\\shres\\AppData\\Roaming\\Python\\Python312\\site-packages)\n"
          ]
        },
        {
          "name": "stdout",
          "output_type": "stream",
          "text": [
            "Looking in indexes: https://download.pytorch.org/whl/cu128\n",
            "Requirement already satisfied: torch in c:\\users\\shres\\.conda\\envs\\cuda_test\\lib\\site-packages (2.7.0+cu128)\n",
            "Requirement already satisfied: torchvision in c:\\users\\shres\\.conda\\envs\\cuda_test\\lib\\site-packages (0.22.0+cu128)\n",
            "Requirement already satisfied: torchaudio in c:\\users\\shres\\.conda\\envs\\cuda_test\\lib\\site-packages (2.7.0+cu128)\n",
            "Requirement already satisfied: filelock in c:\\users\\shres\\.conda\\envs\\cuda_test\\lib\\site-packages (from torch) (3.13.1)\n",
            "Requirement already satisfied: typing-extensions>=4.10.0 in c:\\users\\shres\\.conda\\envs\\cuda_test\\lib\\site-packages (from torch) (4.13.2)\n",
            "Requirement already satisfied: sympy>=1.13.3 in c:\\users\\shres\\appdata\\roaming\\python\\python312\\site-packages (from torch) (1.14.0)\n",
            "Requirement already satisfied: networkx in c:\\users\\shres\\.conda\\envs\\cuda_test\\lib\\site-packages (from torch) (3.3)\n",
            "Requirement already satisfied: jinja2 in c:\\users\\shres\\.conda\\envs\\cuda_test\\lib\\site-packages (from torch) (3.1.4)\n",
            "Requirement already satisfied: fsspec in c:\\users\\shres\\.conda\\envs\\cuda_test\\lib\\site-packages (from torch) (2024.6.1)\n",
            "Requirement already satisfied: setuptools in c:\\users\\shres\\.conda\\envs\\cuda_test\\lib\\site-packages (from torch) (75.8.0)\n",
            "Requirement already satisfied: numpy in c:\\users\\shres\\.conda\\envs\\cuda_test\\lib\\site-packages (from torchvision) (2.2.5)\n",
            "Requirement already satisfied: pillow!=8.3.*,>=5.3.0 in c:\\users\\shres\\.conda\\envs\\cuda_test\\lib\\site-packages (from torchvision) (11.0.0)\n",
            "Requirement already satisfied: mpmath<1.4,>=1.1.0 in c:\\users\\shres\\.conda\\envs\\cuda_test\\lib\\site-packages (from sympy>=1.13.3->torch) (1.3.0)\n",
            "Requirement already satisfied: MarkupSafe>=2.0 in c:\\users\\shres\\.conda\\envs\\cuda_test\\lib\\site-packages (from jinja2->torch) (2.1.5)\n"
          ]
        },
        {
          "name": "stderr",
          "output_type": "stream",
          "text": [
            "WARNING: Ignoring invalid distribution ~orch (C:\\Users\\shres\\AppData\\Roaming\\Python\\Python312\\site-packages)\n",
            "WARNING: Ignoring invalid distribution ~orch (C:\\Users\\shres\\AppData\\Roaming\\Python\\Python312\\site-packages)\n",
            "WARNING: Ignoring invalid distribution ~orch (C:\\Users\\shres\\AppData\\Roaming\\Python\\Python312\\site-packages)\n",
            "WARNING: Ignoring invalid distribution ~orch (C:\\Users\\shres\\AppData\\Roaming\\Python\\Python312\\site-packages)\n",
            "WARNING: Ignoring invalid distribution ~orch (C:\\Users\\shres\\AppData\\Roaming\\Python\\Python312\\site-packages)\n"
          ]
        },
        {
          "name": "stdout",
          "output_type": "stream",
          "text": [
            "Requirement already satisfied: imageio[ffmpeg] in c:\\users\\shres\\.conda\\envs\\cuda_test\\lib\\site-packages (2.37.0)\n",
            "Requirement already satisfied: numpy in c:\\users\\shres\\.conda\\envs\\cuda_test\\lib\\site-packages (from imageio[ffmpeg]) (2.2.5)\n",
            "Requirement already satisfied: pillow>=8.3.2 in c:\\users\\shres\\.conda\\envs\\cuda_test\\lib\\site-packages (from imageio[ffmpeg]) (11.0.0)\n",
            "Requirement already satisfied: imageio-ffmpeg in c:\\users\\shres\\.conda\\envs\\cuda_test\\lib\\site-packages (from imageio[ffmpeg]) (0.6.0)\n",
            "Requirement already satisfied: psutil in c:\\users\\shres\\appdata\\roaming\\python\\python312\\site-packages (from imageio[ffmpeg]) (7.0.0)\n"
          ]
        },
        {
          "name": "stderr",
          "output_type": "stream",
          "text": [
            "WARNING: Ignoring invalid distribution ~orch (C:\\Users\\shres\\AppData\\Roaming\\Python\\Python312\\site-packages)\n",
            "WARNING: Ignoring invalid distribution ~orch (C:\\Users\\shres\\AppData\\Roaming\\Python\\Python312\\site-packages)\n",
            "WARNING: Ignoring invalid distribution ~orch (C:\\Users\\shres\\AppData\\Roaming\\Python\\Python312\\site-packages)\n",
            "WARNING: Ignoring invalid distribution ~orch (C:\\Users\\shres\\AppData\\Roaming\\Python\\Python312\\site-packages)\n",
            "WARNING: Ignoring invalid distribution ~orch (C:\\Users\\shres\\AppData\\Roaming\\Python\\Python312\\site-packages)\n"
          ]
        },
        {
          "name": "stdout",
          "output_type": "stream",
          "text": [
            "Requirement already satisfied: imageio[ffmpeg] in c:\\users\\shres\\.conda\\envs\\cuda_test\\lib\\site-packages (2.37.0)\n",
            "Requirement already satisfied: numpy in c:\\users\\shres\\.conda\\envs\\cuda_test\\lib\\site-packages (from imageio[ffmpeg]) (2.2.5)\n",
            "Requirement already satisfied: pillow>=8.3.2 in c:\\users\\shres\\.conda\\envs\\cuda_test\\lib\\site-packages (from imageio[ffmpeg]) (11.0.0)\n",
            "Requirement already satisfied: imageio-ffmpeg in c:\\users\\shres\\.conda\\envs\\cuda_test\\lib\\site-packages (from imageio[ffmpeg]) (0.6.0)\n",
            "Requirement already satisfied: psutil in c:\\users\\shres\\appdata\\roaming\\python\\python312\\site-packages (from imageio[ffmpeg]) (7.0.0)\n"
          ]
        },
        {
          "name": "stderr",
          "output_type": "stream",
          "text": [
            "WARNING: Ignoring invalid distribution ~orch (C:\\Users\\shres\\AppData\\Roaming\\Python\\Python312\\site-packages)\n",
            "WARNING: Ignoring invalid distribution ~orch (C:\\Users\\shres\\AppData\\Roaming\\Python\\Python312\\site-packages)\n",
            "WARNING: Ignoring invalid distribution ~orch (C:\\Users\\shres\\AppData\\Roaming\\Python\\Python312\\site-packages)\n",
            "WARNING: Ignoring invalid distribution ~orch (C:\\Users\\shres\\AppData\\Roaming\\Python\\Python312\\site-packages)\n",
            "WARNING: Ignoring invalid distribution ~orch (C:\\Users\\shres\\AppData\\Roaming\\Python\\Python312\\site-packages)\n"
          ]
        }
      ],
      "source": [
        "!pip install gymnasium\n",
        "!pip install gymnasium==1.0.0\n",
        "!pip install swig\n",
        "!pip install \"gymnasium[box2d]\"\n",
        "!pip install imageio\n",
        "!pip install ipython\n",
        "!pip install torch torchvision torchaudio --index-url https://download.pytorch.org/whl/cu128\n",
        "!pip install \"imageio[ffmpeg]\"\n",
        "!pip install \"imageio[ffmpeg]\""
      ]
    },
    {
      "cell_type": "markdown",
      "metadata": {},
      "source": [
        "### Checking for availibility of CUDA Cores"
      ]
    },
    {
      "cell_type": "code",
      "execution_count": 2,
      "metadata": {},
      "outputs": [
        {
          "name": "stdout",
          "output_type": "stream",
          "text": [
            "True\n"
          ]
        }
      ],
      "source": [
        "import torch\n",
        "if torch.cuda.is_available():\n",
        "    cuda_bit = 1\n",
        "else:\n",
        "    cuda_bit = 0\n",
        "\n",
        "print(torch.cuda.is_available())"
      ]
    },
    {
      "cell_type": "markdown",
      "metadata": {
        "id": "brqiMN3UW9T9"
      },
      "source": [
        "### Importing the libraries"
      ]
    },
    {
      "cell_type": "code",
      "execution_count": 3,
      "metadata": {
        "id": "mZaKXP_aMl9O"
      },
      "outputs": [],
      "source": [
        "import os #for os\n",
        "import random #for random numbers\n",
        "import numpy as np #for arrays\n",
        "import torch # to train agent w pytorch\n",
        "import torch.nn as nn #neural network module\n",
        "import torch.optim as optim # optimal module\n",
        "import torch.nn.functional as F #functions pre made for training\n",
        "import torch.autograd as autograd # for stochastic gradient descent\n",
        "from torch.autograd import Variable #training\n",
        "from collections import deque, namedtuple #training"
      ]
    },
    {
      "cell_type": "markdown",
      "metadata": {
        "id": "EzlDKXvkXzGI"
      },
      "source": [
        "## Part 1 - Building the AI"
      ]
    },
    {
      "cell_type": "markdown",
      "metadata": {
        "id": "UtG6Zc83YYy3"
      },
      "source": [
        "### Creating the architecture of the Neural Network"
      ]
    },
    {
      "cell_type": "code",
      "execution_count": 4,
      "metadata": {
        "id": "QWpMLoF4qf-9"
      },
      "outputs": [],
      "source": [
        "class NeuNet(nn.Module): #inherits from nn.module\n",
        "\n",
        "  def __init__(self, state_size, action_size, seed=42):\n",
        "    super(NeuNet, self).__init__()\n",
        "    self.seed = torch.manual_seed(seed)\n",
        "    self.fc1 = nn.Linear(state_size, 64) #Input Layer\n",
        "    self.fc2 = nn.Linear(64, 64) #Hidden Layer\n",
        "    self.fc3 = nn.Linear(64, action_size) #Output Layer\n",
        "\n",
        "  def forward(self, state):\n",
        "    x = self.fc1(state)\n",
        "    x = F.relu(x) #rectifier activation function from torch.nn.functional\n",
        "    #Gone from first fully conected layer to the second\n",
        "    x = self.fc2(x)\n",
        "    x = F.relu(x)\n",
        "    return self.fc3(x) #output layer"
      ]
    },
    {
      "cell_type": "markdown",
      "metadata": {
        "id": "eKr-lMG2EH9Y"
      },
      "source": [
        "\n",
        "\n",
        "*   fc1 is input layer. Number can be anything however, post testing, 64 is the most optimal in cases for lunar landings in gymnasium\n",
        "*   fc2 is hidden layer\n",
        "*   fc3 is output layer. action size is 4\n",
        "*   DEF FORWARD\n",
        "\n",
        "\n",
        "\n",
        "\n"
      ]
    },
    {
      "cell_type": "markdown",
      "metadata": {
        "id": "UxVrBnFWZKb1"
      },
      "source": [
        "## Part 2 - Training the AI"
      ]
    },
    {
      "cell_type": "markdown",
      "metadata": {
        "id": "T364fz9qZb2j"
      },
      "source": [
        "### Setting up the environment"
      ]
    },
    {
      "cell_type": "code",
      "execution_count": 5,
      "metadata": {
        "colab": {
          "base_uri": "https://localhost:8080/"
        },
        "id": "41sgnpCwtd5f",
        "outputId": "2aa4e61c-f53e-4990-e153-098b302c2218"
      },
      "outputs": [
        {
          "name": "stdout",
          "output_type": "stream",
          "text": [
            "State shape:  (8,)\n",
            "State size:  8\n",
            "Number of actions:  4\n"
          ]
        }
      ],
      "source": [
        "import gymnasium as gym\n",
        "env = gym.make(\"LunarLander-v3\")\n",
        "state_shape = env.observation_space.shape #Vector\n",
        "state_size = env.observation_space.shape[0] #current state of env\n",
        "number_actions = env.action_space.n #Number of actions\n",
        "print('State shape: ', state_shape)\n",
        "print('State size: ', state_size)\n",
        "print('Number of actions: ', number_actions)"
      ]
    },
    {
      "cell_type": "markdown",
      "metadata": {
        "id": "c_dZmOIvZgj-"
      },
      "source": [
        "### Initializing the hyperparameters"
      ]
    },
    {
      "cell_type": "code",
      "execution_count": 6,
      "metadata": {
        "id": "UuQh3LTvIKHY"
      },
      "outputs": [],
      "source": [
        "learning_rate = 5e-4 #derived from experimentation\n",
        "minibatch_size = 100\n",
        "gamma = 0.99 #discount factor\n",
        "replay_buffer_size = int(1e5) #no. of experiences\n",
        "tau = 1e-3 #Interpolation parameter"
      ]
    },
    {
      "cell_type": "markdown",
      "metadata": {
        "id": "8hD_Vs-bYnip"
      },
      "source": [
        "### Implementing Experience Replay"
      ]
    },
    {
      "cell_type": "code",
      "execution_count": 7,
      "metadata": {
        "id": "K932ufvF3uQM"
      },
      "outputs": [],
      "source": [
        "class ReplayMemory(object):\n",
        "\n",
        "  def __init__(self, capacity):\n",
        "    self.device = torch.device(\"cuda:0\" if torch.cuda.is_available() else \"cpu\") #if exterior device(gpu) is present. uses that hardware to process\n",
        "    self.capacity = capacity #total size of memory size\n",
        "    self.memory = [ ]\n",
        "\n",
        "  def push(self, event): #appends event and removes oldest event if memory is full\n",
        "    self.memory.append(event)\n",
        "    if len(self.memory) > self.capacity:\n",
        "      del self.memory[0]\n",
        "\n",
        "  def sample(self, batch_size):\n",
        "    exp = random.sample(self.memory, k = batch_size)\n",
        "    state = torch.from_numpy(np.vstack([e[0] for e in exp if e is not None])).float().to(self.device) #states converted to tensors and float values and send to gpu or cpu\n",
        "    action = torch.from_numpy(np.vstack([e[1] for e in exp if e is not None])).long().to(self.device) #same as states but long integers\n",
        "    rewards = torch.from_numpy(np.vstack([e[2] for e in exp if e is not None])).float().to(self.device)\n",
        "    next_state = torch.from_numpy(np.vstack([e[3] for e in exp if e is not None])).float().to(self.device)\n",
        "    dones = torch.from_numpy(np.vstack([e[4] for e in exp if e is not None]).astype(np.uint8)).float().to(self.device)\n",
        "    return state, next_state, action, rewards, dones"
      ]
    },
    {
      "cell_type": "markdown",
      "metadata": {
        "id": "JmEkbFbUY6Jt"
      },
      "source": [
        "### Implementing the DQN class"
      ]
    },
    {
      "cell_type": "code",
      "execution_count": 8,
      "metadata": {
        "id": "X4O4QC9a7wUs"
      },
      "outputs": [],
      "source": [
        "class Agent():\n",
        "\n",
        "  def __init__(self, state_size, action_size):\n",
        "    self.device = torch.device(\"cuda:0\" if cuda_bit==1 else \"cpu\") #if exterior device(gpu) is present. uses that hardware to process\n",
        "    self.state_size = state_size\n",
        "    self.action_size = action_size\n",
        "    self.local_qnetwork = NeuNet(state_size, action_size).to(self.device)\n",
        "    self.target_qnetwork = NeuNet(state_size, action_size).to(self.device)\n",
        "    self.optimizer = optim.Adam(self.local_qnetwork.parameters(), lr = learning_rate)\n",
        "    self.memory = ReplayMemory(replay_buffer_size)\n",
        "    self.t_step = 0\n",
        "\n",
        "  def step(self, state, action, reward, next_state, done):\n",
        "    self.memory.push((state, action, reward, next_state, done))\n",
        "    self.t_step = (self.t_step + 1) % 4\n",
        "    if self.t_step == 0:\n",
        "      if len(self.memory.memory) > minibatch_size: #self.memory.memory second memory is attribute. while self.memory is the instance of the memory class\n",
        "        exp_local = self.memory.sample(minibatch_size) #samples 100 experiences from the memory\n",
        "        self.learn(exp_local, gamma)\n",
        "\n",
        "  def act(self, state, epsilon = 0.):\n",
        "    state = torch.from_numpy(state).float().unsqueeze(0).to(self.device) #set as torch tensor and an extra variable to the vector to show batch number\n",
        "    self.local_qnetwork.eval()\n",
        "    with torch.no_grad():\n",
        "      action_values = self.local_qnetwork(state)\n",
        "    self.local_qnetwork.train()\n",
        "    if random.random() > epsilon: #epsilon greedy action selection policy\n",
        "      return np.argmax(action_values.cpu().data.numpy())\n",
        "    else:\n",
        "      return random.choice(np.arange(self.action_size))\n",
        "\n",
        "  def learn(self, exp, gamma):\n",
        "    states,next_states, actions, rewards, dones = exp\n",
        "    next_q_targets = self.target_qnetwork(next_states).detach().max(1)[0].unsqueeze(1)\n",
        "    q_targets = rewards + (gamma * next_q_targets * (1 - dones))\n",
        "    q_expected = self.local_qnetwork(states).gather(1, actions)\n",
        "    loss = F.mse_loss(q_expected, q_targets)\n",
        "    self.optimizer.zero_grad()\n",
        "    loss.backward()\n",
        "    self.optimizer.step()\n",
        "    self.soft_update(self.local_qnetwork, self.target_qnetwork, tau)\n",
        "\n",
        "  def soft_update(self, local_model, target_model, tau):\n",
        "    for target_param, local_param in zip(target_model.parameters(), local_model.parameters()):\n",
        "      target_param.data.copy_(tau * local_param.data + (1.0 - tau) * target_param.data)\n",
        "\n",
        "\n",
        "\n",
        "\n",
        "\n"
      ]
    },
    {
      "cell_type": "markdown",
      "metadata": {
        "id": "o1tZElccZmf6"
      },
      "source": [
        "### Initializing the DQN agent"
      ]
    },
    {
      "cell_type": "code",
      "execution_count": 9,
      "metadata": {
        "id": "LQHsKhwdSSA5"
      },
      "outputs": [],
      "source": [
        "agent = Agent(state_size, number_actions)"
      ]
    },
    {
      "cell_type": "markdown",
      "metadata": {
        "id": "E8v0PtUfaVQp"
      },
      "source": [
        "### Training the DQN agent"
      ]
    },
    {
      "cell_type": "code",
      "execution_count": 10,
      "metadata": {
        "colab": {
          "base_uri": "https://localhost:8080/"
        },
        "id": "yL53_97fTCFi",
        "outputId": "a2598c14-f3b3-45a2-89e3-9e5cac7c9564"
      },
      "outputs": [
        {
          "name": "stdout",
          "output_type": "stream",
          "text": [
            "Episode Number 100\tAverage Score: -173.88\n",
            "Episode Number 200\tAverage Score: -146.04\n",
            "Episode Number 300\tAverage Score: -61.535\n",
            "Episode Number 400\tAverage Score: -12.36\n",
            "Episode Number 500\tAverage Score: 80.443\n",
            "Episode Number 600\tAverage Score: 174.08\n",
            "Episode Number 700\tAverage Score: 176.34\n",
            "Episode Number 800\tAverage Score: 178.06\n",
            "Episode Number 900\tAverage Score: 185.37\n",
            "Episode Number 1000\tAverage Score: 195.55\n",
            "Episode Number 1019\tAverage Score: 200.03\n",
            "Environment solved in 1019 episodes! Episode Number 1019\tAverage Score: 200.03\n"
          ]
        }
      ],
      "source": [
        "number_ep = 2000\n",
        "max_num_timesteps_per_ep = 1000\n",
        "epsilon_start = 1.0\n",
        "epsilon_end = 0.01\n",
        "epsilon_decay = 0.995\n",
        "epsilon = epsilon_start\n",
        "scores = deque(maxlen = 100)\n",
        "\n",
        "for episode in range(1, number_ep + 1):\n",
        "  state, _ = env.reset() #other information is discarded w underscore\n",
        "  score = 0\n",
        "  for t in range(max_num_timesteps_per_ep):\n",
        "    action = agent.act(state, epsilon)\n",
        "    next_state, reward, done, _, _ = env.step(action)\n",
        "    agent.step(state, action, reward, next_state, done)\n",
        "    state = next_state\n",
        "    score += reward\n",
        "    if done:\n",
        "      break\n",
        "  scores.append(score)\n",
        "  epsilon = max(epsilon_end, epsilon_decay*epsilon)\n",
        "  print('\\rEpisode Number {}\\tAverage Score: {:.2f}'.format(episode, np.mean(scores)), end=\"\")\n",
        "  if episode % 100 == 0:\n",
        "    print('\\rEpisode Number {}\\tAverage Score: {:.2f}'.format(episode, np.mean(scores)))\n",
        "  if (np.mean(scores) >= 200.0) & (episode >= 1000):\n",
        "      print('\\nEnvironment solved in {:d} episodes! Episode Number {}\\tAverage Score: {:.2f}'.format(episode, episode, np.mean(scores)))\n",
        "      torch.save(agent.local_qnetwork.state_dict(), 'checkpoint charlie')\n",
        "      break"
      ]
    },
    {
      "cell_type": "markdown",
      "metadata": {
        "id": "O8CNwdOTcCoP"
      },
      "source": [
        "## Part 3 - Visualizing the results"
      ]
    },
    {
      "cell_type": "code",
      "execution_count": 12,
      "metadata": {
        "colab": {
          "base_uri": "https://localhost:8080/",
          "height": 459
        },
        "id": "cb9nVvU2Okhk",
        "outputId": "b8135e63-7bb2-4cff-c21a-25e66e9583ee"
      },
      "outputs": [
        {
          "name": "stderr",
          "output_type": "stream",
          "text": [
            "IMAGEIO FFMPEG_WRITER WARNING: input image is not divisible by macro_block_size=16, resizing from (600, 400) to (608, 400) to ensure video compatibility with most codecs and players. To prevent resizing, make your input image divisible by the macro_block_size or set the macro_block_size to 1 (risking incompatibility).\n"
          ]
        },
        {
          "data": {
            "text/html": [
              "<video alt=\"test\" autoplay\n",
              "                loop controls style=\"height: 400px;\">\n",
              "                <source src=\"data:video/mp4;base64,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\" type=\"video/mp4\" />\n",
              "             </video>"
            ],
            "text/plain": [
              "<IPython.core.display.HTML object>"
            ]
          },
          "metadata": {},
          "output_type": "display_data"
        }
      ],
      "source": [
        "import glob\n",
        "import io\n",
        "import base64\n",
        "import imageio\n",
        "from IPython.display import HTML, display\n",
        "\n",
        "def show_video_of_model(agent, env_name):\n",
        "    env = gym.make(env_name, render_mode='rgb_array')\n",
        "    state, _ = env.reset()\n",
        "    done = False\n",
        "    frames = []\n",
        "    while not done:\n",
        "        frame = env.render()\n",
        "        frames.append(frame)\n",
        "        action = agent.act(state)\n",
        "        state, reward, done, _, _ = env.step(action.item())\n",
        "    env.close()\n",
        "    imageio.mimsave('video.mp4', frames, fps=30)\n",
        "\n",
        "show_video_of_model(agent, 'LunarLander-v3')\n",
        "\n",
        "def show_video():\n",
        "    mp4list = glob.glob('*.mp4')\n",
        "    if len(mp4list) > 0:\n",
        "        mp4 = mp4list[0]\n",
        "        video = io.open(mp4, 'r+b').read()\n",
        "        encoded = base64.b64encode(video)\n",
        "        display(HTML(data='''<video alt=\"test\" autoplay\n",
        "                loop controls style=\"height: 400px;\">\n",
        "                <source src=\"data:video/mp4;base64,{0}\" type=\"video/mp4\" />\n",
        "             </video>'''.format(encoded.decode('ascii'))))\n",
        "    else:\n",
        "        print(\"Could not find video\")\n",
        "\n",
        "show_video()"
      ]
    }
  ],
  "metadata": {
    "colab": {
      "provenance": []
    },
    "kernelspec": {
      "display_name": "CUDA_test",
      "language": "python",
      "name": "python3"
    },
    "language_info": {
      "codemirror_mode": {
        "name": "ipython",
        "version": 3
      },
      "file_extension": ".py",
      "mimetype": "text/x-python",
      "name": "python",
      "nbconvert_exporter": "python",
      "pygments_lexer": "ipython3",
      "version": "3.12.9"
    }
  },
  "nbformat": 4,
  "nbformat_minor": 0
}
