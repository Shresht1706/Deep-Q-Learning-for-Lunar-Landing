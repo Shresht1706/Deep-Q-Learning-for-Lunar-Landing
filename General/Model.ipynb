{
  "cells": [
    {
      "cell_type": "markdown",
      "metadata": {
        "id": "LbZcI9ZXHl3a"
      },
      "source": [
        "# Deep Q-Learning for Lunar Landing"
      ]
    },
    {
      "cell_type": "markdown",
      "metadata": {
        "id": "E8yPRjteXgPb"
      },
      "source": [
        "## Part 0 - Installing the required packages and importing the libraries"
      ]
    },
    {
      "cell_type": "markdown",
      "metadata": {
        "id": "slEm5teGWjWU"
      },
      "source": [
        "### Installing Gymnasium"
      ]
    },
    {
      "cell_type": "code",
      "execution_count": 1,
      "metadata": {
        "colab": {
          "base_uri": "https://localhost:8080/"
        },
        "id": "dbnq3XpoKa_7",
        "outputId": "d634f61a-d623-4fc7-dab9-62382e39686d"
      },
      "outputs": [
        {
          "name": "stdout",
          "output_type": "stream",
          "text": [
            "Requirement already satisfied: gymnasium in c:\\users\\shres\\appdata\\roaming\\python\\python312\\site-packages (1.1.1)\n",
            "Requirement already satisfied: numpy>=1.21.0 in c:\\users\\shres\\.conda\\envs\\cuda_test\\lib\\site-packages (from gymnasium) (2.2.5)\n",
            "Requirement already satisfied: cloudpickle>=1.2.0 in c:\\users\\shres\\.conda\\envs\\cuda_test\\lib\\site-packages (from gymnasium) (3.1.1)\n",
            "Requirement already satisfied: typing-extensions>=4.3.0 in c:\\users\\shres\\.conda\\envs\\cuda_test\\lib\\site-packages (from gymnasium) (4.13.2)\n",
            "Requirement already satisfied: farama-notifications>=0.0.1 in c:\\users\\shres\\appdata\\roaming\\python\\python312\\site-packages (from gymnasium) (0.0.4)\n"
          ]
        },
        {
          "name": "stderr",
          "output_type": "stream",
          "text": [
            "WARNING: Ignoring invalid distribution ~orch (C:\\Users\\shres\\AppData\\Roaming\\Python\\Python312\\site-packages)\n",
            "WARNING: Ignoring invalid distribution ~orch (C:\\Users\\shres\\AppData\\Roaming\\Python\\Python312\\site-packages)\n",
            "WARNING: Ignoring invalid distribution ~orch (C:\\Users\\shres\\AppData\\Roaming\\Python\\Python312\\site-packages)\n",
            "WARNING: Ignoring invalid distribution ~orch (C:\\Users\\shres\\AppData\\Roaming\\Python\\Python312\\site-packages)\n",
            "WARNING: Ignoring invalid distribution ~orch (C:\\Users\\shres\\AppData\\Roaming\\Python\\Python312\\site-packages)\n"
          ]
        },
        {
          "name": "stdout",
          "output_type": "stream",
          "text": [
            "Collecting gymnasium==1.0.0\n",
            "  Downloading gymnasium-1.0.0-py3-none-any.whl.metadata (9.5 kB)\n",
            "Requirement already satisfied: numpy>=1.21.0 in c:\\users\\shres\\.conda\\envs\\cuda_test\\lib\\site-packages (from gymnasium==1.0.0) (2.2.5)\n",
            "Requirement already satisfied: cloudpickle>=1.2.0 in c:\\users\\shres\\.conda\\envs\\cuda_test\\lib\\site-packages (from gymnasium==1.0.0) (3.1.1)\n",
            "Requirement already satisfied: typing-extensions>=4.3.0 in c:\\users\\shres\\.conda\\envs\\cuda_test\\lib\\site-packages (from gymnasium==1.0.0) (4.13.2)\n",
            "Requirement already satisfied: farama-notifications>=0.0.1 in c:\\users\\shres\\appdata\\roaming\\python\\python312\\site-packages (from gymnasium==1.0.0) (0.0.4)\n",
            "Downloading gymnasium-1.0.0-py3-none-any.whl (958 kB)\n",
            "   ---------------------------------------- 0.0/958.1 kB ? eta -:--:--\n",
            "   --------------------------------------- 958.1/958.1 kB 22.5 MB/s eta 0:00:00\n",
            "Installing collected packages: gymnasium\n",
            "  Attempting uninstall: gymnasium\n",
            "    Found existing installation: gymnasium 1.1.1\n",
            "    Uninstalling gymnasium-1.1.1:\n",
            "      Successfully uninstalled gymnasium-1.1.1\n",
            "Successfully installed gymnasium-1.0.0\n"
          ]
        },
        {
          "name": "stderr",
          "output_type": "stream",
          "text": [
            "WARNING: Ignoring invalid distribution ~orch (C:\\Users\\shres\\AppData\\Roaming\\Python\\Python312\\site-packages)\n",
            "WARNING: Ignoring invalid distribution ~orch (C:\\Users\\shres\\AppData\\Roaming\\Python\\Python312\\site-packages)\n",
            "WARNING: Ignoring invalid distribution ~orch (C:\\Users\\shres\\AppData\\Roaming\\Python\\Python312\\site-packages)\n",
            "WARNING: Ignoring invalid distribution ~orch (C:\\Users\\shres\\AppData\\Roaming\\Python\\Python312\\site-packages)\n",
            "WARNING: Ignoring invalid distribution ~orch (C:\\Users\\shres\\AppData\\Roaming\\Python\\Python312\\site-packages)\n"
          ]
        },
        {
          "name": "stdout",
          "output_type": "stream",
          "text": [
            "Requirement already satisfied: swig in c:\\users\\shres\\appdata\\roaming\\python\\python312\\site-packages (4.3.1)\n"
          ]
        },
        {
          "name": "stderr",
          "output_type": "stream",
          "text": [
            "WARNING: Ignoring invalid distribution ~orch (C:\\Users\\shres\\AppData\\Roaming\\Python\\Python312\\site-packages)\n",
            "WARNING: Ignoring invalid distribution ~orch (C:\\Users\\shres\\AppData\\Roaming\\Python\\Python312\\site-packages)\n",
            "WARNING: Ignoring invalid distribution ~orch (C:\\Users\\shres\\AppData\\Roaming\\Python\\Python312\\site-packages)\n",
            "WARNING: Ignoring invalid distribution ~orch (C:\\Users\\shres\\AppData\\Roaming\\Python\\Python312\\site-packages)\n",
            "WARNING: Ignoring invalid distribution ~orch (C:\\Users\\shres\\AppData\\Roaming\\Python\\Python312\\site-packages)\n"
          ]
        },
        {
          "name": "stdout",
          "output_type": "stream",
          "text": [
            "Requirement already satisfied: gymnasium[box2d] in c:\\users\\shres\\.conda\\envs\\cuda_test\\lib\\site-packages (1.0.0)\n",
            "Requirement already satisfied: numpy>=1.21.0 in c:\\users\\shres\\.conda\\envs\\cuda_test\\lib\\site-packages (from gymnasium[box2d]) (2.2.5)\n",
            "Requirement already satisfied: cloudpickle>=1.2.0 in c:\\users\\shres\\.conda\\envs\\cuda_test\\lib\\site-packages (from gymnasium[box2d]) (3.1.1)\n",
            "Requirement already satisfied: typing-extensions>=4.3.0 in c:\\users\\shres\\.conda\\envs\\cuda_test\\lib\\site-packages (from gymnasium[box2d]) (4.13.2)\n",
            "Requirement already satisfied: farama-notifications>=0.0.1 in c:\\users\\shres\\appdata\\roaming\\python\\python312\\site-packages (from gymnasium[box2d]) (0.0.4)\n",
            "Requirement already satisfied: box2d-py==2.3.5 in c:\\users\\shres\\.conda\\envs\\cuda_test\\lib\\site-packages (from gymnasium[box2d]) (2.3.5)\n",
            "Requirement already satisfied: pygame>=2.1.3 in c:\\users\\shres\\.conda\\envs\\cuda_test\\lib\\site-packages (from gymnasium[box2d]) (2.6.1)\n",
            "Requirement already satisfied: swig==4.* in c:\\users\\shres\\appdata\\roaming\\python\\python312\\site-packages (from gymnasium[box2d]) (4.3.1)\n"
          ]
        },
        {
          "name": "stderr",
          "output_type": "stream",
          "text": [
            "WARNING: Ignoring invalid distribution ~orch (C:\\Users\\shres\\AppData\\Roaming\\Python\\Python312\\site-packages)\n",
            "WARNING: Ignoring invalid distribution ~orch (C:\\Users\\shres\\AppData\\Roaming\\Python\\Python312\\site-packages)\n",
            "WARNING: Ignoring invalid distribution ~orch (C:\\Users\\shres\\AppData\\Roaming\\Python\\Python312\\site-packages)\n",
            "WARNING: Ignoring invalid distribution ~orch (C:\\Users\\shres\\AppData\\Roaming\\Python\\Python312\\site-packages)\n",
            "WARNING: Ignoring invalid distribution ~orch (C:\\Users\\shres\\AppData\\Roaming\\Python\\Python312\\site-packages)\n"
          ]
        },
        {
          "name": "stdout",
          "output_type": "stream",
          "text": [
            "Requirement already satisfied: imageio in c:\\users\\shres\\.conda\\envs\\cuda_test\\lib\\site-packages (2.37.0)\n",
            "Requirement already satisfied: numpy in c:\\users\\shres\\.conda\\envs\\cuda_test\\lib\\site-packages (from imageio) (2.2.5)\n",
            "Requirement already satisfied: pillow>=8.3.2 in c:\\users\\shres\\.conda\\envs\\cuda_test\\lib\\site-packages (from imageio) (11.0.0)\n"
          ]
        },
        {
          "name": "stderr",
          "output_type": "stream",
          "text": [
            "WARNING: Ignoring invalid distribution ~orch (C:\\Users\\shres\\AppData\\Roaming\\Python\\Python312\\site-packages)\n",
            "WARNING: Ignoring invalid distribution ~orch (C:\\Users\\shres\\AppData\\Roaming\\Python\\Python312\\site-packages)\n",
            "WARNING: Ignoring invalid distribution ~orch (C:\\Users\\shres\\AppData\\Roaming\\Python\\Python312\\site-packages)\n",
            "WARNING: Ignoring invalid distribution ~orch (C:\\Users\\shres\\AppData\\Roaming\\Python\\Python312\\site-packages)\n",
            "WARNING: Ignoring invalid distribution ~orch (C:\\Users\\shres\\AppData\\Roaming\\Python\\Python312\\site-packages)\n"
          ]
        },
        {
          "name": "stdout",
          "output_type": "stream",
          "text": [
            "Requirement already satisfied: ipython in c:\\users\\shres\\appdata\\roaming\\python\\python312\\site-packages (9.1.0)\n",
            "Requirement already satisfied: colorama in c:\\users\\shres\\appdata\\roaming\\python\\python312\\site-packages (from ipython) (0.4.6)\n",
            "Requirement already satisfied: decorator in c:\\users\\shres\\appdata\\roaming\\python\\python312\\site-packages (from ipython) (5.2.1)\n",
            "Requirement already satisfied: ipython-pygments-lexers in c:\\users\\shres\\appdata\\roaming\\python\\python312\\site-packages (from ipython) (1.1.1)\n",
            "Requirement already satisfied: jedi>=0.16 in c:\\users\\shres\\appdata\\roaming\\python\\python312\\site-packages (from ipython) (0.19.2)\n",
            "Requirement already satisfied: matplotlib-inline in c:\\users\\shres\\appdata\\roaming\\python\\python312\\site-packages (from ipython) (0.1.7)\n",
            "Requirement already satisfied: prompt_toolkit<3.1.0,>=3.0.41 in c:\\users\\shres\\appdata\\roaming\\python\\python312\\site-packages (from ipython) (3.0.51)\n",
            "Requirement already satisfied: pygments>=2.4.0 in c:\\users\\shres\\appdata\\roaming\\python\\python312\\site-packages (from ipython) (2.19.1)\n",
            "Requirement already satisfied: stack_data in c:\\users\\shres\\appdata\\roaming\\python\\python312\\site-packages (from ipython) (0.6.3)\n",
            "Requirement already satisfied: traitlets>=5.13.0 in c:\\users\\shres\\appdata\\roaming\\python\\python312\\site-packages (from ipython) (5.14.3)\n",
            "Requirement already satisfied: parso<0.9.0,>=0.8.4 in c:\\users\\shres\\appdata\\roaming\\python\\python312\\site-packages (from jedi>=0.16->ipython) (0.8.4)\n",
            "Requirement already satisfied: wcwidth in c:\\users\\shres\\appdata\\roaming\\python\\python312\\site-packages (from prompt_toolkit<3.1.0,>=3.0.41->ipython) (0.2.13)\n",
            "Requirement already satisfied: executing>=1.2.0 in c:\\users\\shres\\appdata\\roaming\\python\\python312\\site-packages (from stack_data->ipython) (2.2.0)\n",
            "Requirement already satisfied: asttokens>=2.1.0 in c:\\users\\shres\\appdata\\roaming\\python\\python312\\site-packages (from stack_data->ipython) (3.0.0)\n",
            "Requirement already satisfied: pure-eval in c:\\users\\shres\\appdata\\roaming\\python\\python312\\site-packages (from stack_data->ipython) (0.2.3)\n"
          ]
        },
        {
          "name": "stderr",
          "output_type": "stream",
          "text": [
            "WARNING: Ignoring invalid distribution ~orch (C:\\Users\\shres\\AppData\\Roaming\\Python\\Python312\\site-packages)\n",
            "WARNING: Ignoring invalid distribution ~orch (C:\\Users\\shres\\AppData\\Roaming\\Python\\Python312\\site-packages)\n",
            "WARNING: Ignoring invalid distribution ~orch (C:\\Users\\shres\\AppData\\Roaming\\Python\\Python312\\site-packages)\n",
            "WARNING: Ignoring invalid distribution ~orch (C:\\Users\\shres\\AppData\\Roaming\\Python\\Python312\\site-packages)\n",
            "WARNING: Ignoring invalid distribution ~orch (C:\\Users\\shres\\AppData\\Roaming\\Python\\Python312\\site-packages)\n"
          ]
        },
        {
          "name": "stdout",
          "output_type": "stream",
          "text": [
            "Looking in indexes: https://download.pytorch.org/whl/cu128\n",
            "Requirement already satisfied: torch in c:\\users\\shres\\.conda\\envs\\cuda_test\\lib\\site-packages (2.7.0+cu128)\n",
            "Requirement already satisfied: torchvision in c:\\users\\shres\\.conda\\envs\\cuda_test\\lib\\site-packages (0.22.0+cu128)\n",
            "Requirement already satisfied: torchaudio in c:\\users\\shres\\.conda\\envs\\cuda_test\\lib\\site-packages (2.7.0+cu128)\n",
            "Requirement already satisfied: filelock in c:\\users\\shres\\.conda\\envs\\cuda_test\\lib\\site-packages (from torch) (3.13.1)\n",
            "Requirement already satisfied: typing-extensions>=4.10.0 in c:\\users\\shres\\.conda\\envs\\cuda_test\\lib\\site-packages (from torch) (4.13.2)\n",
            "Requirement already satisfied: sympy>=1.13.3 in c:\\users\\shres\\appdata\\roaming\\python\\python312\\site-packages (from torch) (1.14.0)\n",
            "Requirement already satisfied: networkx in c:\\users\\shres\\.conda\\envs\\cuda_test\\lib\\site-packages (from torch) (3.3)\n",
            "Requirement already satisfied: jinja2 in c:\\users\\shres\\.conda\\envs\\cuda_test\\lib\\site-packages (from torch) (3.1.4)\n",
            "Requirement already satisfied: fsspec in c:\\users\\shres\\.conda\\envs\\cuda_test\\lib\\site-packages (from torch) (2024.6.1)\n",
            "Requirement already satisfied: setuptools in c:\\users\\shres\\.conda\\envs\\cuda_test\\lib\\site-packages (from torch) (75.8.0)\n",
            "Requirement already satisfied: numpy in c:\\users\\shres\\.conda\\envs\\cuda_test\\lib\\site-packages (from torchvision) (2.2.5)\n",
            "Requirement already satisfied: pillow!=8.3.*,>=5.3.0 in c:\\users\\shres\\.conda\\envs\\cuda_test\\lib\\site-packages (from torchvision) (11.0.0)\n",
            "Requirement already satisfied: mpmath<1.4,>=1.1.0 in c:\\users\\shres\\.conda\\envs\\cuda_test\\lib\\site-packages (from sympy>=1.13.3->torch) (1.3.0)\n",
            "Requirement already satisfied: MarkupSafe>=2.0 in c:\\users\\shres\\.conda\\envs\\cuda_test\\lib\\site-packages (from jinja2->torch) (2.1.5)\n"
          ]
        },
        {
          "name": "stderr",
          "output_type": "stream",
          "text": [
            "WARNING: Ignoring invalid distribution ~orch (C:\\Users\\shres\\AppData\\Roaming\\Python\\Python312\\site-packages)\n",
            "WARNING: Ignoring invalid distribution ~orch (C:\\Users\\shres\\AppData\\Roaming\\Python\\Python312\\site-packages)\n",
            "WARNING: Ignoring invalid distribution ~orch (C:\\Users\\shres\\AppData\\Roaming\\Python\\Python312\\site-packages)\n",
            "WARNING: Ignoring invalid distribution ~orch (C:\\Users\\shres\\AppData\\Roaming\\Python\\Python312\\site-packages)\n",
            "WARNING: Ignoring invalid distribution ~orch (C:\\Users\\shres\\AppData\\Roaming\\Python\\Python312\\site-packages)\n"
          ]
        },
        {
          "name": "stdout",
          "output_type": "stream",
          "text": [
            "Requirement already satisfied: imageio[ffmpeg] in c:\\users\\shres\\.conda\\envs\\cuda_test\\lib\\site-packages (2.37.0)\n",
            "Requirement already satisfied: numpy in c:\\users\\shres\\.conda\\envs\\cuda_test\\lib\\site-packages (from imageio[ffmpeg]) (2.2.5)\n",
            "Requirement already satisfied: pillow>=8.3.2 in c:\\users\\shres\\.conda\\envs\\cuda_test\\lib\\site-packages (from imageio[ffmpeg]) (11.0.0)\n",
            "Requirement already satisfied: imageio-ffmpeg in c:\\users\\shres\\.conda\\envs\\cuda_test\\lib\\site-packages (from imageio[ffmpeg]) (0.6.0)\n",
            "Requirement already satisfied: psutil in c:\\users\\shres\\appdata\\roaming\\python\\python312\\site-packages (from imageio[ffmpeg]) (7.0.0)\n"
          ]
        },
        {
          "name": "stderr",
          "output_type": "stream",
          "text": [
            "WARNING: Ignoring invalid distribution ~orch (C:\\Users\\shres\\AppData\\Roaming\\Python\\Python312\\site-packages)\n",
            "WARNING: Ignoring invalid distribution ~orch (C:\\Users\\shres\\AppData\\Roaming\\Python\\Python312\\site-packages)\n",
            "WARNING: Ignoring invalid distribution ~orch (C:\\Users\\shres\\AppData\\Roaming\\Python\\Python312\\site-packages)\n",
            "WARNING: Ignoring invalid distribution ~orch (C:\\Users\\shres\\AppData\\Roaming\\Python\\Python312\\site-packages)\n",
            "WARNING: Ignoring invalid distribution ~orch (C:\\Users\\shres\\AppData\\Roaming\\Python\\Python312\\site-packages)\n"
          ]
        },
        {
          "name": "stdout",
          "output_type": "stream",
          "text": [
            "Requirement already satisfied: imageio[ffmpeg] in c:\\users\\shres\\.conda\\envs\\cuda_test\\lib\\site-packages (2.37.0)\n",
            "Requirement already satisfied: numpy in c:\\users\\shres\\.conda\\envs\\cuda_test\\lib\\site-packages (from imageio[ffmpeg]) (2.2.5)\n",
            "Requirement already satisfied: pillow>=8.3.2 in c:\\users\\shres\\.conda\\envs\\cuda_test\\lib\\site-packages (from imageio[ffmpeg]) (11.0.0)\n",
            "Requirement already satisfied: imageio-ffmpeg in c:\\users\\shres\\.conda\\envs\\cuda_test\\lib\\site-packages (from imageio[ffmpeg]) (0.6.0)\n",
            "Requirement already satisfied: psutil in c:\\users\\shres\\appdata\\roaming\\python\\python312\\site-packages (from imageio[ffmpeg]) (7.0.0)\n"
          ]
        },
        {
          "name": "stderr",
          "output_type": "stream",
          "text": [
            "WARNING: Ignoring invalid distribution ~orch (C:\\Users\\shres\\AppData\\Roaming\\Python\\Python312\\site-packages)\n",
            "WARNING: Ignoring invalid distribution ~orch (C:\\Users\\shres\\AppData\\Roaming\\Python\\Python312\\site-packages)\n",
            "WARNING: Ignoring invalid distribution ~orch (C:\\Users\\shres\\AppData\\Roaming\\Python\\Python312\\site-packages)\n",
            "WARNING: Ignoring invalid distribution ~orch (C:\\Users\\shres\\AppData\\Roaming\\Python\\Python312\\site-packages)\n",
            "WARNING: Ignoring invalid distribution ~orch (C:\\Users\\shres\\AppData\\Roaming\\Python\\Python312\\site-packages)\n"
          ]
        }
      ],
      "source": [
        "!pip install gymnasium\n",
        "!pip install gymnasium==1.0.0\n",
        "!pip install swig\n",
        "!pip install \"gymnasium[box2d]\"\n",
        "!pip install imageio\n",
        "!pip install ipython\n",
        "!pip install torch torchvision torchaudio --index-url https://download.pytorch.org/whl/cu128\n",
        "!pip install \"imageio[ffmpeg]\"\n",
        "!pip install \"imageio[ffmpeg]\""
      ]
    },
    {
      "cell_type": "markdown",
      "metadata": {},
      "source": [
        "### Checking for availibility of CUDA Cores"
      ]
    },
    {
      "cell_type": "code",
      "execution_count": 2,
      "metadata": {},
      "outputs": [
        {
          "name": "stdout",
          "output_type": "stream",
          "text": [
            "True\n"
          ]
        }
      ],
      "source": [
        "import torch\n",
        "if torch.cuda.is_available():\n",
        "    cuda_bit = 1\n",
        "else:\n",
        "    cuda_bit = 0\n",
        "\n",
        "print(torch.cuda.is_available())"
      ]
    },
    {
      "cell_type": "markdown",
      "metadata": {
        "id": "brqiMN3UW9T9"
      },
      "source": [
        "### Importing the libraries"
      ]
    },
    {
      "cell_type": "code",
      "execution_count": 3,
      "metadata": {
        "id": "mZaKXP_aMl9O"
      },
      "outputs": [],
      "source": [
        "import os #for os\n",
        "import random #for random numbers\n",
        "import numpy as np #for arrays\n",
        "import torch # to train agent w pytorch\n",
        "import torch.nn as nn #neural network module\n",
        "import torch.optim as optim # optimal module\n",
        "import torch.nn.functional as F #functions pre made for training\n",
        "import torch.autograd as autograd # for stochastic gradient descent\n",
        "from torch.autograd import Variable #training\n",
        "from collections import deque, namedtuple #training"
      ]
    },
    {
      "cell_type": "markdown",
      "metadata": {
        "id": "EzlDKXvkXzGI"
      },
      "source": [
        "## Part 1 - Building the AI"
      ]
    },
    {
      "cell_type": "markdown",
      "metadata": {
        "id": "UtG6Zc83YYy3"
      },
      "source": [
        "### Creating the architecture of the Neural Network"
      ]
    },
    {
      "cell_type": "code",
      "execution_count": 4,
      "metadata": {
        "id": "QWpMLoF4qf-9"
      },
      "outputs": [],
      "source": [
        "class NeuNet(nn.Module): #inherits from nn.module\n",
        "\n",
        "  def __init__(self, state_size, action_size, seed=42):\n",
        "    super(NeuNet, self).__init__()\n",
        "    self.seed = torch.manual_seed(seed)\n",
        "    self.fc1 = nn.Linear(state_size, 64) #Input Layer\n",
        "    self.fc2 = nn.Linear(64, 64) #Hidden Layer\n",
        "    self.fc3 = nn.Linear(64, action_size) #Output Layer\n",
        "\n",
        "  def forward(self, state):\n",
        "    x = self.fc1(state)\n",
        "    x = F.relu(x) #rectifier activation function from torch.nn.functional\n",
        "    #Gone from first fully conected layer to the second\n",
        "    x = self.fc2(x)\n",
        "    x = F.relu(x)\n",
        "    return self.fc3(x) #output layer"
      ]
    },
    {
      "cell_type": "markdown",
      "metadata": {
        "id": "eKr-lMG2EH9Y"
      },
      "source": [
        "\n",
        "\n",
        "*   fc1 is input layer. Number can be anything however, post testing, 64 is the most optimal in cases for lunar landings in gymnasium\n",
        "*   fc2 is hidden layer\n",
        "*   fc3 is output layer. action size is 4\n",
        "*   DEF FORWARD\n",
        "\n",
        "\n",
        "\n",
        "\n"
      ]
    },
    {
      "cell_type": "markdown",
      "metadata": {
        "id": "UxVrBnFWZKb1"
      },
      "source": [
        "## Part 2 - Training the AI"
      ]
    },
    {
      "cell_type": "markdown",
      "metadata": {
        "id": "T364fz9qZb2j"
      },
      "source": [
        "### Setting up the environment"
      ]
    },
    {
      "cell_type": "code",
      "execution_count": 5,
      "metadata": {
        "colab": {
          "base_uri": "https://localhost:8080/"
        },
        "id": "41sgnpCwtd5f",
        "outputId": "2aa4e61c-f53e-4990-e153-098b302c2218"
      },
      "outputs": [
        {
          "name": "stdout",
          "output_type": "stream",
          "text": [
            "State shape:  (8,)\n",
            "State size:  8\n",
            "Number of actions:  4\n"
          ]
        }
      ],
      "source": [
        "import gymnasium as gym\n",
        "env = gym.make(\"LunarLander-v3\")\n",
        "state_shape = env.observation_space.shape #Vector\n",
        "state_size = env.observation_space.shape[0] #current state of env\n",
        "number_actions = env.action_space.n #Number of actions\n",
        "print('State shape: ', state_shape)\n",
        "print('State size: ', state_size)\n",
        "print('Number of actions: ', number_actions)"
      ]
    },
    {
      "cell_type": "markdown",
      "metadata": {
        "id": "c_dZmOIvZgj-"
      },
      "source": [
        "### Initializing the hyperparameters"
      ]
    },
    {
      "cell_type": "code",
      "execution_count": 6,
      "metadata": {
        "id": "UuQh3LTvIKHY"
      },
      "outputs": [],
      "source": [
        "learning_rate = 5e-4 #derived from experimentation\n",
        "minibatch_size = 100\n",
        "gamma = 0.99 #discount factor\n",
        "replay_buffer_size = int(1e5) #no. of experiences\n",
        "tau = 1e-3 #Interpolation parameter"
      ]
    },
    {
      "cell_type": "markdown",
      "metadata": {
        "id": "8hD_Vs-bYnip"
      },
      "source": [
        "### Implementing Experience Replay"
      ]
    },
    {
      "cell_type": "code",
      "execution_count": 7,
      "metadata": {
        "id": "K932ufvF3uQM"
      },
      "outputs": [],
      "source": [
        "class ReplayMemory(object):\n",
        "\n",
        "  def __init__(self, capacity):\n",
        "    self.device = torch.device(\"cuda:0\" if torch.cuda.is_available() else \"cpu\") #if exterior device(gpu) is present. uses that hardware to process\n",
        "    self.capacity = capacity #total size of memory size\n",
        "    self.memory = [ ]\n",
        "\n",
        "  def push(self, event): #appends event and removes oldest event if memory is full\n",
        "    self.memory.append(event)\n",
        "    if len(self.memory) > self.capacity:\n",
        "      del self.memory[0]\n",
        "\n",
        "  def sample(self, batch_size):\n",
        "    exp = random.sample(self.memory, k = batch_size)\n",
        "    state = torch.from_numpy(np.vstack([e[0] for e in exp if e is not None])).float().to(self.device) #states converted to tensors and float values and send to gpu or cpu\n",
        "    action = torch.from_numpy(np.vstack([e[1] for e in exp if e is not None])).long().to(self.device) #same as states but long integers\n",
        "    rewards = torch.from_numpy(np.vstack([e[2] for e in exp if e is not None])).float().to(self.device)\n",
        "    next_state = torch.from_numpy(np.vstack([e[3] for e in exp if e is not None])).float().to(self.device)\n",
        "    dones = torch.from_numpy(np.vstack([e[4] for e in exp if e is not None]).astype(np.uint8)).float().to(self.device)\n",
        "    return state, next_state, action, rewards, dones"
      ]
    },
    {
      "cell_type": "markdown",
      "metadata": {
        "id": "JmEkbFbUY6Jt"
      },
      "source": [
        "### Implementing the DQN class"
      ]
    },
    {
      "cell_type": "code",
      "execution_count": 8,
      "metadata": {
        "id": "X4O4QC9a7wUs"
      },
      "outputs": [],
      "source": [
        "class Agent():\n",
        "\n",
        "  def __init__(self, state_size, action_size):\n",
        "    self.device = torch.device(\"cuda:0\" if cuda_bit==1 else \"cpu\") #if exterior device(gpu) is present. uses that hardware to process\n",
        "    self.state_size = state_size\n",
        "    self.action_size = action_size\n",
        "    self.local_qnetwork = NeuNet(state_size, action_size).to(self.device)\n",
        "    self.target_qnetwork = NeuNet(state_size, action_size).to(self.device)\n",
        "    self.optimizer = optim.Adam(self.local_qnetwork.parameters(), lr = learning_rate)\n",
        "    self.memory = ReplayMemory(replay_buffer_size)\n",
        "    self.t_step = 0\n",
        "\n",
        "  def step(self, state, action, reward, next_state, done):\n",
        "    self.memory.push((state, action, reward, next_state, done))\n",
        "    self.t_step = (self.t_step + 1) % 4\n",
        "    if self.t_step == 0:\n",
        "      if len(self.memory.memory) > minibatch_size: #self.memory.memory second memory is attribute. while self.memory is the instance of the memory class\n",
        "        exp_local = self.memory.sample(minibatch_size) #samples 100 experiences from the memory\n",
        "        self.learn(exp_local, gamma)\n",
        "\n",
        "  def act(self, state, epsilon = 0.):\n",
        "    state = torch.from_numpy(state).float().unsqueeze(0).to(self.device) #set as torch tensor and an extra variable to the vector to show batch number\n",
        "    self.local_qnetwork.eval()\n",
        "    with torch.no_grad():\n",
        "      action_values = self.local_qnetwork(state)\n",
        "    self.local_qnetwork.train()\n",
        "    if random.random() > epsilon: #epsilon greedy action selection policy\n",
        "      return np.argmax(action_values.cpu().data.numpy())\n",
        "    else:\n",
        "      return random.choice(np.arange(self.action_size))\n",
        "\n",
        "  def learn(self, exp, gamma):\n",
        "    states,next_states, actions, rewards, dones = exp\n",
        "    next_q_targets = self.target_qnetwork(next_states).detach().max(1)[0].unsqueeze(1)\n",
        "    q_targets = rewards + (gamma * next_q_targets * (1 - dones))\n",
        "    q_expected = self.local_qnetwork(states).gather(1, actions)\n",
        "    loss = F.mse_loss(q_expected, q_targets)\n",
        "    self.optimizer.zero_grad()\n",
        "    loss.backward()\n",
        "    self.optimizer.step()\n",
        "    self.soft_update(self.local_qnetwork, self.target_qnetwork, tau)\n",
        "\n",
        "  def soft_update(self, local_model, target_model, tau):\n",
        "    for target_param, local_param in zip(target_model.parameters(), local_model.parameters()):\n",
        "      target_param.data.copy_(tau * local_param.data + (1.0 - tau) * target_param.data)\n",
        "\n",
        "\n",
        "\n",
        "\n",
        "\n"
      ]
    },
    {
      "cell_type": "markdown",
      "metadata": {
        "id": "o1tZElccZmf6"
      },
      "source": [
        "### Initializing the DQN agent"
      ]
    },
    {
      "cell_type": "code",
      "execution_count": 9,
      "metadata": {
        "id": "LQHsKhwdSSA5"
      },
      "outputs": [],
      "source": [
        "agent = Agent(state_size, number_actions)"
      ]
    },
    {
      "cell_type": "markdown",
      "metadata": {
        "id": "E8v0PtUfaVQp"
      },
      "source": [
        "### Training the DQN agent"
      ]
    },
    {
      "cell_type": "code",
      "execution_count": null,
      "metadata": {
        "colab": {
          "base_uri": "https://localhost:8080/"
        },
        "id": "yL53_97fTCFi",
        "outputId": "a2598c14-f3b3-45a2-89e3-9e5cac7c9564"
      },
      "outputs": [
        {
          "name": "stdout",
          "output_type": "stream",
          "text": [
            "Episode Number 100\tAverage Score: -152.77\n",
            "Episode Number 200\tAverage Score: -126.69\n",
            "Episode Number 300\tAverage Score: -40.812\n",
            "Episode Number 400\tAverage Score: 33.758\n",
            "Episode Number 500\tAverage Score: 131.77\n",
            "Episode Number 600\tAverage Score: 210.72\n",
            "Episode Number 700\tAverage Score: 237.72\n",
            "Episode Number 800\tAverage Score: 238.22\n",
            "Episode Number 900\tAverage Score: 242.15\n",
            "Episode Number 1000\tAverage Score: 238.89\n",
            "\n",
            "Enviroment solved in 1000 episodes!Episode Number \tAverage Score: 238.89\n"
          ]
        }
      ],
      "source": [
        "number_ep = 2000\n",
        "max_num_timesteps_per_ep = 1000\n",
        "epsilon_start = 1.0\n",
        "epsilon_end = 0.01\n",
        "epsilon_decay = 0.995\n",
        "epsilon = epsilon_start\n",
        "scores = deque(maxlen = 100)\n",
        "\n",
        "for episode in range(1, number_ep + 1):\n",
        "  state, _ = env.reset() #other information is discarded w underscore\n",
        "  score = 0\n",
        "  for t in range(max_num_timesteps_per_ep):\n",
        "    action = agent.act(state, epsilon)\n",
        "    next_state, reward, done, _, _ = env.step(action)\n",
        "    agent.step(state, action, reward, next_state, done)\n",
        "    state = next_state\n",
        "    score += reward\n",
        "    if done:\n",
        "      break\n",
        "  scores.append(score)\n",
        "  epsilon = max(epsilon_end, epsilon_decay*epsilon)\n",
        "  print('\\rEpisode Number {episode}\\tAverage Score: {:.2f}'.format(episode, np.mean(scores)), end=\"\")\n",
        "  if episode % 100 == 0:\n",
        "   print('\\rEpisode Number {episode}\\tAverage Score: {:.2f}'.format(episode, np.mean(scores)))\n",
        "  if (np.mean(scores) >= 200.0) & (episode >= 1000):\n",
        "      print('\\nEnviroment solved in {:d} episodes!Episode Number {episode}\\tAverage Score: {:.2f}'.format(episode, np.mean(scores)))\n",
        "      torch.save(agent.local_qnetwork.state_dict(), 'checkpoint charlie')\n",
        "      break"
      ]
    },
    {
      "cell_type": "markdown",
      "metadata": {
        "id": "O8CNwdOTcCoP"
      },
      "source": [
        "## Part 3 - Visualizing the results"
      ]
    },
    {
      "cell_type": "code",
      "execution_count": 13,
      "metadata": {
        "colab": {
          "base_uri": "https://localhost:8080/",
          "height": 459
        },
        "id": "cb9nVvU2Okhk",
        "outputId": "b8135e63-7bb2-4cff-c21a-25e66e9583ee"
      },
      "outputs": [
        {
          "name": "stderr",
          "output_type": "stream",
          "text": [
            "IMAGEIO FFMPEG_WRITER WARNING: input image is not divisible by macro_block_size=16, resizing from (600, 400) to (608, 400) to ensure video compatibility with most codecs and players. To prevent resizing, make your input image divisible by the macro_block_size or set the macro_block_size to 1 (risking incompatibility).\n"
          ]
        },
        {
          "data": {
            "text/html": [
              "<video alt=\"test\" autoplay\n",
              "                loop controls style=\"height: 400px;\">\n",
              "                <source src=\"data:video/mp4;base64,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\" type=\"video/mp4\" />\n",
              "             </video>"
            ],
            "text/plain": [
              "<IPython.core.display.HTML object>"
            ]
          },
          "metadata": {},
          "output_type": "display_data"
        }
      ],
      "source": [
        "import glob\n",
        "import io\n",
        "import base64\n",
        "import imageio\n",
        "from IPython.display import HTML, display\n",
        "\n",
        "def show_video_of_model(agent, env_name):\n",
        "    env = gym.make(env_name, render_mode='rgb_array')\n",
        "    state, _ = env.reset()\n",
        "    done = False\n",
        "    frames = []\n",
        "    while not done:\n",
        "        frame = env.render()\n",
        "        frames.append(frame)\n",
        "        action = agent.act(state)\n",
        "        state, reward, done, _, _ = env.step(action.item())\n",
        "    env.close()\n",
        "    imageio.mimsave('video.mp4', frames, fps=30)\n",
        "\n",
        "show_video_of_model(agent, 'LunarLander-v3')\n",
        "\n",
        "def show_video():\n",
        "    mp4list = glob.glob('*.mp4')\n",
        "    if len(mp4list) > 0:\n",
        "        mp4 = mp4list[0]\n",
        "        video = io.open(mp4, 'r+b').read()\n",
        "        encoded = base64.b64encode(video)\n",
        "        display(HTML(data='''<video alt=\"test\" autoplay\n",
        "                loop controls style=\"height: 400px;\">\n",
        "                <source src=\"data:video/mp4;base64,{0}\" type=\"video/mp4\" />\n",
        "             </video>'''.format(encoded.decode('ascii'))))\n",
        "    else:\n",
        "        print(\"Could not find video\")\n",
        "\n",
        "show_video()"
      ]
    }
  ],
  "metadata": {
    "colab": {
      "provenance": []
    },
    "kernelspec": {
      "display_name": "Python 3",
      "language": "python",
      "name": "python3"
    },
    "language_info": {
      "codemirror_mode": {
        "name": "ipython",
        "version": 3
      },
      "file_extension": ".py",
      "mimetype": "text/x-python",
      "name": "python",
      "nbconvert_exporter": "python",
      "pygments_lexer": "ipython3",
      "version": "3.12.9"
    }
  },
  "nbformat": 4,
  "nbformat_minor": 0
}
