{
  "cells": [
    {
      "cell_type": "markdown",
      "metadata": {
        "id": "LbZcI9ZXHl3a"
      },
      "source": [
        "# Deep Q-Learning for Lunar Landing"
      ]
    },
    {
      "cell_type": "markdown",
      "metadata": {
        "id": "E8yPRjteXgPb"
      },
      "source": [
        "## Part 0 - Installing the required packages and importing the libraries"
      ]
    },
    {
      "cell_type": "markdown",
      "metadata": {
        "id": "slEm5teGWjWU"
      },
      "source": [
        "### Installing Gymnasium"
      ]
    },
    {
      "cell_type": "code",
      "execution_count": 1,
      "metadata": {
        "colab": {
          "base_uri": "https://localhost:8080/"
        },
        "id": "dbnq3XpoKa_7",
        "outputId": "d634f61a-d623-4fc7-dab9-62382e39686d"
      },
      "outputs": [
        {
          "name": "stdout",
          "output_type": "stream",
          "text": [
            "Requirement already satisfied: gymnasium in c:\\users\\shres\\.conda\\envs\\cuda_test\\lib\\site-packages (1.0.0)\n",
            "Requirement already satisfied: numpy>=1.21.0 in c:\\users\\shres\\.conda\\envs\\cuda_test\\lib\\site-packages (from gymnasium) (2.2.5)\n",
            "Requirement already satisfied: cloudpickle>=1.2.0 in c:\\users\\shres\\.conda\\envs\\cuda_test\\lib\\site-packages (from gymnasium) (3.1.1)\n",
            "Requirement already satisfied: typing-extensions>=4.3.0 in c:\\users\\shres\\.conda\\envs\\cuda_test\\lib\\site-packages (from gymnasium) (4.13.2)\n",
            "Requirement already satisfied: farama-notifications>=0.0.1 in c:\\users\\shres\\appdata\\roaming\\python\\python312\\site-packages (from gymnasium) (0.0.4)\n"
          ]
        },
        {
          "name": "stderr",
          "output_type": "stream",
          "text": [
            "WARNING: Ignoring invalid distribution ~orch (C:\\Users\\shres\\AppData\\Roaming\\Python\\Python312\\site-packages)\n",
            "WARNING: Ignoring invalid distribution ~orch (C:\\Users\\shres\\AppData\\Roaming\\Python\\Python312\\site-packages)\n",
            "WARNING: Ignoring invalid distribution ~orch (C:\\Users\\shres\\AppData\\Roaming\\Python\\Python312\\site-packages)\n",
            "WARNING: Ignoring invalid distribution ~orch (C:\\Users\\shres\\AppData\\Roaming\\Python\\Python312\\site-packages)\n",
            "WARNING: Ignoring invalid distribution ~orch (C:\\Users\\shres\\AppData\\Roaming\\Python\\Python312\\site-packages)\n"
          ]
        },
        {
          "name": "stdout",
          "output_type": "stream",
          "text": [
            "Requirement already satisfied: gymnasium==1.0.0 in c:\\users\\shres\\.conda\\envs\\cuda_test\\lib\\site-packages (1.0.0)\n",
            "Requirement already satisfied: numpy>=1.21.0 in c:\\users\\shres\\.conda\\envs\\cuda_test\\lib\\site-packages (from gymnasium==1.0.0) (2.2.5)\n",
            "Requirement already satisfied: cloudpickle>=1.2.0 in c:\\users\\shres\\.conda\\envs\\cuda_test\\lib\\site-packages (from gymnasium==1.0.0) (3.1.1)\n",
            "Requirement already satisfied: typing-extensions>=4.3.0 in c:\\users\\shres\\.conda\\envs\\cuda_test\\lib\\site-packages (from gymnasium==1.0.0) (4.13.2)\n",
            "Requirement already satisfied: farama-notifications>=0.0.1 in c:\\users\\shres\\appdata\\roaming\\python\\python312\\site-packages (from gymnasium==1.0.0) (0.0.4)\n"
          ]
        },
        {
          "name": "stderr",
          "output_type": "stream",
          "text": [
            "WARNING: Ignoring invalid distribution ~orch (C:\\Users\\shres\\AppData\\Roaming\\Python\\Python312\\site-packages)\n",
            "WARNING: Ignoring invalid distribution ~orch (C:\\Users\\shres\\AppData\\Roaming\\Python\\Python312\\site-packages)\n",
            "WARNING: Ignoring invalid distribution ~orch (C:\\Users\\shres\\AppData\\Roaming\\Python\\Python312\\site-packages)\n",
            "WARNING: Ignoring invalid distribution ~orch (C:\\Users\\shres\\AppData\\Roaming\\Python\\Python312\\site-packages)\n",
            "WARNING: Ignoring invalid distribution ~orch (C:\\Users\\shres\\AppData\\Roaming\\Python\\Python312\\site-packages)\n"
          ]
        },
        {
          "name": "stdout",
          "output_type": "stream",
          "text": [
            "Requirement already satisfied: swig in c:\\users\\shres\\appdata\\roaming\\python\\python312\\site-packages (4.3.1)\n"
          ]
        },
        {
          "name": "stderr",
          "output_type": "stream",
          "text": [
            "WARNING: Ignoring invalid distribution ~orch (C:\\Users\\shres\\AppData\\Roaming\\Python\\Python312\\site-packages)\n",
            "WARNING: Ignoring invalid distribution ~orch (C:\\Users\\shres\\AppData\\Roaming\\Python\\Python312\\site-packages)\n",
            "WARNING: Ignoring invalid distribution ~orch (C:\\Users\\shres\\AppData\\Roaming\\Python\\Python312\\site-packages)\n",
            "WARNING: Ignoring invalid distribution ~orch (C:\\Users\\shres\\AppData\\Roaming\\Python\\Python312\\site-packages)\n",
            "WARNING: Ignoring invalid distribution ~orch (C:\\Users\\shres\\AppData\\Roaming\\Python\\Python312\\site-packages)\n"
          ]
        },
        {
          "name": "stdout",
          "output_type": "stream",
          "text": [
            "Requirement already satisfied: gymnasium[box2d] in c:\\users\\shres\\.conda\\envs\\cuda_test\\lib\\site-packages (1.0.0)\n",
            "Requirement already satisfied: numpy>=1.21.0 in c:\\users\\shres\\.conda\\envs\\cuda_test\\lib\\site-packages (from gymnasium[box2d]) (2.2.5)\n",
            "Requirement already satisfied: cloudpickle>=1.2.0 in c:\\users\\shres\\.conda\\envs\\cuda_test\\lib\\site-packages (from gymnasium[box2d]) (3.1.1)\n",
            "Requirement already satisfied: typing-extensions>=4.3.0 in c:\\users\\shres\\.conda\\envs\\cuda_test\\lib\\site-packages (from gymnasium[box2d]) (4.13.2)\n",
            "Requirement already satisfied: farama-notifications>=0.0.1 in c:\\users\\shres\\appdata\\roaming\\python\\python312\\site-packages (from gymnasium[box2d]) (0.0.4)\n",
            "Requirement already satisfied: box2d-py==2.3.5 in c:\\users\\shres\\.conda\\envs\\cuda_test\\lib\\site-packages (from gymnasium[box2d]) (2.3.5)\n",
            "Requirement already satisfied: pygame>=2.1.3 in c:\\users\\shres\\.conda\\envs\\cuda_test\\lib\\site-packages (from gymnasium[box2d]) (2.6.1)\n",
            "Requirement already satisfied: swig==4.* in c:\\users\\shres\\appdata\\roaming\\python\\python312\\site-packages (from gymnasium[box2d]) (4.3.1)\n"
          ]
        },
        {
          "name": "stderr",
          "output_type": "stream",
          "text": [
            "WARNING: Ignoring invalid distribution ~orch (C:\\Users\\shres\\AppData\\Roaming\\Python\\Python312\\site-packages)\n",
            "WARNING: Ignoring invalid distribution ~orch (C:\\Users\\shres\\AppData\\Roaming\\Python\\Python312\\site-packages)\n",
            "WARNING: Ignoring invalid distribution ~orch (C:\\Users\\shres\\AppData\\Roaming\\Python\\Python312\\site-packages)\n",
            "WARNING: Ignoring invalid distribution ~orch (C:\\Users\\shres\\AppData\\Roaming\\Python\\Python312\\site-packages)\n",
            "WARNING: Ignoring invalid distribution ~orch (C:\\Users\\shres\\AppData\\Roaming\\Python\\Python312\\site-packages)\n"
          ]
        },
        {
          "name": "stdout",
          "output_type": "stream",
          "text": [
            "Requirement already satisfied: imageio in c:\\users\\shres\\.conda\\envs\\cuda_test\\lib\\site-packages (2.37.0)\n",
            "Requirement already satisfied: numpy in c:\\users\\shres\\.conda\\envs\\cuda_test\\lib\\site-packages (from imageio) (2.2.5)\n",
            "Requirement already satisfied: pillow>=8.3.2 in c:\\users\\shres\\.conda\\envs\\cuda_test\\lib\\site-packages (from imageio) (11.0.0)\n"
          ]
        },
        {
          "name": "stderr",
          "output_type": "stream",
          "text": [
            "WARNING: Ignoring invalid distribution ~orch (C:\\Users\\shres\\AppData\\Roaming\\Python\\Python312\\site-packages)\n",
            "WARNING: Ignoring invalid distribution ~orch (C:\\Users\\shres\\AppData\\Roaming\\Python\\Python312\\site-packages)\n",
            "WARNING: Ignoring invalid distribution ~orch (C:\\Users\\shres\\AppData\\Roaming\\Python\\Python312\\site-packages)\n",
            "WARNING: Ignoring invalid distribution ~orch (C:\\Users\\shres\\AppData\\Roaming\\Python\\Python312\\site-packages)\n",
            "WARNING: Ignoring invalid distribution ~orch (C:\\Users\\shres\\AppData\\Roaming\\Python\\Python312\\site-packages)\n"
          ]
        },
        {
          "name": "stdout",
          "output_type": "stream",
          "text": [
            "Requirement already satisfied: ipython in c:\\users\\shres\\appdata\\roaming\\python\\python312\\site-packages (9.1.0)\n",
            "Requirement already satisfied: colorama in c:\\users\\shres\\appdata\\roaming\\python\\python312\\site-packages (from ipython) (0.4.6)\n",
            "Requirement already satisfied: decorator in c:\\users\\shres\\appdata\\roaming\\python\\python312\\site-packages (from ipython) (5.2.1)\n",
            "Requirement already satisfied: ipython-pygments-lexers in c:\\users\\shres\\appdata\\roaming\\python\\python312\\site-packages (from ipython) (1.1.1)\n",
            "Requirement already satisfied: jedi>=0.16 in c:\\users\\shres\\appdata\\roaming\\python\\python312\\site-packages (from ipython) (0.19.2)\n",
            "Requirement already satisfied: matplotlib-inline in c:\\users\\shres\\appdata\\roaming\\python\\python312\\site-packages (from ipython) (0.1.7)\n",
            "Requirement already satisfied: prompt_toolkit<3.1.0,>=3.0.41 in c:\\users\\shres\\appdata\\roaming\\python\\python312\\site-packages (from ipython) (3.0.51)\n",
            "Requirement already satisfied: pygments>=2.4.0 in c:\\users\\shres\\appdata\\roaming\\python\\python312\\site-packages (from ipython) (2.19.1)\n",
            "Requirement already satisfied: stack_data in c:\\users\\shres\\appdata\\roaming\\python\\python312\\site-packages (from ipython) (0.6.3)\n",
            "Requirement already satisfied: traitlets>=5.13.0 in c:\\users\\shres\\appdata\\roaming\\python\\python312\\site-packages (from ipython) (5.14.3)\n",
            "Requirement already satisfied: parso<0.9.0,>=0.8.4 in c:\\users\\shres\\appdata\\roaming\\python\\python312\\site-packages (from jedi>=0.16->ipython) (0.8.4)\n",
            "Requirement already satisfied: wcwidth in c:\\users\\shres\\appdata\\roaming\\python\\python312\\site-packages (from prompt_toolkit<3.1.0,>=3.0.41->ipython) (0.2.13)\n",
            "Requirement already satisfied: executing>=1.2.0 in c:\\users\\shres\\appdata\\roaming\\python\\python312\\site-packages (from stack_data->ipython) (2.2.0)\n",
            "Requirement already satisfied: asttokens>=2.1.0 in c:\\users\\shres\\appdata\\roaming\\python\\python312\\site-packages (from stack_data->ipython) (3.0.0)\n",
            "Requirement already satisfied: pure-eval in c:\\users\\shres\\appdata\\roaming\\python\\python312\\site-packages (from stack_data->ipython) (0.2.3)\n"
          ]
        },
        {
          "name": "stderr",
          "output_type": "stream",
          "text": [
            "WARNING: Ignoring invalid distribution ~orch (C:\\Users\\shres\\AppData\\Roaming\\Python\\Python312\\site-packages)\n",
            "WARNING: Ignoring invalid distribution ~orch (C:\\Users\\shres\\AppData\\Roaming\\Python\\Python312\\site-packages)\n",
            "WARNING: Ignoring invalid distribution ~orch (C:\\Users\\shres\\AppData\\Roaming\\Python\\Python312\\site-packages)\n",
            "WARNING: Ignoring invalid distribution ~orch (C:\\Users\\shres\\AppData\\Roaming\\Python\\Python312\\site-packages)\n",
            "WARNING: Ignoring invalid distribution ~orch (C:\\Users\\shres\\AppData\\Roaming\\Python\\Python312\\site-packages)\n"
          ]
        },
        {
          "name": "stdout",
          "output_type": "stream",
          "text": [
            "Looking in indexes: https://download.pytorch.org/whl/cu128\n",
            "Requirement already satisfied: torch in c:\\users\\shres\\.conda\\envs\\cuda_test\\lib\\site-packages (2.7.0+cu128)\n",
            "Requirement already satisfied: torchvision in c:\\users\\shres\\.conda\\envs\\cuda_test\\lib\\site-packages (0.22.0+cu128)\n",
            "Requirement already satisfied: torchaudio in c:\\users\\shres\\.conda\\envs\\cuda_test\\lib\\site-packages (2.7.0+cu128)\n",
            "Requirement already satisfied: filelock in c:\\users\\shres\\.conda\\envs\\cuda_test\\lib\\site-packages (from torch) (3.13.1)\n",
            "Requirement already satisfied: typing-extensions>=4.10.0 in c:\\users\\shres\\.conda\\envs\\cuda_test\\lib\\site-packages (from torch) (4.13.2)\n",
            "Requirement already satisfied: sympy>=1.13.3 in c:\\users\\shres\\appdata\\roaming\\python\\python312\\site-packages (from torch) (1.14.0)\n",
            "Requirement already satisfied: networkx in c:\\users\\shres\\.conda\\envs\\cuda_test\\lib\\site-packages (from torch) (3.3)\n",
            "Requirement already satisfied: jinja2 in c:\\users\\shres\\.conda\\envs\\cuda_test\\lib\\site-packages (from torch) (3.1.4)\n",
            "Requirement already satisfied: fsspec in c:\\users\\shres\\.conda\\envs\\cuda_test\\lib\\site-packages (from torch) (2024.6.1)\n",
            "Requirement already satisfied: setuptools in c:\\users\\shres\\.conda\\envs\\cuda_test\\lib\\site-packages (from torch) (75.8.0)\n",
            "Requirement already satisfied: numpy in c:\\users\\shres\\.conda\\envs\\cuda_test\\lib\\site-packages (from torchvision) (2.2.5)\n",
            "Requirement already satisfied: pillow!=8.3.*,>=5.3.0 in c:\\users\\shres\\.conda\\envs\\cuda_test\\lib\\site-packages (from torchvision) (11.0.0)\n",
            "Requirement already satisfied: mpmath<1.4,>=1.1.0 in c:\\users\\shres\\.conda\\envs\\cuda_test\\lib\\site-packages (from sympy>=1.13.3->torch) (1.3.0)\n",
            "Requirement already satisfied: MarkupSafe>=2.0 in c:\\users\\shres\\.conda\\envs\\cuda_test\\lib\\site-packages (from jinja2->torch) (2.1.5)\n"
          ]
        },
        {
          "name": "stderr",
          "output_type": "stream",
          "text": [
            "WARNING: Ignoring invalid distribution ~orch (C:\\Users\\shres\\AppData\\Roaming\\Python\\Python312\\site-packages)\n",
            "WARNING: Ignoring invalid distribution ~orch (C:\\Users\\shres\\AppData\\Roaming\\Python\\Python312\\site-packages)\n",
            "WARNING: Ignoring invalid distribution ~orch (C:\\Users\\shres\\AppData\\Roaming\\Python\\Python312\\site-packages)\n",
            "WARNING: Ignoring invalid distribution ~orch (C:\\Users\\shres\\AppData\\Roaming\\Python\\Python312\\site-packages)\n",
            "WARNING: Ignoring invalid distribution ~orch (C:\\Users\\shres\\AppData\\Roaming\\Python\\Python312\\site-packages)\n"
          ]
        },
        {
          "name": "stdout",
          "output_type": "stream",
          "text": [
            "Requirement already satisfied: imageio[ffmpeg] in c:\\users\\shres\\.conda\\envs\\cuda_test\\lib\\site-packages (2.37.0)\n",
            "Requirement already satisfied: numpy in c:\\users\\shres\\.conda\\envs\\cuda_test\\lib\\site-packages (from imageio[ffmpeg]) (2.2.5)\n",
            "Requirement already satisfied: pillow>=8.3.2 in c:\\users\\shres\\.conda\\envs\\cuda_test\\lib\\site-packages (from imageio[ffmpeg]) (11.0.0)\n",
            "Requirement already satisfied: imageio-ffmpeg in c:\\users\\shres\\.conda\\envs\\cuda_test\\lib\\site-packages (from imageio[ffmpeg]) (0.6.0)\n",
            "Requirement already satisfied: psutil in c:\\users\\shres\\appdata\\roaming\\python\\python312\\site-packages (from imageio[ffmpeg]) (7.0.0)\n"
          ]
        },
        {
          "name": "stderr",
          "output_type": "stream",
          "text": [
            "WARNING: Ignoring invalid distribution ~orch (C:\\Users\\shres\\AppData\\Roaming\\Python\\Python312\\site-packages)\n",
            "WARNING: Ignoring invalid distribution ~orch (C:\\Users\\shres\\AppData\\Roaming\\Python\\Python312\\site-packages)\n",
            "WARNING: Ignoring invalid distribution ~orch (C:\\Users\\shres\\AppData\\Roaming\\Python\\Python312\\site-packages)\n",
            "WARNING: Ignoring invalid distribution ~orch (C:\\Users\\shres\\AppData\\Roaming\\Python\\Python312\\site-packages)\n",
            "WARNING: Ignoring invalid distribution ~orch (C:\\Users\\shres\\AppData\\Roaming\\Python\\Python312\\site-packages)\n"
          ]
        },
        {
          "name": "stdout",
          "output_type": "stream",
          "text": [
            "Requirement already satisfied: imageio[ffmpeg] in c:\\users\\shres\\.conda\\envs\\cuda_test\\lib\\site-packages (2.37.0)\n",
            "Requirement already satisfied: numpy in c:\\users\\shres\\.conda\\envs\\cuda_test\\lib\\site-packages (from imageio[ffmpeg]) (2.2.5)\n",
            "Requirement already satisfied: pillow>=8.3.2 in c:\\users\\shres\\.conda\\envs\\cuda_test\\lib\\site-packages (from imageio[ffmpeg]) (11.0.0)\n",
            "Requirement already satisfied: imageio-ffmpeg in c:\\users\\shres\\.conda\\envs\\cuda_test\\lib\\site-packages (from imageio[ffmpeg]) (0.6.0)\n",
            "Requirement already satisfied: psutil in c:\\users\\shres\\appdata\\roaming\\python\\python312\\site-packages (from imageio[ffmpeg]) (7.0.0)\n"
          ]
        },
        {
          "name": "stderr",
          "output_type": "stream",
          "text": [
            "WARNING: Ignoring invalid distribution ~orch (C:\\Users\\shres\\AppData\\Roaming\\Python\\Python312\\site-packages)\n",
            "WARNING: Ignoring invalid distribution ~orch (C:\\Users\\shres\\AppData\\Roaming\\Python\\Python312\\site-packages)\n",
            "WARNING: Ignoring invalid distribution ~orch (C:\\Users\\shres\\AppData\\Roaming\\Python\\Python312\\site-packages)\n",
            "WARNING: Ignoring invalid distribution ~orch (C:\\Users\\shres\\AppData\\Roaming\\Python\\Python312\\site-packages)\n",
            "WARNING: Ignoring invalid distribution ~orch (C:\\Users\\shres\\AppData\\Roaming\\Python\\Python312\\site-packages)\n"
          ]
        }
      ],
      "source": [
        "!pip install gymnasium\n",
        "!pip install gymnasium==1.0.0\n",
        "!pip install swig\n",
        "!pip install \"gymnasium[box2d]\"\n",
        "!pip install imageio\n",
        "!pip install ipython\n",
        "!pip install torch torchvision torchaudio --index-url https://download.pytorch.org/whl/cu128\n",
        "!pip install \"imageio[ffmpeg]\"\n",
        "!pip install \"imageio[ffmpeg]\""
      ]
    },
    {
      "cell_type": "markdown",
      "metadata": {},
      "source": [
        "### Checking for availibility of CUDA Cores"
      ]
    },
    {
      "cell_type": "code",
      "execution_count": 2,
      "metadata": {},
      "outputs": [
        {
          "name": "stdout",
          "output_type": "stream",
          "text": [
            "True\n"
          ]
        }
      ],
      "source": [
        "import torch\n",
        "if torch.cuda.is_available():\n",
        "    cuda_bit = 1\n",
        "else:\n",
        "    cuda_bit = 0\n",
        "\n",
        "print(torch.cuda.is_available())"
      ]
    },
    {
      "cell_type": "markdown",
      "metadata": {
        "id": "brqiMN3UW9T9"
      },
      "source": [
        "### Importing the libraries"
      ]
    },
    {
      "cell_type": "code",
      "execution_count": 3,
      "metadata": {
        "id": "mZaKXP_aMl9O"
      },
      "outputs": [],
      "source": [
        "import os #for os\n",
        "import random #for random numbers\n",
        "import numpy as np #for arrays\n",
        "import torch # to train agent w pytorch\n",
        "import torch.nn as nn #neural network module\n",
        "import torch.optim as optim # optimal module\n",
        "import torch.nn.functional as F #functions pre made for training\n",
        "import torch.autograd as autograd # for stochastic gradient descent\n",
        "from torch.autograd import Variable #training\n",
        "from collections import deque, namedtuple #training"
      ]
    },
    {
      "cell_type": "markdown",
      "metadata": {
        "id": "EzlDKXvkXzGI"
      },
      "source": [
        "## Part 1 - Building the AI"
      ]
    },
    {
      "cell_type": "markdown",
      "metadata": {
        "id": "UtG6Zc83YYy3"
      },
      "source": [
        "### Creating the architecture of the Neural Network"
      ]
    },
    {
      "cell_type": "code",
      "execution_count": 4,
      "metadata": {
        "id": "QWpMLoF4qf-9"
      },
      "outputs": [],
      "source": [
        "class NeuNet(nn.Module): #inherits from nn.module\n",
        "\n",
        "  def __init__(self, state_size, action_size, seed=42):\n",
        "    super(NeuNet, self).__init__()\n",
        "    self.seed = torch.manual_seed(seed)\n",
        "    self.fc1 = nn.Linear(state_size, 128) #Input Layer\n",
        "    self.fc2 = nn.Linear(128, 128) #Hidden Layer\n",
        "    self.fc3 = nn.Linear(128, action_size) #Output Layer\n",
        "\n",
        "  def forward(self, state):\n",
        "    x = self.fc1(state)\n",
        "    x = F.relu(x) #rectifier activation function from torch.nn.functional\n",
        "    #Gone from first fully conected layer to the second\n",
        "    x = self.fc2(x)\n",
        "    x = F.relu(x)\n",
        "    return self.fc3(x) #output layer"
      ]
    },
    {
      "cell_type": "markdown",
      "metadata": {
        "id": "UxVrBnFWZKb1"
      },
      "source": [
        "## Part 2 - Training the AI"
      ]
    },
    {
      "cell_type": "markdown",
      "metadata": {
        "id": "T364fz9qZb2j"
      },
      "source": [
        "### Setting up the environment"
      ]
    },
    {
      "cell_type": "code",
      "execution_count": 5,
      "metadata": {
        "colab": {
          "base_uri": "https://localhost:8080/"
        },
        "id": "41sgnpCwtd5f",
        "outputId": "2aa4e61c-f53e-4990-e153-098b302c2218"
      },
      "outputs": [
        {
          "name": "stdout",
          "output_type": "stream",
          "text": [
            "State shape:  (8,)\n",
            "State size:  8\n",
            "Number of actions:  4\n"
          ]
        }
      ],
      "source": [
        "import gymnasium as gym\n",
        "env = gym.make(\"LunarLander-v3\")\n",
        "state_shape = env.observation_space.shape #Vector\n",
        "state_size = env.observation_space.shape[0] #current state of env\n",
        "number_actions = env.action_space.n #Number of actions\n",
        "print('State shape: ', state_shape)\n",
        "print('State size: ', state_size)\n",
        "print('Number of actions: ', number_actions)"
      ]
    },
    {
      "cell_type": "markdown",
      "metadata": {
        "id": "8hD_Vs-bYnip"
      },
      "source": [
        "### Implementing Experience Replay"
      ]
    },
    {
      "cell_type": "code",
      "execution_count": 6,
      "metadata": {
        "id": "K932ufvF3uQM"
      },
      "outputs": [],
      "source": [
        "class ReplayMemory(object):\n",
        "\n",
        "  def __init__(self, capacity):\n",
        "    self.device = torch.device(\"cuda:0\" if torch.cuda.is_available() else \"cpu\") #if exterior device(gpu) is present. uses that hardware to process\n",
        "    self.capacity = capacity #total size of memory size\n",
        "    self.memory = [ ]\n",
        "\n",
        "  def push(self, event): #appends event and removes oldest event if memory is full\n",
        "    self.memory.append(event)\n",
        "    if len(self.memory) > self.capacity:\n",
        "      del self.memory[0]\n",
        "\n",
        "  def sample(self, batch_size):\n",
        "    exp = random.sample(self.memory, k = batch_size)\n",
        "    state = torch.from_numpy(np.vstack([e[0] for e in exp if e is not None])).float().to(self.device) #states converted to tensors and float values and send to gpu or cpu\n",
        "    action = torch.from_numpy(np.vstack([e[1] for e in exp if e is not None])).long().to(self.device) #same as states but long integers\n",
        "    rewards = torch.from_numpy(np.vstack([e[2] for e in exp if e is not None])).float().to(self.device)\n",
        "    next_state = torch.from_numpy(np.vstack([e[3] for e in exp if e is not None])).float().to(self.device)\n",
        "    dones = torch.from_numpy(np.vstack([e[4] for e in exp if e is not None]).astype(np.uint8)).float().to(self.device)\n",
        "    return state, next_state, action, rewards, dones"
      ]
    },
    {
      "cell_type": "markdown",
      "metadata": {
        "id": "JmEkbFbUY6Jt"
      },
      "source": [
        "### Implementing the DQN class"
      ]
    },
    {
      "cell_type": "code",
      "execution_count": null,
      "metadata": {
        "id": "X4O4QC9a7wUs"
      },
      "outputs": [],
      "source": [
        "class Agent():\n",
        "    def __init__(self, state_size, action_size, learning_rate, replay_buffer_size = 100000, gamma, tau, minibatch_size):\n",
        "        self.device = torch.device(\"cuda:0\" if torch.cuda.is_available() else \"cpu\")\n",
        "        self.state_size = state_size\n",
        "        self.action_size = action_size\n",
        "        self.local_qnetwork = NeuNet(state_size, action_size).to(self.device)\n",
        "        self.target_qnetwork = NeuNet(state_size, action_size).to(self.device)\n",
        "        self.optimizer = optim.Adam(self.local_qnetwork.parameters(), lr=learning_rate)\n",
        "        self.memory = ReplayMemory(replay_buffer_size)\n",
        "        self.gamma = gamma\n",
        "        self.tau = tau\n",
        "        self.minibatch_size = minibatch_size\n",
        "        self.t_step = 0\n",
        "\n",
        "    def step(self, state, action, reward, next_state, done):\n",
        "        self.memory.push((state, action, reward, next_state, done))\n",
        "        self.t_step = (self.t_step + 1) % 4\n",
        "        if self.t_step == 0:\n",
        "            if len(self.memory.memory) > self.minibatch_size:\n",
        "                exp_local = self.memory.sample(self.minibatch_size)\n",
        "                self.learn(exp_local)\n",
        "\n",
        "    def act(self, state, epsilon=0.):\n",
        "        state = torch.from_numpy(state).float().unsqueeze(0).to(self.device)\n",
        "        self.local_qnetwork.eval()\n",
        "        with torch.no_grad():\n",
        "            action_values = self.local_qnetwork(state)\n",
        "        self.local_qnetwork.train()\n",
        "        if random.random() > epsilon:\n",
        "            return np.argmax(action_values.cpu().data.numpy())\n",
        "        else:\n",
        "            return random.choice(np.arange(self.action_size))\n",
        "\n",
        "    def learn(self, exp):\n",
        "        states, next_states, actions, rewards, dones = exp\n",
        "        next_q_targets = self.target_qnetwork(next_states).detach().max(1)[0].unsqueeze(1)\n",
        "        q_targets = rewards + (self.gamma * next_q_targets * (1 - dones))\n",
        "        q_expected = self.local_qnetwork(states).gather(1, actions)\n",
        "        loss = F.mse_loss(q_expected, q_targets)\n",
        "        self.optimizer.zero_grad()\n",
        "        loss.backward()\n",
        "        self.optimizer.step()\n",
        "        self.soft_update(self.local_qnetwork, self.target_qnetwork)\n",
        "\n",
        "    def soft_update(self, local_model, target_model):\n",
        "        for target_param, local_param in zip(target_model.parameters(), local_model.parameters()):\n",
        "            target_param.data.copy_(self.tau * local_param.data + (1.0 - self.tau) * target_param.data)\n"
      ]
    },
    {
      "cell_type": "markdown",
      "metadata": {
        "id": "o1tZElccZmf6"
      },
      "source": [
        "### Initializing the DQN agent"
      ]
    },
    {
      "cell_type": "code",
      "execution_count": null,
      "metadata": {},
      "outputs": [
        {
          "ename": "NameError",
          "evalue": "name 'state_size' is not defined",
          "output_type": "error",
          "traceback": [
            "\u001b[31m---------------------------------------------------------------------------\u001b[39m",
            "\u001b[31mNameError\u001b[39m                                 Traceback (most recent call last)",
            "\u001b[36mCell\u001b[39m\u001b[36m \u001b[39m\u001b[32mIn[6]\u001b[39m\u001b[32m, line 1\u001b[39m\n\u001b[32m----> \u001b[39m\u001b[32m1\u001b[39m agent = Agent(\u001b[43mstate_size\u001b[49m, number_actions)\n",
            "\u001b[31mNameError\u001b[39m: name 'state_size' is not defined"
          ]
        }
      ],
      "source": [
        "agent = Agent(state_size, number_actions)"
      ]
    },
    {
      "cell_type": "markdown",
      "metadata": {
        "id": "E8v0PtUfaVQp"
      },
      "source": [
        "### Training the DQN agent"
      ]
    },
    {
      "cell_type": "code",
      "execution_count": 21,
      "metadata": {
        "colab": {
          "base_uri": "https://localhost:8080/"
        },
        "id": "yL53_97fTCFi",
        "outputId": "a2598c14-f3b3-45a2-89e3-9e5cac7c9564"
      },
      "outputs": [],
      "source": [
        "import time\n",
        "\n",
        "def run_training(agent, num_episodes=500, max_timesteps=1000):\n",
        "    epsilon = 1.0\n",
        "    epsilon_end = 0.01\n",
        "    epsilon_decay = 0.995\n",
        "    scores = deque(maxlen=100)\n",
        "    start_time = time.time()\n",
        "\n",
        "    for episode in range(1, num_episodes + 1):\n",
        "        state, _ = env.reset()\n",
        "        score = 0\n",
        "        for t in range(max_timesteps):\n",
        "            action = agent.act(state, epsilon)\n",
        "            next_state, reward, done, _, _ = env.step(action)\n",
        "            agent.step(state, action, reward, next_state, done)\n",
        "            state = next_state\n",
        "            score += reward\n",
        "            if done:\n",
        "                break\n",
        "        scores.append(score)\n",
        "        epsilon = max(epsilon_end, epsilon_decay * epsilon)\n",
        "\n",
        "        if episode % 100 == 0:\n",
        "            avg_score = np.mean(scores)\n",
        "            elapsed = time.time() - start_time\n",
        "            print(f\"Episode {episode} | Avg Last 100: {avg_score:.2f} | Time Elapsed: {elapsed:.2f}s\")\n",
        "\n",
        "    elapsed = time.time() - start_time\n",
        "    final_avg = np.mean(list(scores)[-50:])\n",
        "    return elapsed, final_avg\n"
      ]
    },
    {
      "cell_type": "code",
      "execution_count": 22,
      "metadata": {},
      "outputs": [
        {
          "name": "stdout",
          "output_type": "stream",
          "text": [
            "Testing: LR=0.0001, Gamma=0.95, Tau=0.001\n",
            "Episode 100 | Avg Last 100: -157.86 | Time Elapsed: 19.18s\n",
            "Episode 200 | Avg Last 100: -139.58 | Time Elapsed: 67.17s\n",
            "Episode 300 | Avg Last 100: -96.09 | Time Elapsed: 191.05s\n",
            "Episode 400 | Avg Last 100: -46.54 | Time Elapsed: 365.02s\n",
            "Episode 500 | Avg Last 100: -79.49 | Time Elapsed: 557.23s\n",
            "Testing: LR=0.0001, Gamma=0.95, Tau=0.01\n",
            "Episode 100 | Avg Last 100: -191.06 | Time Elapsed: 20.29s\n",
            "Episode 200 | Avg Last 100: -104.53 | Time Elapsed: 65.98s\n",
            "Episode 300 | Avg Last 100: 18.05 | Time Elapsed: 172.85s\n",
            "Episode 400 | Avg Last 100: 57.93 | Time Elapsed: 272.45s\n",
            "Episode 500 | Avg Last 100: -34.94 | Time Elapsed: 411.88s\n",
            "Testing: LR=0.0001, Gamma=0.95, Tau=0.1\n",
            "Episode 100 | Avg Last 100: -160.29 | Time Elapsed: 17.36s\n",
            "Episode 200 | Avg Last 100: -64.37 | Time Elapsed: 67.95s\n",
            "Episode 300 | Avg Last 100: 24.16 | Time Elapsed: 199.43s\n",
            "Episode 400 | Avg Last 100: -7.57 | Time Elapsed: 339.26s\n",
            "Episode 500 | Avg Last 100: -33.44 | Time Elapsed: 487.11s\n",
            "Testing: LR=0.0001, Gamma=0.99, Tau=0.001\n",
            "Episode 100 | Avg Last 100: -180.93 | Time Elapsed: 15.98s\n",
            "Episode 200 | Avg Last 100: -133.70 | Time Elapsed: 59.06s\n",
            "Episode 300 | Avg Last 100: -61.84 | Time Elapsed: 153.29s\n",
            "Episode 400 | Avg Last 100: -26.87 | Time Elapsed: 304.29s\n",
            "Episode 500 | Avg Last 100: 91.97 | Time Elapsed: 428.15s\n",
            "Testing: LR=0.0001, Gamma=0.99, Tau=0.01\n",
            "Episode 100 | Avg Last 100: -149.69 | Time Elapsed: 16.19s\n",
            "Episode 200 | Avg Last 100: -75.58 | Time Elapsed: 66.42s\n",
            "Episode 300 | Avg Last 100: -32.01 | Time Elapsed: 199.90s\n",
            "Episode 400 | Avg Last 100: 44.86 | Time Elapsed: 334.78s\n",
            "Episode 500 | Avg Last 100: 81.34 | Time Elapsed: 459.64s\n",
            "Testing: LR=0.0001, Gamma=0.99, Tau=0.1\n",
            "Episode 100 | Avg Last 100: -157.80 | Time Elapsed: 16.68s\n",
            "Episode 200 | Avg Last 100: -79.61 | Time Elapsed: 61.08s\n",
            "Episode 300 | Avg Last 100: -16.89 | Time Elapsed: 197.75s\n",
            "Episode 400 | Avg Last 100: 112.76 | Time Elapsed: 306.97s\n",
            "Episode 500 | Avg Last 100: 204.72 | Time Elapsed: 388.76s\n",
            "Testing: LR=0.0001, Gamma=0.999, Tau=0.001\n",
            "Episode 100 | Avg Last 100: -163.13 | Time Elapsed: 15.49s\n",
            "Episode 200 | Avg Last 100: -133.99 | Time Elapsed: 48.88s\n",
            "Episode 300 | Avg Last 100: -93.07 | Time Elapsed: 150.81s\n",
            "Episode 400 | Avg Last 100: -41.89 | Time Elapsed: 300.97s\n",
            "Episode 500 | Avg Last 100: -9.40 | Time Elapsed: 450.11s\n",
            "Testing: LR=0.0001, Gamma=0.999, Tau=0.01\n",
            "Episode 100 | Avg Last 100: -160.45 | Time Elapsed: 16.09s\n",
            "Episode 200 | Avg Last 100: -69.49 | Time Elapsed: 50.25s\n",
            "Episode 300 | Avg Last 100: -51.41 | Time Elapsed: 184.09s\n",
            "Episode 400 | Avg Last 100: -53.75 | Time Elapsed: 329.54s\n",
            "Episode 500 | Avg Last 100: 85.11 | Time Elapsed: 460.64s\n",
            "Testing: LR=0.0001, Gamma=0.999, Tau=0.1\n",
            "Episode 100 | Avg Last 100: -169.64 | Time Elapsed: 17.89s\n",
            "Episode 200 | Avg Last 100: -116.31 | Time Elapsed: 72.73s\n",
            "Episode 300 | Avg Last 100: -98.11 | Time Elapsed: 215.88s\n",
            "Episode 400 | Avg Last 100: -78.51 | Time Elapsed: 363.23s\n",
            "Episode 500 | Avg Last 100: -76.48 | Time Elapsed: 516.25s\n",
            "Testing: LR=0.0005, Gamma=0.95, Tau=0.001\n",
            "Episode 100 | Avg Last 100: -170.04 | Time Elapsed: 18.14s\n",
            "Episode 200 | Avg Last 100: -80.38 | Time Elapsed: 65.53s\n",
            "Episode 300 | Avg Last 100: -30.16 | Time Elapsed: 185.62s\n",
            "Episode 400 | Avg Last 100: -47.11 | Time Elapsed: 328.54s\n",
            "Episode 500 | Avg Last 100: -16.73 | Time Elapsed: 471.83s\n",
            "Testing: LR=0.0005, Gamma=0.95, Tau=0.01\n",
            "Episode 100 | Avg Last 100: -132.66 | Time Elapsed: 15.14s\n",
            "Episode 200 | Avg Last 100: -49.59 | Time Elapsed: 79.59s\n",
            "Episode 300 | Avg Last 100: 27.13 | Time Elapsed: 216.26s\n",
            "Episode 400 | Avg Last 100: -40.63 | Time Elapsed: 359.72s\n",
            "Episode 500 | Avg Last 100: -67.54 | Time Elapsed: 508.68s\n",
            "Testing: LR=0.0005, Gamma=0.95, Tau=0.1\n",
            "Episode 100 | Avg Last 100: -141.38 | Time Elapsed: 15.74s\n",
            "Episode 200 | Avg Last 100: -43.22 | Time Elapsed: 86.78s\n",
            "Episode 300 | Avg Last 100: 15.73 | Time Elapsed: 216.09s\n",
            "Episode 400 | Avg Last 100: -39.99 | Time Elapsed: 364.55s\n",
            "Episode 500 | Avg Last 100: -50.63 | Time Elapsed: 510.11s\n",
            "Testing: LR=0.0005, Gamma=0.99, Tau=0.001\n",
            "Episode 100 | Avg Last 100: -158.67 | Time Elapsed: 15.95s\n",
            "Episode 200 | Avg Last 100: -89.85 | Time Elapsed: 57.47s\n",
            "Episode 300 | Avg Last 100: -43.65 | Time Elapsed: 169.32s\n",
            "Episode 400 | Avg Last 100: 81.98 | Time Elapsed: 301.97s\n",
            "Episode 500 | Avg Last 100: 158.92 | Time Elapsed: 403.21s\n",
            "Testing: LR=0.0005, Gamma=0.99, Tau=0.01\n",
            "Episode 100 | Avg Last 100: -133.90 | Time Elapsed: 15.06s\n",
            "Episode 200 | Avg Last 100: -76.84 | Time Elapsed: 63.94s\n",
            "Episode 300 | Avg Last 100: 48.17 | Time Elapsed: 199.43s\n",
            "Episode 400 | Avg Last 100: 207.02 | Time Elapsed: 298.92s\n",
            "Episode 500 | Avg Last 100: 261.12 | Time Elapsed: 355.98s\n",
            "Testing: LR=0.0005, Gamma=0.99, Tau=0.1\n",
            "Episode 100 | Avg Last 100: -132.70 | Time Elapsed: 14.88s\n",
            "Episode 200 | Avg Last 100: -66.65 | Time Elapsed: 70.52s\n",
            "Episode 300 | Avg Last 100: -11.32 | Time Elapsed: 205.14s\n",
            "Episode 400 | Avg Last 100: 186.49 | Time Elapsed: 297.13s\n",
            "Episode 500 | Avg Last 100: 232.39 | Time Elapsed: 359.21s\n",
            "Testing: LR=0.0005, Gamma=0.999, Tau=0.001\n",
            "Episode 100 | Avg Last 100: -165.37 | Time Elapsed: 16.12s\n",
            "Episode 200 | Avg Last 100: -88.14 | Time Elapsed: 53.37s\n",
            "Episode 300 | Avg Last 100: -20.33 | Time Elapsed: 180.91s\n",
            "Episode 400 | Avg Last 100: 97.32 | Time Elapsed: 309.72s\n",
            "Episode 500 | Avg Last 100: 189.22 | Time Elapsed: 403.04s\n",
            "Testing: LR=0.0005, Gamma=0.999, Tau=0.01\n",
            "Episode 100 | Avg Last 100: -133.22 | Time Elapsed: 15.07s\n",
            "Episode 200 | Avg Last 100: -37.55 | Time Elapsed: 55.49s\n",
            "Episode 300 | Avg Last 100: -40.29 | Time Elapsed: 180.45s\n",
            "Episode 400 | Avg Last 100: -64.37 | Time Elapsed: 292.75s\n",
            "Episode 500 | Avg Last 100: -79.90 | Time Elapsed: 440.18s\n",
            "Testing: LR=0.0005, Gamma=0.999, Tau=0.1\n",
            "Episode 100 | Avg Last 100: -141.58 | Time Elapsed: 14.51s\n",
            "Episode 200 | Avg Last 100: -138.39 | Time Elapsed: 78.45s\n",
            "Episode 300 | Avg Last 100: -112.94 | Time Elapsed: 209.14s\n",
            "Episode 400 | Avg Last 100: -302.63 | Time Elapsed: 349.27s\n",
            "Episode 500 | Avg Last 100: -369.82 | Time Elapsed: 471.47s\n",
            "Testing: LR=0.001, Gamma=0.95, Tau=0.001\n",
            "Episode 100 | Avg Last 100: -150.59 | Time Elapsed: 15.29s\n",
            "Episode 200 | Avg Last 100: -83.01 | Time Elapsed: 53.31s\n",
            "Episode 300 | Avg Last 100: -46.31 | Time Elapsed: 173.33s\n",
            "Episode 400 | Avg Last 100: -66.30 | Time Elapsed: 322.18s\n",
            "Episode 500 | Avg Last 100: -57.39 | Time Elapsed: 470.69s\n",
            "Testing: LR=0.001, Gamma=0.95, Tau=0.01\n",
            "Episode 100 | Avg Last 100: -119.75 | Time Elapsed: 17.94s\n",
            "Episode 200 | Avg Last 100: -36.50 | Time Elapsed: 68.84s\n",
            "Episode 300 | Avg Last 100: 15.53 | Time Elapsed: 187.52s\n",
            "Episode 400 | Avg Last 100: -27.70 | Time Elapsed: 332.37s\n",
            "Episode 500 | Avg Last 100: -53.83 | Time Elapsed: 477.58s\n",
            "Testing: LR=0.001, Gamma=0.95, Tau=0.1\n",
            "Episode 100 | Avg Last 100: -112.56 | Time Elapsed: 15.92s\n",
            "Episode 200 | Avg Last 100: -65.15 | Time Elapsed: 58.26s\n",
            "Episode 300 | Avg Last 100: 9.65 | Time Elapsed: 185.53s\n",
            "Episode 400 | Avg Last 100: -43.76 | Time Elapsed: 326.35s\n",
            "Episode 500 | Avg Last 100: -51.95 | Time Elapsed: 473.40s\n",
            "Testing: LR=0.001, Gamma=0.99, Tau=0.001\n",
            "Episode 100 | Avg Last 100: -146.00 | Time Elapsed: 15.67s\n",
            "Episode 200 | Avg Last 100: -90.29 | Time Elapsed: 45.42s\n",
            "Episode 300 | Avg Last 100: -69.98 | Time Elapsed: 148.01s\n",
            "Episode 400 | Avg Last 100: -16.24 | Time Elapsed: 280.56s\n",
            "Episode 500 | Avg Last 100: 106.46 | Time Elapsed: 389.65s\n",
            "Testing: LR=0.001, Gamma=0.99, Tau=0.01\n",
            "Episode 100 | Avg Last 100: -131.17 | Time Elapsed: 14.35s\n",
            "Episode 200 | Avg Last 100: -56.29 | Time Elapsed: 59.36s\n",
            "Episode 300 | Avg Last 100: 33.21 | Time Elapsed: 178.41s\n",
            "Episode 400 | Avg Last 100: 178.60 | Time Elapsed: 276.81s\n",
            "Episode 500 | Avg Last 100: 234.05 | Time Elapsed: 335.57s\n",
            "Testing: LR=0.001, Gamma=0.99, Tau=0.1\n",
            "Episode 100 | Avg Last 100: -115.45 | Time Elapsed: 15.68s\n",
            "Episode 200 | Avg Last 100: -63.38 | Time Elapsed: 69.43s\n",
            "Episode 300 | Avg Last 100: -18.27 | Time Elapsed: 173.39s\n",
            "Episode 400 | Avg Last 100: 177.06 | Time Elapsed: 277.02s\n",
            "Episode 500 | Avg Last 100: 242.00 | Time Elapsed: 343.10s\n",
            "Testing: LR=0.001, Gamma=0.999, Tau=0.001\n",
            "Episode 100 | Avg Last 100: -142.09 | Time Elapsed: 16.90s\n",
            "Episode 200 | Avg Last 100: -84.09 | Time Elapsed: 49.40s\n",
            "Episode 300 | Avg Last 100: -35.72 | Time Elapsed: 166.86s\n",
            "Episode 400 | Avg Last 100: 60.55 | Time Elapsed: 284.71s\n",
            "Episode 500 | Avg Last 100: 183.16 | Time Elapsed: 376.54s\n",
            "Testing: LR=0.001, Gamma=0.999, Tau=0.01\n",
            "Episode 100 | Avg Last 100: -128.48 | Time Elapsed: 16.36s\n",
            "Episode 200 | Avg Last 100: -55.57 | Time Elapsed: 56.29s\n",
            "Episode 300 | Avg Last 100: -23.30 | Time Elapsed: 178.63s\n",
            "Episode 400 | Avg Last 100: -142.03 | Time Elapsed: 282.77s\n",
            "Episode 500 | Avg Last 100: -271.57 | Time Elapsed: 419.10s\n",
            "Testing: LR=0.001, Gamma=0.999, Tau=0.1\n",
            "Episode 100 | Avg Last 100: -123.21 | Time Elapsed: 14.78s\n",
            "Episode 200 | Avg Last 100: -169.12 | Time Elapsed: 77.00s\n",
            "Episode 300 | Avg Last 100: -247.29 | Time Elapsed: 208.94s\n",
            "Episode 400 | Avg Last 100: -2181.59 | Time Elapsed: 296.93s\n",
            "Episode 500 | Avg Last 100: -1856.18 | Time Elapsed: 423.67s\n",
            "\n",
            "Best combination:\n",
            "LR=0.0005, Gamma=0.99, Tau=0.01\n",
            "Final Avg Score=262.89, Time=355.98s\n"
          ]
        }
      ],
      "source": [
        "import itertools\n",
        "import csv\n",
        "\n",
        "learning_rates = [1e-4, 5e-4, 1e-3]\n",
        "gammas = [0.95, 0.99, 0.999]\n",
        "taus = [1e-3, 1e-2, 1e-1]\n",
        "\n",
        "minibatch_size = 256\n",
        "replay_buffer_size = 100000\n",
        "\n",
        "results = []\n",
        "\n",
        "with open(\"hyperparam_results.csv\", mode=\"w\", newline=\"\") as file:\n",
        "    writer = csv.writer(file)\n",
        "    writer.writerow([\"LR\", \"Gamma\", \"Tau\", \"Elapsed_Time\", \"Final_Avg_Score\"])\n",
        "    \n",
        "    for lr, g, tau_val in itertools.product(learning_rates, gammas, taus):\n",
        "        print(f\"Testing: LR={lr}, Gamma={g}, Tau={tau_val}\")\n",
        "        agent = Agent(state_size, number_actions, lr, replay_buffer_size, g, tau_val, minibatch_size)\n",
        "        elapsed, avg_score = run_training(agent)\n",
        "        writer.writerow([lr, g, tau_val, elapsed, avg_score])\n",
        "        results.append((lr, g, tau_val, elapsed, avg_score))\n",
        "\n",
        "# Report best result\n",
        "if results:\n",
        "    best = max(results, key=lambda x: x[-1])\n",
        "    print(f\"\\nBest combination:\")\n",
        "    print(f\"LR={best[0]}, Gamma={best[1]}, Tau={best[2]}\")\n",
        "    print(f\"Final Avg Score={best[4]:.2f}, Time={best[3]:.2f}s\")\n",
        "else:\n",
        "    print(\"No valid results recorded.\")\n"
      ]
    },
    {
      "cell_type": "code",
      "execution_count": 23,
      "metadata": {},
      "outputs": [
        {
          "data": {
            "image/png": "[encoded data removed]",
            "text/plain": [
              "<Figure size 1000x600 with 1 Axes>"
            ]
          },
          "metadata": {},
          "output_type": "display_data"
        },
        {
          "name": "stdout",
          "output_type": "stream",
          "text": [
            "\n",
            "Best combination:\n",
            "LR                   0.000500\n",
            "Gamma                0.990000\n",
            "Tau                  0.010000\n",
            "Elapsed_Time       355.981510\n",
            "Final_Avg_Score    262.892683\n",
            "Name: 13, dtype: float64\n"
          ]
        }
      ],
      "source": [
        "import pandas as pd\n",
        "import matplotlib.pyplot as plt\n",
        "df = pd.read_csv(\"hyperparam_results.csv\")\n",
        "best_idx = df['Final_Avg_Score'].idxmax()\n",
        "best_row = df.iloc[best_idx]\n",
        "\n",
        "plt.figure(figsize=(10, 6))\n",
        "plt.scatter(df[\"Elapsed_Time\"], df[\"Final_Avg_Score\"], color=\"blue\", label=\"All combinations\")\n",
        "plt.scatter(best_row[\"Elapsed_Time\"], best_row[\"Final_Avg_Score\"], color=\"red\", label=\"Best combination\", s=100)\n",
        "\n",
        "plt.xlabel(\"Elapsed Time (s)\")\n",
        "plt.ylabel(\"Final Avg Score\")\n",
        "plt.title(\"Hyperparameter Tuning: Elapsed Time vs Final Avg Score\")\n",
        "plt.legend()\n",
        "plt.grid(True)\n",
        "plt.tight_layout()\n",
        "plt.show()\n",
        "\n",
        "print(\"\\nBest combination:\")\n",
        "print(best_row)\n"
      ]
    }
  ],
  "metadata": {
    "colab": {
      "provenance": []
    },
    "kernelspec": {
      "display_name": "CUDA_test",
      "language": "python",
      "name": "python3"
    },
    "language_info": {
      "codemirror_mode": {
        "name": "ipython",
        "version": 3
      },
      "file_extension": ".py",
      "mimetype": "text/x-python",
      "name": "python",
      "nbconvert_exporter": "python",
      "pygments_lexer": "ipython3",
      "version": "3.12.9"
    }
  },
  "nbformat": 4,
  "nbformat_minor": 0
}
