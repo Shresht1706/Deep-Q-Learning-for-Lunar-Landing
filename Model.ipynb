{
  "cells": [
    {
      "cell_type": "markdown",
      "metadata": {
        "id": "LbZcI9ZXHl3a"
      },
      "source": [
        "# Deep Q-Learning for Lunar Landing"
      ]
    },
    {
      "cell_type": "markdown",
      "metadata": {
        "id": "E8yPRjteXgPb"
      },
      "source": [
        "## Part 0 - Installing the required packages and importing the libraries"
      ]
    },
    {
      "cell_type": "markdown",
      "metadata": {
        "id": "slEm5teGWjWU"
      },
      "source": [
        "### Installing Gymnasium"
      ]
    },
    {
      "cell_type": "code",
      "execution_count": 1,
      "metadata": {
        "colab": {
          "base_uri": "https://localhost:8080/"
        },
        "id": "dbnq3XpoKa_7",
        "outputId": "d634f61a-d623-4fc7-dab9-62382e39686d"
      },
      "outputs": [
        {
          "name": "stdout",
          "output_type": "stream",
          "text": [
            "Requirement already satisfied: gymnasium in /Users/shresht/anaconda3/lib/python3.11/site-packages (1.0.0)\n",
            "Requirement already satisfied: numpy>=1.21.0 in /Users/shresht/anaconda3/lib/python3.11/site-packages (from gymnasium) (1.24.3)\n",
            "Requirement already satisfied: cloudpickle>=1.2.0 in /Users/shresht/anaconda3/lib/python3.11/site-packages (from gymnasium) (2.2.1)\n",
            "Requirement already satisfied: typing-extensions>=4.3.0 in /Users/shresht/anaconda3/lib/python3.11/site-packages (from gymnasium) (4.12.2)\n",
            "Requirement already satisfied: farama-notifications>=0.0.1 in /Users/shresht/anaconda3/lib/python3.11/site-packages (from gymnasium) (0.0.4)\n",
            "Requirement already satisfied: gymnasium==1.0.0 in /Users/shresht/anaconda3/lib/python3.11/site-packages (1.0.0)\n",
            "Requirement already satisfied: numpy>=1.21.0 in /Users/shresht/anaconda3/lib/python3.11/site-packages (from gymnasium==1.0.0) (1.24.3)\n",
            "Requirement already satisfied: cloudpickle>=1.2.0 in /Users/shresht/anaconda3/lib/python3.11/site-packages (from gymnasium==1.0.0) (2.2.1)\n",
            "Requirement already satisfied: typing-extensions>=4.3.0 in /Users/shresht/anaconda3/lib/python3.11/site-packages (from gymnasium==1.0.0) (4.12.2)\n",
            "Requirement already satisfied: farama-notifications>=0.0.1 in /Users/shresht/anaconda3/lib/python3.11/site-packages (from gymnasium==1.0.0) (0.0.4)\n",
            "Requirement already satisfied: swig in /Users/shresht/anaconda3/lib/python3.11/site-packages (4.3.0)\n",
            "Requirement already satisfied: gymnasium[box2d] in /Users/shresht/anaconda3/lib/python3.11/site-packages (1.0.0)\n",
            "Requirement already satisfied: numpy>=1.21.0 in /Users/shresht/anaconda3/lib/python3.11/site-packages (from gymnasium[box2d]) (1.24.3)\n",
            "Requirement already satisfied: cloudpickle>=1.2.0 in /Users/shresht/anaconda3/lib/python3.11/site-packages (from gymnasium[box2d]) (2.2.1)\n",
            "Requirement already satisfied: typing-extensions>=4.3.0 in /Users/shresht/anaconda3/lib/python3.11/site-packages (from gymnasium[box2d]) (4.12.2)\n",
            "Requirement already satisfied: farama-notifications>=0.0.1 in /Users/shresht/anaconda3/lib/python3.11/site-packages (from gymnasium[box2d]) (0.0.4)\n",
            "Requirement already satisfied: box2d-py==2.3.5 in /Users/shresht/anaconda3/lib/python3.11/site-packages (from gymnasium[box2d]) (2.3.5)\n",
            "Requirement already satisfied: pygame>=2.1.3 in /Users/shresht/anaconda3/lib/python3.11/site-packages (from gymnasium[box2d]) (2.6.1)\n",
            "Requirement already satisfied: swig==4.* in /Users/shresht/anaconda3/lib/python3.11/site-packages (from gymnasium[box2d]) (4.3.0)\n",
            "Requirement already satisfied: imageio in /Users/shresht/anaconda3/lib/python3.11/site-packages (2.31.1)\n",
            "Requirement already satisfied: numpy in /Users/shresht/anaconda3/lib/python3.11/site-packages (from imageio) (1.24.3)\n",
            "Requirement already satisfied: pillow>=8.3.2 in /Users/shresht/anaconda3/lib/python3.11/site-packages (from imageio) (9.4.0)\n",
            "Requirement already satisfied: ipython in /Users/shresht/anaconda3/lib/python3.11/site-packages (8.15.0)\n",
            "Requirement already satisfied: backcall in /Users/shresht/anaconda3/lib/python3.11/site-packages (from ipython) (0.2.0)\n",
            "Requirement already satisfied: decorator in /Users/shresht/anaconda3/lib/python3.11/site-packages (from ipython) (5.1.1)\n",
            "Requirement already satisfied: jedi>=0.16 in /Users/shresht/anaconda3/lib/python3.11/site-packages (from ipython) (0.18.1)\n",
            "Requirement already satisfied: matplotlib-inline in /Users/shresht/anaconda3/lib/python3.11/site-packages (from ipython) (0.1.6)\n",
            "Requirement already satisfied: pickleshare in /Users/shresht/anaconda3/lib/python3.11/site-packages (from ipython) (0.7.5)\n",
            "Requirement already satisfied: prompt-toolkit!=3.0.37,<3.1.0,>=3.0.30 in /Users/shresht/anaconda3/lib/python3.11/site-packages (from ipython) (3.0.36)\n",
            "Requirement already satisfied: pygments>=2.4.0 in /Users/shresht/anaconda3/lib/python3.11/site-packages (from ipython) (2.15.1)\n",
            "Requirement already satisfied: stack-data in /Users/shresht/anaconda3/lib/python3.11/site-packages (from ipython) (0.2.0)\n",
            "Requirement already satisfied: traitlets>=5 in /Users/shresht/anaconda3/lib/python3.11/site-packages (from ipython) (5.7.1)\n",
            "Requirement already satisfied: pexpect>4.3 in /Users/shresht/anaconda3/lib/python3.11/site-packages (from ipython) (4.8.0)\n",
            "Requirement already satisfied: appnope in /Users/shresht/anaconda3/lib/python3.11/site-packages (from ipython) (0.1.2)\n",
            "Requirement already satisfied: parso<0.9.0,>=0.8.0 in /Users/shresht/anaconda3/lib/python3.11/site-packages (from jedi>=0.16->ipython) (0.8.3)\n",
            "Requirement already satisfied: ptyprocess>=0.5 in /Users/shresht/anaconda3/lib/python3.11/site-packages (from pexpect>4.3->ipython) (0.7.0)\n",
            "Requirement already satisfied: wcwidth in /Users/shresht/anaconda3/lib/python3.11/site-packages (from prompt-toolkit!=3.0.37,<3.1.0,>=3.0.30->ipython) (0.2.5)\n",
            "Requirement already satisfied: executing in /Users/shresht/anaconda3/lib/python3.11/site-packages (from stack-data->ipython) (0.8.3)\n",
            "Requirement already satisfied: asttokens in /Users/shresht/anaconda3/lib/python3.11/site-packages (from stack-data->ipython) (2.0.5)\n",
            "Requirement already satisfied: pure-eval in /Users/shresht/anaconda3/lib/python3.11/site-packages (from stack-data->ipython) (0.2.2)\n",
            "Requirement already satisfied: six in /Users/shresht/anaconda3/lib/python3.11/site-packages (from asttokens->stack-data->ipython) (1.16.0)\n",
            "Looking in indexes: https://download.pytorch.org/whl/cu128\n",
            "Requirement already satisfied: torch in /Users/shresht/anaconda3/lib/python3.11/site-packages (2.5.1)\n",
            "Requirement already satisfied: torchvision in /Users/shresht/anaconda3/lib/python3.11/site-packages (0.20.1)\n",
            "Requirement already satisfied: torchaudio in /Users/shresht/anaconda3/lib/python3.11/site-packages (2.5.1)\n",
            "Requirement already satisfied: filelock in /Users/shresht/anaconda3/lib/python3.11/site-packages (from torch) (3.9.0)\n",
            "Requirement already satisfied: typing-extensions>=4.8.0 in /Users/shresht/anaconda3/lib/python3.11/site-packages (from torch) (4.12.2)\n",
            "Requirement already satisfied: networkx in /Users/shresht/anaconda3/lib/python3.11/site-packages (from torch) (3.1)\n",
            "Requirement already satisfied: jinja2 in /Users/shresht/anaconda3/lib/python3.11/site-packages (from torch) (3.1.2)\n",
            "Requirement already satisfied: fsspec in /Users/shresht/anaconda3/lib/python3.11/site-packages (from torch) (2023.4.0)\n",
            "Requirement already satisfied: sympy==1.13.1 in /Users/shresht/anaconda3/lib/python3.11/site-packages (from torch) (1.13.1)\n",
            "Requirement already satisfied: mpmath<1.4,>=1.1.0 in /Users/shresht/anaconda3/lib/python3.11/site-packages (from sympy==1.13.1->torch) (1.3.0)\n",
            "Requirement already satisfied: numpy in /Users/shresht/anaconda3/lib/python3.11/site-packages (from torchvision) (1.24.3)\n",
            "Requirement already satisfied: pillow!=8.3.*,>=5.3.0 in /Users/shresht/anaconda3/lib/python3.11/site-packages (from torchvision) (9.4.0)\n",
            "Requirement already satisfied: MarkupSafe>=2.0 in /Users/shresht/anaconda3/lib/python3.11/site-packages (from jinja2->torch) (2.1.1)\n",
            "Requirement already satisfied: imageio[ffmpeg] in /Users/shresht/anaconda3/lib/python3.11/site-packages (2.31.1)\n",
            "Requirement already satisfied: numpy in /Users/shresht/anaconda3/lib/python3.11/site-packages (from imageio[ffmpeg]) (1.24.3)\n",
            "Requirement already satisfied: pillow>=8.3.2 in /Users/shresht/anaconda3/lib/python3.11/site-packages (from imageio[ffmpeg]) (9.4.0)\n",
            "Requirement already satisfied: imageio-ffmpeg in /Users/shresht/anaconda3/lib/python3.11/site-packages (from imageio[ffmpeg]) (0.6.0)\n",
            "Requirement already satisfied: psutil in /Users/shresht/anaconda3/lib/python3.11/site-packages (from imageio[ffmpeg]) (5.9.0)\n",
            "Requirement already satisfied: imageio[ffmpeg] in /Users/shresht/anaconda3/lib/python3.11/site-packages (2.31.1)\n",
            "Requirement already satisfied: numpy in /Users/shresht/anaconda3/lib/python3.11/site-packages (from imageio[ffmpeg]) (1.24.3)\n",
            "Requirement already satisfied: pillow>=8.3.2 in /Users/shresht/anaconda3/lib/python3.11/site-packages (from imageio[ffmpeg]) (9.4.0)\n",
            "Requirement already satisfied: imageio-ffmpeg in /Users/shresht/anaconda3/lib/python3.11/site-packages (from imageio[ffmpeg]) (0.6.0)\n",
            "Requirement already satisfied: psutil in /Users/shresht/anaconda3/lib/python3.11/site-packages (from imageio[ffmpeg]) (5.9.0)\n"
          ]
        }
      ],
      "source": [
        "!pip install gymnasium\n",
        "!pip install gymnasium==1.0.0\n",
        "!pip install swig\n",
        "!pip install \"gymnasium[box2d]\"\n",
        "!pip install imageio\n",
        "!pip install ipython\n",
        "!pip install torch torchvision torchaudio --index-url https://download.pytorch.org/whl/cu128\n",
        "!pip install \"imageio[ffmpeg]\"\n",
        "!pip install \"imageio[ffmpeg]\""
      ]
    },
    {
      "cell_type": "markdown",
      "metadata": {},
      "source": [
        "### Checking for availibility of CUDA Cores"
      ]
    },
    {
      "cell_type": "code",
      "execution_count": 2,
      "metadata": {},
      "outputs": [
        {
          "name": "stdout",
          "output_type": "stream",
          "text": [
            "False\n"
          ]
        }
      ],
      "source": [
        "import torch\n",
        "if torch.cuda.is_available():\n",
        "    cuda_bit = 1\n",
        "else:\n",
        "    cuda_bit = 0\n",
        "\n",
        "print(torch.cuda.is_available())"
      ]
    },
    {
      "cell_type": "markdown",
      "metadata": {
        "id": "brqiMN3UW9T9"
      },
      "source": [
        "### Importing the libraries"
      ]
    },
    {
      "cell_type": "code",
      "execution_count": 3,
      "metadata": {
        "id": "mZaKXP_aMl9O"
      },
      "outputs": [],
      "source": [
        "import os #for os\n",
        "import random #for random numbers\n",
        "import numpy as np #for arrays\n",
        "import torch # to train agent w pytorch\n",
        "import torch.nn as nn #neural network module\n",
        "import torch.optim as optim # optimal module\n",
        "import torch.nn.functional as F #functions pre made for training\n",
        "import torch.autograd as autograd # for stochastic gradient descent\n",
        "from torch.autograd import Variable #training\n",
        "from collections import deque, namedtuple #training"
      ]
    },
    {
      "cell_type": "markdown",
      "metadata": {
        "id": "EzlDKXvkXzGI"
      },
      "source": [
        "## Part 1 - Building the AI"
      ]
    },
    {
      "cell_type": "markdown",
      "metadata": {
        "id": "UtG6Zc83YYy3"
      },
      "source": [
        "### Creating the architecture of the Neural Network"
      ]
    },
    {
      "cell_type": "code",
      "execution_count": 4,
      "metadata": {
        "id": "QWpMLoF4qf-9"
      },
      "outputs": [],
      "source": [
        "class NeuNet(nn.Module): #inherits from nn.module\n",
        "\n",
        "  def __init__(self, state_size, action_size, seed=42):\n",
        "    super(NeuNet, self).__init__()\n",
        "    self.seed = torch.manual_seed(seed)\n",
        "    self.fc1 = nn.Linear(state_size, 64) #Input Layer\n",
        "    self.fc2 = nn.Linear(64, 64) #Hidden Layer\n",
        "    self.fc3 = nn.Linear(64, action_size) #Output Layer\n",
        "\n",
        "  def forward(self, state):\n",
        "    x = self.fc1(state)\n",
        "    x = F.relu(x) #rectifier activation function from torch.nn.functional\n",
        "    #Gone from first fully conected layer to the second\n",
        "    x = self.fc2(x)\n",
        "    x = F.relu(x)\n",
        "    return self.fc3(x) #output layer"
      ]
    },
    {
      "cell_type": "markdown",
      "metadata": {
        "id": "eKr-lMG2EH9Y"
      },
      "source": [
        "\n",
        "\n",
        "*   fc1 is input layer. Number can be anything however, post testing, 64 is the most optimal in cases for lunar landings in gymnasium\n",
        "*   fc2 is hidden layer\n",
        "*   fc3 is output layer. action size is 4\n",
        "*   DEF FORWARD\n",
        "\n",
        "\n",
        "\n",
        "\n"
      ]
    },
    {
      "cell_type": "markdown",
      "metadata": {
        "id": "UxVrBnFWZKb1"
      },
      "source": [
        "## Part 2 - Training the AI"
      ]
    },
    {
      "cell_type": "markdown",
      "metadata": {
        "id": "T364fz9qZb2j"
      },
      "source": [
        "### Setting up the environment"
      ]
    },
    {
      "cell_type": "code",
      "execution_count": 5,
      "metadata": {
        "colab": {
          "base_uri": "https://localhost:8080/"
        },
        "id": "41sgnpCwtd5f",
        "outputId": "2aa4e61c-f53e-4990-e153-098b302c2218"
      },
      "outputs": [
        {
          "name": "stdout",
          "output_type": "stream",
          "text": [
            "State shape:  (8,)\n",
            "State size:  8\n",
            "Number of actions:  4\n"
          ]
        }
      ],
      "source": [
        "import gymnasium as gym\n",
        "env = gym.make(\"LunarLander-v3\")\n",
        "state_shape = env.observation_space.shape #Vector\n",
        "state_size = env.observation_space.shape[0] #current state of env\n",
        "number_actions = env.action_space.n #Number of actions\n",
        "print('State shape: ', state_shape)\n",
        "print('State size: ', state_size)\n",
        "print('Number of actions: ', number_actions)"
      ]
    },
    {
      "cell_type": "markdown",
      "metadata": {
        "id": "c_dZmOIvZgj-"
      },
      "source": [
        "### Initializing the hyperparameters"
      ]
    },
    {
      "cell_type": "code",
      "execution_count": 6,
      "metadata": {
        "id": "UuQh3LTvIKHY"
      },
      "outputs": [],
      "source": [
        "learning_rate = 5e-4 #derived from experimentation\n",
        "minibatch_size = 100\n",
        "gamma = 0.99 #discount factor\n",
        "replay_buffer_size = int(1e5) #no. of experiences\n",
        "tau = 1e-3 #Interpolation parameter"
      ]
    },
    {
      "cell_type": "markdown",
      "metadata": {
        "id": "8hD_Vs-bYnip"
      },
      "source": [
        "### Implementing Experience Replay"
      ]
    },
    {
      "cell_type": "code",
      "execution_count": 7,
      "metadata": {
        "id": "K932ufvF3uQM"
      },
      "outputs": [],
      "source": [
        "class ReplayMemory(object):\n",
        "\n",
        "  def __init__(self, capacity):\n",
        "    self.device = torch.device(\"cuda:0\" if torch.cuda.is_available() else \"cpu\") #if exterior device(gpu) is present. uses that hardware to process\n",
        "    self.capacity = capacity #total size of memory size\n",
        "    self.memory = [ ]\n",
        "\n",
        "  def push(self, event): #appends event and removes oldest event if memory is full\n",
        "    self.memory.append(event)\n",
        "    if len(self.memory) > self.capacity:\n",
        "      del self.memory[0]\n",
        "\n",
        "  def sample(self, batch_size):\n",
        "    exp = random.sample(self.memory, k = batch_size)\n",
        "    state = torch.from_numpy(np.vstack([e[0] for e in exp if e is not None])).float().to(self.device) #states converted to tensors and float values and send to gpu or cpu\n",
        "    action = torch.from_numpy(np.vstack([e[1] for e in exp if e is not None])).long().to(self.device) #same as states but long integers\n",
        "    rewards = torch.from_numpy(np.vstack([e[2] for e in exp if e is not None])).float().to(self.device)\n",
        "    next_state = torch.from_numpy(np.vstack([e[3] for e in exp if e is not None])).float().to(self.device)\n",
        "    dones = torch.from_numpy(np.vstack([e[4] for e in exp if e is not None]).astype(np.uint8)).float().to(self.device)\n",
        "    return state, next_state, action, rewards, dones"
      ]
    },
    {
      "cell_type": "markdown",
      "metadata": {
        "id": "JmEkbFbUY6Jt"
      },
      "source": [
        "### Implementing the DQN class"
      ]
    },
    {
      "cell_type": "code",
      "execution_count": 8,
      "metadata": {
        "id": "X4O4QC9a7wUs"
      },
      "outputs": [],
      "source": [
        "class Agent():\n",
        "\n",
        "  def __init__(self, state_size, action_size):\n",
        "    self.device = torch.device(\"cuda:0\" if cuda_bit==1 else \"cpu\") #if exterior device(gpu) is present. uses that hardware to process\n",
        "    self.state_size = state_size\n",
        "    self.action_size = action_size\n",
        "    self.local_qnetwork = NeuNet(state_size, action_size).to(self.device)\n",
        "    self.target_qnetwork = NeuNet(state_size, action_size).to(self.device)\n",
        "    self.optimizer = optim.Adam(self.local_qnetwork.parameters(), lr = learning_rate)\n",
        "    self.memory = ReplayMemory(replay_buffer_size)\n",
        "    self.t_step = 0\n",
        "\n",
        "  def step(self, state, action, reward, next_state, done):\n",
        "    self.memory.push((state, action, reward, next_state, done))\n",
        "    self.t_step = (self.t_step + 1) % 4\n",
        "    if self.t_step == 0:\n",
        "      if len(self.memory.memory) > minibatch_size: #self.memory.memory second memory is attribute. while self.memory is the instance of the memory class\n",
        "        exp_local = self.memory.sample(minibatch_size) #samples 100 experiences from the memory\n",
        "        self.learn(exp_local, gamma)\n",
        "\n",
        "  def act(self, state, epsilon = 0.):\n",
        "    state = torch.from_numpy(state).float().unsqueeze(0).to(self.device) #set as torch tensor and an extra variable to the vector to show batch number\n",
        "    self.local_qnetwork.eval()\n",
        "    with torch.no_grad():\n",
        "      action_values = self.local_qnetwork(state)\n",
        "    self.local_qnetwork.train()\n",
        "    if random.random() > epsilon: #epsilon greedy action selection policy\n",
        "      return np.argmax(action_values.cpu().data.numpy())\n",
        "    else:\n",
        "      return random.choice(np.arange(self.action_size))\n",
        "\n",
        "  def learn(self, exp, gamma):\n",
        "    states,next_states, actions, rewards, dones = exp\n",
        "    next_q_targets = self.target_qnetwork(next_states).detach().max(1)[0].unsqueeze(1)\n",
        "    q_targets = rewards + (gamma * next_q_targets * (1 - dones))\n",
        "    q_expected = self.local_qnetwork(states).gather(1, actions)\n",
        "    loss = F.mse_loss(q_expected, q_targets)\n",
        "    self.optimizer.zero_grad()\n",
        "    loss.backward()\n",
        "    self.optimizer.step()\n",
        "    self.soft_update(self.local_qnetwork, self.target_qnetwork, tau)\n",
        "\n",
        "  def soft_update(self, local_model, target_model, tau):\n",
        "    for target_param, local_param in zip(target_model.parameters(), local_model.parameters()):\n",
        "      target_param.data.copy_(tau * local_param.data + (1.0 - tau) * target_param.data)\n",
        "\n",
        "\n",
        "\n",
        "\n",
        "\n"
      ]
    },
    {
      "cell_type": "markdown",
      "metadata": {
        "id": "o1tZElccZmf6"
      },
      "source": [
        "### Initializing the DQN agent"
      ]
    },
    {
      "cell_type": "code",
      "execution_count": 9,
      "metadata": {
        "id": "LQHsKhwdSSA5"
      },
      "outputs": [],
      "source": [
        "agent = Agent(state_size, number_actions)"
      ]
    },
    {
      "cell_type": "markdown",
      "metadata": {
        "id": "E8v0PtUfaVQp"
      },
      "source": [
        "### Training the DQN agent"
      ]
    },
    {
      "cell_type": "code",
      "execution_count": 14,
      "metadata": {
        "colab": {
          "base_uri": "https://localhost:8080/"
        },
        "id": "yL53_97fTCFi",
        "outputId": "a2598c14-f3b3-45a2-89e3-9e5cac7c9564"
      },
      "outputs": [
        {
          "name": "stdout",
          "output_type": "stream",
          "text": [
            "Episode Number 100\tAverage Score: -104.51\n",
            "Episode Number 200\tAverage Score: -13.220\n",
            "Episode Number 300\tAverage Score: 81.082\n",
            "Episode Number 400\tAverage Score: 177.00\n",
            "Episode Number 500\tAverage Score: 242.67\n",
            "Episode Number 600\tAverage Score: 263.01\n",
            "Episode Number 700\tAverage Score: 267.11\n",
            "Episode Number 800\tAverage Score: 271.57\n",
            "Episode Number 900\tAverage Score: 273.31\n",
            "Episode Number 1000\tAverage Score: 269.45\n",
            "\n",
            "Enviroment solved in 1000 episodes!Episode Number \tAverage Score: 269.45\n"
          ]
        }
      ],
      "source": [
        "number_ep = 2000\n",
        "max_num_timesteps_per_ep = 1000\n",
        "epsilon_start = 1.0\n",
        "epsilon_end = 0.01\n",
        "epsilon_decay = 0.995\n",
        "epsilon = epsilon_start\n",
        "scores = deque(maxlen = 100)\n",
        "\n",
        "for episode in range(1, number_ep + 1):\n",
        "  state, _ = env.reset() #other information is discarded w underscore\n",
        "  score = 0\n",
        "  for t in range(max_num_timesteps_per_ep):\n",
        "    action = agent.act(state, epsilon)\n",
        "    next_state, reward, done, _, _ = env.step(action)\n",
        "    agent.step(state, action, reward, next_state, done)\n",
        "    state = next_state\n",
        "    score += reward\n",
        "    if done:\n",
        "      break\n",
        "  scores.append(score)\n",
        "  epsilon = max(epsilon_end, epsilon_decay*epsilon)\n",
        "  print('\\rEpisode Number {}\\tAverage Score: {:.2f}'.format(episode, np.mean(scores)), end=\"\")\n",
        "  if episode % 100 == 0:\n",
        "   print('\\rEpisode Number {}\\tAverage Score: {:.2f}'.format(episode, np.mean(scores)))\n",
        "  if (np.mean(scores) >= 200.0) & (episode >= 1000):\n",
        "      print('\\nEnviroment solved in {:d} episodes!Episode Number \\tAverage Score: {:.2f}'.format(episode, np.mean(scores)))\n",
        "      torch.save(agent.local_qnetwork.state_dict(), 'checkpoint charlie')\n",
        "      break"
      ]
    },
    {
      "cell_type": "markdown",
      "metadata": {
        "id": "O8CNwdOTcCoP"
      },
      "source": [
        "## Part 3 - Visualizing the results"
      ]
    },
    {
      "cell_type": "code",
      "execution_count": 17,
      "metadata": {
        "colab": {
          "base_uri": "https://localhost:8080/",
          "height": 459
        },
        "id": "cb9nVvU2Okhk",
        "outputId": "b8135e63-7bb2-4cff-c21a-25e66e9583ee"
      },
      "outputs": [
        {
          "name": "stderr",
          "output_type": "stream",
          "text": [
            "IMAGEIO FFMPEG_WRITER WARNING: input image is not divisible by macro_block_size=16, resizing from (600, 400) to (608, 400) to ensure video compatibility with most codecs and players. To prevent resizing, make your input image divisible by the macro_block_size or set the macro_block_size to 1 (risking incompatibility).\n"
          ]
        },
        {
          "data": {
            "text/html": [
              "<video alt=\"test\" autoplay\n",
              "                loop controls style=\"height: 400px;\">\n",
              "                <source src=\"data:video/mp4;base64,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\" type=\"video/mp4\" />\n",
              "             </video>"
            ],
            "text/plain": [
              "<IPython.core.display.HTML object>"
            ]
          },
          "metadata": {},
          "output_type": "display_data"
        }
      ],
      "source": [
        "import glob\n",
        "import io\n",
        "import base64\n",
        "import imageio\n",
        "from IPython.display import HTML, display\n",
        "\n",
        "def show_video_of_model(agent, env_name):\n",
        "    env = gym.make(env_name, render_mode='rgb_array')\n",
        "    state, _ = env.reset()\n",
        "    done = False\n",
        "    frames = []\n",
        "    while not done:\n",
        "        frame = env.render()\n",
        "        frames.append(frame)\n",
        "        action = agent.act(state)\n",
        "        state, reward, done, _, _ = env.step(action.item())\n",
        "    env.close()\n",
        "    imageio.mimsave('video.mp4', frames, fps=30)\n",
        "\n",
        "show_video_of_model(agent, 'LunarLander-v3')\n",
        "\n",
        "def show_video():\n",
        "    mp4list = glob.glob('*.mp4')\n",
        "    if len(mp4list) > 0:\n",
        "        mp4 = mp4list[0]\n",
        "        video = io.open(mp4, 'r+b').read()\n",
        "        encoded = base64.b64encode(video)\n",
        "        display(HTML(data='''<video alt=\"test\" autoplay\n",
        "                loop controls style=\"height: 400px;\">\n",
        "                <source src=\"data:video/mp4;base64,{0}\" type=\"video/mp4\" />\n",
        "             </video>'''.format(encoded.decode('ascii'))))\n",
        "    else:\n",
        "        print(\"Could not find video\")\n",
        "\n",
        "show_video()"
      ]
    }
  ],
  "metadata": {
    "colab": {
      "provenance": []
    },
    "kernelspec": {
      "display_name": "base",
      "language": "python",
      "name": "python3"
    },
    "language_info": {
      "codemirror_mode": {
        "name": "ipython",
        "version": 3
      },
      "file_extension": ".py",
      "mimetype": "text/x-python",
      "name": "python",
      "nbconvert_exporter": "python",
      "pygments_lexer": "ipython3",
      "version": "3.11.5"
    }
  },
  "nbformat": 4,
  "nbformat_minor": 0
}
