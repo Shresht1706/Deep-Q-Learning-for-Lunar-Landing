{
  "cells": [
    {
      "cell_type": "markdown",
      "metadata": {
        "id": "LbZcI9ZXHl3a"
      },
      "source": [
        "# Deep Q-Learning for Lunar Landing"
      ]
    },
    {
      "cell_type": "markdown",
      "metadata": {
        "id": "E8yPRjteXgPb"
      },
      "source": [
        "## Part 0 - Installing the required packages and importing the libraries"
      ]
    },
    {
      "cell_type": "markdown",
      "metadata": {
        "id": "slEm5teGWjWU"
      },
      "source": [
        "### Installing Gymnasium"
      ]
    },
    {
      "cell_type": "code",
      "execution_count": 29,
      "metadata": {
        "colab": {
          "base_uri": "https://localhost:8080/"
        },
        "id": "dbnq3XpoKa_7",
        "outputId": "d634f61a-d623-4fc7-dab9-62382e39686d"
      },
      "outputs": [
        {
          "name": "stdout",
          "output_type": "stream",
          "text": [
            "Requirement already satisfied: gymnasium in c:\\users\\shres\\.conda\\envs\\cuda_test\\lib\\site-packages (1.0.0)\n",
            "Requirement already satisfied: numpy>=1.21.0 in c:\\users\\shres\\.conda\\envs\\cuda_test\\lib\\site-packages (from gymnasium) (2.2.5)\n",
            "Requirement already satisfied: cloudpickle>=1.2.0 in c:\\users\\shres\\.conda\\envs\\cuda_test\\lib\\site-packages (from gymnasium) (3.1.1)\n",
            "Requirement already satisfied: typing-extensions>=4.3.0 in c:\\users\\shres\\.conda\\envs\\cuda_test\\lib\\site-packages (from gymnasium) (4.13.2)\n",
            "Requirement already satisfied: farama-notifications>=0.0.1 in c:\\users\\shres\\appdata\\roaming\\python\\python312\\site-packages (from gymnasium) (0.0.4)\n"
          ]
        },
        {
          "name": "stderr",
          "output_type": "stream",
          "text": [
            "WARNING: Ignoring invalid distribution ~orch (C:\\Users\\shres\\AppData\\Roaming\\Python\\Python312\\site-packages)\n",
            "WARNING: Ignoring invalid distribution ~orch (C:\\Users\\shres\\AppData\\Roaming\\Python\\Python312\\site-packages)\n",
            "WARNING: Ignoring invalid distribution ~orch (C:\\Users\\shres\\AppData\\Roaming\\Python\\Python312\\site-packages)\n",
            "WARNING: Ignoring invalid distribution ~orch (C:\\Users\\shres\\AppData\\Roaming\\Python\\Python312\\site-packages)\n",
            "WARNING: Ignoring invalid distribution ~orch (C:\\Users\\shres\\AppData\\Roaming\\Python\\Python312\\site-packages)\n"
          ]
        },
        {
          "name": "stdout",
          "output_type": "stream",
          "text": [
            "Requirement already satisfied: gymnasium==1.0.0 in c:\\users\\shres\\.conda\\envs\\cuda_test\\lib\\site-packages (1.0.0)\n",
            "Requirement already satisfied: numpy>=1.21.0 in c:\\users\\shres\\.conda\\envs\\cuda_test\\lib\\site-packages (from gymnasium==1.0.0) (2.2.5)\n",
            "Requirement already satisfied: cloudpickle>=1.2.0 in c:\\users\\shres\\.conda\\envs\\cuda_test\\lib\\site-packages (from gymnasium==1.0.0) (3.1.1)\n",
            "Requirement already satisfied: typing-extensions>=4.3.0 in c:\\users\\shres\\.conda\\envs\\cuda_test\\lib\\site-packages (from gymnasium==1.0.0) (4.13.2)\n",
            "Requirement already satisfied: farama-notifications>=0.0.1 in c:\\users\\shres\\appdata\\roaming\\python\\python312\\site-packages (from gymnasium==1.0.0) (0.0.4)\n"
          ]
        },
        {
          "name": "stderr",
          "output_type": "stream",
          "text": [
            "WARNING: Ignoring invalid distribution ~orch (C:\\Users\\shres\\AppData\\Roaming\\Python\\Python312\\site-packages)\n",
            "WARNING: Ignoring invalid distribution ~orch (C:\\Users\\shres\\AppData\\Roaming\\Python\\Python312\\site-packages)\n",
            "WARNING: Ignoring invalid distribution ~orch (C:\\Users\\shres\\AppData\\Roaming\\Python\\Python312\\site-packages)\n",
            "WARNING: Ignoring invalid distribution ~orch (C:\\Users\\shres\\AppData\\Roaming\\Python\\Python312\\site-packages)\n",
            "WARNING: Ignoring invalid distribution ~orch (C:\\Users\\shres\\AppData\\Roaming\\Python\\Python312\\site-packages)\n"
          ]
        },
        {
          "name": "stdout",
          "output_type": "stream",
          "text": [
            "Requirement already satisfied: swig in c:\\users\\shres\\appdata\\roaming\\python\\python312\\site-packages (4.3.1)\n"
          ]
        },
        {
          "name": "stderr",
          "output_type": "stream",
          "text": [
            "WARNING: Ignoring invalid distribution ~orch (C:\\Users\\shres\\AppData\\Roaming\\Python\\Python312\\site-packages)\n",
            "WARNING: Ignoring invalid distribution ~orch (C:\\Users\\shres\\AppData\\Roaming\\Python\\Python312\\site-packages)\n",
            "WARNING: Ignoring invalid distribution ~orch (C:\\Users\\shres\\AppData\\Roaming\\Python\\Python312\\site-packages)\n",
            "WARNING: Ignoring invalid distribution ~orch (C:\\Users\\shres\\AppData\\Roaming\\Python\\Python312\\site-packages)\n",
            "WARNING: Ignoring invalid distribution ~orch (C:\\Users\\shres\\AppData\\Roaming\\Python\\Python312\\site-packages)\n"
          ]
        },
        {
          "name": "stdout",
          "output_type": "stream",
          "text": [
            "Requirement already satisfied: gymnasium[box2d] in c:\\users\\shres\\.conda\\envs\\cuda_test\\lib\\site-packages (1.0.0)\n",
            "Requirement already satisfied: numpy>=1.21.0 in c:\\users\\shres\\.conda\\envs\\cuda_test\\lib\\site-packages (from gymnasium[box2d]) (2.2.5)\n",
            "Requirement already satisfied: cloudpickle>=1.2.0 in c:\\users\\shres\\.conda\\envs\\cuda_test\\lib\\site-packages (from gymnasium[box2d]) (3.1.1)\n",
            "Requirement already satisfied: typing-extensions>=4.3.0 in c:\\users\\shres\\.conda\\envs\\cuda_test\\lib\\site-packages (from gymnasium[box2d]) (4.13.2)\n",
            "Requirement already satisfied: farama-notifications>=0.0.1 in c:\\users\\shres\\appdata\\roaming\\python\\python312\\site-packages (from gymnasium[box2d]) (0.0.4)\n",
            "Requirement already satisfied: box2d-py==2.3.5 in c:\\users\\shres\\.conda\\envs\\cuda_test\\lib\\site-packages (from gymnasium[box2d]) (2.3.5)\n",
            "Requirement already satisfied: pygame>=2.1.3 in c:\\users\\shres\\.conda\\envs\\cuda_test\\lib\\site-packages (from gymnasium[box2d]) (2.6.1)\n",
            "Requirement already satisfied: swig==4.* in c:\\users\\shres\\appdata\\roaming\\python\\python312\\site-packages (from gymnasium[box2d]) (4.3.1)\n"
          ]
        },
        {
          "name": "stderr",
          "output_type": "stream",
          "text": [
            "WARNING: Ignoring invalid distribution ~orch (C:\\Users\\shres\\AppData\\Roaming\\Python\\Python312\\site-packages)\n",
            "WARNING: Ignoring invalid distribution ~orch (C:\\Users\\shres\\AppData\\Roaming\\Python\\Python312\\site-packages)\n",
            "WARNING: Ignoring invalid distribution ~orch (C:\\Users\\shres\\AppData\\Roaming\\Python\\Python312\\site-packages)\n",
            "WARNING: Ignoring invalid distribution ~orch (C:\\Users\\shres\\AppData\\Roaming\\Python\\Python312\\site-packages)\n",
            "WARNING: Ignoring invalid distribution ~orch (C:\\Users\\shres\\AppData\\Roaming\\Python\\Python312\\site-packages)\n"
          ]
        },
        {
          "name": "stdout",
          "output_type": "stream",
          "text": [
            "Requirement already satisfied: imageio in c:\\users\\shres\\.conda\\envs\\cuda_test\\lib\\site-packages (2.37.0)\n",
            "Requirement already satisfied: numpy in c:\\users\\shres\\.conda\\envs\\cuda_test\\lib\\site-packages (from imageio) (2.2.5)\n",
            "Requirement already satisfied: pillow>=8.3.2 in c:\\users\\shres\\.conda\\envs\\cuda_test\\lib\\site-packages (from imageio) (11.0.0)\n"
          ]
        },
        {
          "name": "stderr",
          "output_type": "stream",
          "text": [
            "WARNING: Ignoring invalid distribution ~orch (C:\\Users\\shres\\AppData\\Roaming\\Python\\Python312\\site-packages)\n",
            "WARNING: Ignoring invalid distribution ~orch (C:\\Users\\shres\\AppData\\Roaming\\Python\\Python312\\site-packages)\n",
            "WARNING: Ignoring invalid distribution ~orch (C:\\Users\\shres\\AppData\\Roaming\\Python\\Python312\\site-packages)\n",
            "WARNING: Ignoring invalid distribution ~orch (C:\\Users\\shres\\AppData\\Roaming\\Python\\Python312\\site-packages)\n",
            "WARNING: Ignoring invalid distribution ~orch (C:\\Users\\shres\\AppData\\Roaming\\Python\\Python312\\site-packages)\n"
          ]
        },
        {
          "name": "stdout",
          "output_type": "stream",
          "text": [
            "Requirement already satisfied: ipython in c:\\users\\shres\\appdata\\roaming\\python\\python312\\site-packages (9.1.0)\n",
            "Requirement already satisfied: colorama in c:\\users\\shres\\appdata\\roaming\\python\\python312\\site-packages (from ipython) (0.4.6)\n",
            "Requirement already satisfied: decorator in c:\\users\\shres\\appdata\\roaming\\python\\python312\\site-packages (from ipython) (5.2.1)\n",
            "Requirement already satisfied: ipython-pygments-lexers in c:\\users\\shres\\appdata\\roaming\\python\\python312\\site-packages (from ipython) (1.1.1)\n",
            "Requirement already satisfied: jedi>=0.16 in c:\\users\\shres\\appdata\\roaming\\python\\python312\\site-packages (from ipython) (0.19.2)\n",
            "Requirement already satisfied: matplotlib-inline in c:\\users\\shres\\appdata\\roaming\\python\\python312\\site-packages (from ipython) (0.1.7)\n",
            "Requirement already satisfied: prompt_toolkit<3.1.0,>=3.0.41 in c:\\users\\shres\\appdata\\roaming\\python\\python312\\site-packages (from ipython) (3.0.51)\n",
            "Requirement already satisfied: pygments>=2.4.0 in c:\\users\\shres\\appdata\\roaming\\python\\python312\\site-packages (from ipython) (2.19.1)\n",
            "Requirement already satisfied: stack_data in c:\\users\\shres\\appdata\\roaming\\python\\python312\\site-packages (from ipython) (0.6.3)\n",
            "Requirement already satisfied: traitlets>=5.13.0 in c:\\users\\shres\\appdata\\roaming\\python\\python312\\site-packages (from ipython) (5.14.3)\n",
            "Requirement already satisfied: parso<0.9.0,>=0.8.4 in c:\\users\\shres\\appdata\\roaming\\python\\python312\\site-packages (from jedi>=0.16->ipython) (0.8.4)\n",
            "Requirement already satisfied: wcwidth in c:\\users\\shres\\appdata\\roaming\\python\\python312\\site-packages (from prompt_toolkit<3.1.0,>=3.0.41->ipython) (0.2.13)\n",
            "Requirement already satisfied: executing>=1.2.0 in c:\\users\\shres\\appdata\\roaming\\python\\python312\\site-packages (from stack_data->ipython) (2.2.0)\n",
            "Requirement already satisfied: asttokens>=2.1.0 in c:\\users\\shres\\appdata\\roaming\\python\\python312\\site-packages (from stack_data->ipython) (3.0.0)\n",
            "Requirement already satisfied: pure-eval in c:\\users\\shres\\appdata\\roaming\\python\\python312\\site-packages (from stack_data->ipython) (0.2.3)\n"
          ]
        },
        {
          "name": "stderr",
          "output_type": "stream",
          "text": [
            "WARNING: Ignoring invalid distribution ~orch (C:\\Users\\shres\\AppData\\Roaming\\Python\\Python312\\site-packages)\n",
            "WARNING: Ignoring invalid distribution ~orch (C:\\Users\\shres\\AppData\\Roaming\\Python\\Python312\\site-packages)\n",
            "WARNING: Ignoring invalid distribution ~orch (C:\\Users\\shres\\AppData\\Roaming\\Python\\Python312\\site-packages)\n",
            "WARNING: Ignoring invalid distribution ~orch (C:\\Users\\shres\\AppData\\Roaming\\Python\\Python312\\site-packages)\n",
            "WARNING: Ignoring invalid distribution ~orch (C:\\Users\\shres\\AppData\\Roaming\\Python\\Python312\\site-packages)\n"
          ]
        },
        {
          "name": "stdout",
          "output_type": "stream",
          "text": [
            "Looking in indexes: https://download.pytorch.org/whl/cu128\n",
            "Requirement already satisfied: torch in c:\\users\\shres\\.conda\\envs\\cuda_test\\lib\\site-packages (2.7.0+cu128)\n",
            "Requirement already satisfied: torchvision in c:\\users\\shres\\.conda\\envs\\cuda_test\\lib\\site-packages (0.22.0+cu128)\n",
            "Requirement already satisfied: torchaudio in c:\\users\\shres\\.conda\\envs\\cuda_test\\lib\\site-packages (2.7.0+cu128)\n",
            "Requirement already satisfied: filelock in c:\\users\\shres\\.conda\\envs\\cuda_test\\lib\\site-packages (from torch) (3.13.1)\n",
            "Requirement already satisfied: typing-extensions>=4.10.0 in c:\\users\\shres\\.conda\\envs\\cuda_test\\lib\\site-packages (from torch) (4.13.2)\n",
            "Requirement already satisfied: sympy>=1.13.3 in c:\\users\\shres\\appdata\\roaming\\python\\python312\\site-packages (from torch) (1.14.0)\n",
            "Requirement already satisfied: networkx in c:\\users\\shres\\.conda\\envs\\cuda_test\\lib\\site-packages (from torch) (3.3)\n",
            "Requirement already satisfied: jinja2 in c:\\users\\shres\\.conda\\envs\\cuda_test\\lib\\site-packages (from torch) (3.1.4)\n",
            "Requirement already satisfied: fsspec in c:\\users\\shres\\.conda\\envs\\cuda_test\\lib\\site-packages (from torch) (2024.6.1)\n",
            "Requirement already satisfied: setuptools in c:\\users\\shres\\.conda\\envs\\cuda_test\\lib\\site-packages (from torch) (75.8.0)\n",
            "Requirement already satisfied: numpy in c:\\users\\shres\\.conda\\envs\\cuda_test\\lib\\site-packages (from torchvision) (2.2.5)\n",
            "Requirement already satisfied: pillow!=8.3.*,>=5.3.0 in c:\\users\\shres\\.conda\\envs\\cuda_test\\lib\\site-packages (from torchvision) (11.0.0)\n",
            "Requirement already satisfied: mpmath<1.4,>=1.1.0 in c:\\users\\shres\\.conda\\envs\\cuda_test\\lib\\site-packages (from sympy>=1.13.3->torch) (1.3.0)\n",
            "Requirement already satisfied: MarkupSafe>=2.0 in c:\\users\\shres\\.conda\\envs\\cuda_test\\lib\\site-packages (from jinja2->torch) (2.1.5)\n"
          ]
        },
        {
          "name": "stderr",
          "output_type": "stream",
          "text": [
            "WARNING: Ignoring invalid distribution ~orch (C:\\Users\\shres\\AppData\\Roaming\\Python\\Python312\\site-packages)\n",
            "WARNING: Ignoring invalid distribution ~orch (C:\\Users\\shres\\AppData\\Roaming\\Python\\Python312\\site-packages)\n",
            "WARNING: Ignoring invalid distribution ~orch (C:\\Users\\shres\\AppData\\Roaming\\Python\\Python312\\site-packages)\n",
            "WARNING: Ignoring invalid distribution ~orch (C:\\Users\\shres\\AppData\\Roaming\\Python\\Python312\\site-packages)\n",
            "WARNING: Ignoring invalid distribution ~orch (C:\\Users\\shres\\AppData\\Roaming\\Python\\Python312\\site-packages)\n"
          ]
        },
        {
          "name": "stdout",
          "output_type": "stream",
          "text": [
            "Requirement already satisfied: imageio[ffmpeg] in c:\\users\\shres\\.conda\\envs\\cuda_test\\lib\\site-packages (2.37.0)\n",
            "Requirement already satisfied: numpy in c:\\users\\shres\\.conda\\envs\\cuda_test\\lib\\site-packages (from imageio[ffmpeg]) (2.2.5)\n",
            "Requirement already satisfied: pillow>=8.3.2 in c:\\users\\shres\\.conda\\envs\\cuda_test\\lib\\site-packages (from imageio[ffmpeg]) (11.0.0)\n",
            "Requirement already satisfied: imageio-ffmpeg in c:\\users\\shres\\.conda\\envs\\cuda_test\\lib\\site-packages (from imageio[ffmpeg]) (0.6.0)\n",
            "Requirement already satisfied: psutil in c:\\users\\shres\\appdata\\roaming\\python\\python312\\site-packages (from imageio[ffmpeg]) (7.0.0)\n"
          ]
        },
        {
          "name": "stderr",
          "output_type": "stream",
          "text": [
            "WARNING: Ignoring invalid distribution ~orch (C:\\Users\\shres\\AppData\\Roaming\\Python\\Python312\\site-packages)\n",
            "WARNING: Ignoring invalid distribution ~orch (C:\\Users\\shres\\AppData\\Roaming\\Python\\Python312\\site-packages)\n",
            "WARNING: Ignoring invalid distribution ~orch (C:\\Users\\shres\\AppData\\Roaming\\Python\\Python312\\site-packages)\n",
            "WARNING: Ignoring invalid distribution ~orch (C:\\Users\\shres\\AppData\\Roaming\\Python\\Python312\\site-packages)\n",
            "WARNING: Ignoring invalid distribution ~orch (C:\\Users\\shres\\AppData\\Roaming\\Python\\Python312\\site-packages)\n"
          ]
        },
        {
          "name": "stdout",
          "output_type": "stream",
          "text": [
            "Requirement already satisfied: imageio[ffmpeg] in c:\\users\\shres\\.conda\\envs\\cuda_test\\lib\\site-packages (2.37.0)\n",
            "Requirement already satisfied: numpy in c:\\users\\shres\\.conda\\envs\\cuda_test\\lib\\site-packages (from imageio[ffmpeg]) (2.2.5)\n",
            "Requirement already satisfied: pillow>=8.3.2 in c:\\users\\shres\\.conda\\envs\\cuda_test\\lib\\site-packages (from imageio[ffmpeg]) (11.0.0)\n",
            "Requirement already satisfied: imageio-ffmpeg in c:\\users\\shres\\.conda\\envs\\cuda_test\\lib\\site-packages (from imageio[ffmpeg]) (0.6.0)\n",
            "Requirement already satisfied: psutil in c:\\users\\shres\\appdata\\roaming\\python\\python312\\site-packages (from imageio[ffmpeg]) (7.0.0)\n"
          ]
        },
        {
          "name": "stderr",
          "output_type": "stream",
          "text": [
            "WARNING: Ignoring invalid distribution ~orch (C:\\Users\\shres\\AppData\\Roaming\\Python\\Python312\\site-packages)\n",
            "WARNING: Ignoring invalid distribution ~orch (C:\\Users\\shres\\AppData\\Roaming\\Python\\Python312\\site-packages)\n",
            "WARNING: Ignoring invalid distribution ~orch (C:\\Users\\shres\\AppData\\Roaming\\Python\\Python312\\site-packages)\n",
            "WARNING: Ignoring invalid distribution ~orch (C:\\Users\\shres\\AppData\\Roaming\\Python\\Python312\\site-packages)\n",
            "WARNING: Ignoring invalid distribution ~orch (C:\\Users\\shres\\AppData\\Roaming\\Python\\Python312\\site-packages)\n"
          ]
        },
        {
          "name": "stdout",
          "output_type": "stream",
          "text": [
            "Requirement already satisfied: pandas in c:\\users\\shres\\.conda\\envs\\cuda_test\\lib\\site-packages (2.3.0)\n",
            "Requirement already satisfied: numpy>=1.26.0 in c:\\users\\shres\\.conda\\envs\\cuda_test\\lib\\site-packages (from pandas) (2.2.5)\n",
            "Requirement already satisfied: python-dateutil>=2.8.2 in c:\\users\\shres\\appdata\\roaming\\python\\python312\\site-packages (from pandas) (2.9.0.post0)\n",
            "Requirement already satisfied: pytz>=2020.1 in c:\\users\\shres\\.conda\\envs\\cuda_test\\lib\\site-packages (from pandas) (2025.2)\n",
            "Requirement already satisfied: tzdata>=2022.7 in c:\\users\\shres\\.conda\\envs\\cuda_test\\lib\\site-packages (from pandas) (2025.2)\n",
            "Requirement already satisfied: six>=1.5 in c:\\users\\shres\\appdata\\roaming\\python\\python312\\site-packages (from python-dateutil>=2.8.2->pandas) (1.17.0)\n"
          ]
        },
        {
          "name": "stderr",
          "output_type": "stream",
          "text": [
            "WARNING: Ignoring invalid distribution ~orch (C:\\Users\\shres\\AppData\\Roaming\\Python\\Python312\\site-packages)\n",
            "WARNING: Ignoring invalid distribution ~orch (C:\\Users\\shres\\AppData\\Roaming\\Python\\Python312\\site-packages)\n",
            "WARNING: Ignoring invalid distribution ~orch (C:\\Users\\shres\\AppData\\Roaming\\Python\\Python312\\site-packages)\n",
            "WARNING: Ignoring invalid distribution ~orch (C:\\Users\\shres\\AppData\\Roaming\\Python\\Python312\\site-packages)\n",
            "WARNING: Ignoring invalid distribution ~orch (C:\\Users\\shres\\AppData\\Roaming\\Python\\Python312\\site-packages)\n"
          ]
        }
      ],
      "source": [
        "!pip install gymnasium\n",
        "!pip install gymnasium==1.0.0\n",
        "!pip install swig\n",
        "!pip install \"gymnasium[box2d]\"\n",
        "!pip install imageio\n",
        "!pip install ipython\n",
        "!pip install torch torchvision torchaudio --index-url https://download.pytorch.org/whl/cu128\n",
        "!pip install \"imageio[ffmpeg]\"\n",
        "!pip install \"imageio[ffmpeg]\"\n",
        "!pip install pandas"
      ]
    },
    {
      "cell_type": "markdown",
      "metadata": {},
      "source": [
        "### Checking for availibility of CUDA Cores"
      ]
    },
    {
      "cell_type": "code",
      "execution_count": 30,
      "metadata": {},
      "outputs": [
        {
          "name": "stdout",
          "output_type": "stream",
          "text": [
            "True\n"
          ]
        }
      ],
      "source": [
        "import torch\n",
        "if torch.cuda.is_available():\n",
        "    cuda_bit = 1\n",
        "else:\n",
        "    cuda_bit = 0\n",
        "\n",
        "print(torch.cuda.is_available())"
      ]
    },
    {
      "cell_type": "markdown",
      "metadata": {
        "id": "brqiMN3UW9T9"
      },
      "source": [
        "### Importing the libraries"
      ]
    },
    {
      "cell_type": "code",
      "execution_count": 31,
      "metadata": {
        "id": "mZaKXP_aMl9O"
      },
      "outputs": [],
      "source": [
        "import os #for os\n",
        "import random #for random numbers\n",
        "import numpy as np #for arrays\n",
        "import torch # to train agent w pytorch\n",
        "import torch.nn as nn #neural network module\n",
        "import torch.optim as optim # optimal module\n",
        "import torch.nn.functional as F #functions pre made for training\n",
        "import torch.autograd as autograd # for stochastic gradient descent\n",
        "from torch.autograd import Variable #training\n",
        "from collections import deque, namedtuple #training\n",
        "import pandas as pd"
      ]
    },
    {
      "cell_type": "markdown",
      "metadata": {
        "id": "EzlDKXvkXzGI"
      },
      "source": [
        "## Part 1 - Building the AI"
      ]
    },
    {
      "cell_type": "markdown",
      "metadata": {
        "id": "UtG6Zc83YYy3"
      },
      "source": [
        "### Creating the architecture of the Neural Network"
      ]
    },
    {
      "cell_type": "code",
      "execution_count": 32,
      "metadata": {
        "id": "QWpMLoF4qf-9"
      },
      "outputs": [],
      "source": [
        "class NeuNet(nn.Module): #inherits from nn.module\n",
        "\n",
        "  def __init__(self, state_size, action_size, seed=42):\n",
        "    super(NeuNet, self).__init__()\n",
        "    self.seed = torch.manual_seed(seed)\n",
        "    self.fc1 = nn.Linear(state_size, 128) #Input Layer\n",
        "    self.fc2 = nn.Linear(128, 128) #Hidden Layer\n",
        "    self.fc3 = nn.Linear(128, action_size) #Output Layer\n",
        "\n",
        "  def forward(self, state):\n",
        "    x = self.fc1(state)\n",
        "    x = F.relu(x) #rectifier activation function from torch.nn.functional\n",
        "    #Gone from first fully conected layer to the second\n",
        "    x = self.fc2(x)\n",
        "    x = F.relu(x)\n",
        "    return self.fc3(x) #output layer"
      ]
    },
    {
      "cell_type": "markdown",
      "metadata": {
        "id": "eKr-lMG2EH9Y"
      },
      "source": [
        "\n",
        "\n",
        "*   fc1 is input layer. Number can be anything however, post testing, 128 is the most optimal in cases for lunar landings in gymnasium\n",
        "*   fc2 is hidden layer\n",
        "*   fc3 is output layer. action size is 4\n",
        "*   DEF FORWARD\n",
        "\n",
        "\n",
        "\n",
        "\n"
      ]
    },
    {
      "cell_type": "markdown",
      "metadata": {
        "id": "UxVrBnFWZKb1"
      },
      "source": [
        "## Part 2 - Training the AI"
      ]
    },
    {
      "cell_type": "markdown",
      "metadata": {
        "id": "T364fz9qZb2j"
      },
      "source": [
        "### Setting up the environment"
      ]
    },
    {
      "cell_type": "code",
      "execution_count": 33,
      "metadata": {
        "colab": {
          "base_uri": "https://localhost:8080/"
        },
        "id": "41sgnpCwtd5f",
        "outputId": "2aa4e61c-f53e-4990-e153-098b302c2218"
      },
      "outputs": [
        {
          "name": "stdout",
          "output_type": "stream",
          "text": [
            "State shape:  (8,)\n",
            "State size:  8\n",
            "Number of actions:  4\n"
          ]
        }
      ],
      "source": [
        "import gymnasium as gym\n",
        "env = gym.make(\"LunarLander-v3\")\n",
        "state_shape = env.observation_space.shape #Vector\n",
        "state_size = env.observation_space.shape[0] #current state of env\n",
        "number_actions = env.action_space.n #Number of actions\n",
        "print('State shape: ', state_shape)\n",
        "print('State size: ', state_size)\n",
        "print('Number of actions: ', number_actions)"
      ]
    },
    {
      "cell_type": "markdown",
      "metadata": {
        "id": "c_dZmOIvZgj-"
      },
      "source": [
        "### Initializing the hyperparameters"
      ]
    },
    {
      "cell_type": "code",
      "execution_count": 34,
      "metadata": {
        "id": "UuQh3LTvIKHY"
      },
      "outputs": [],
      "source": [
        "learning_rate = 0.0005 #derived from experimentation\n",
        "minibatch_size = 256\n",
        "gamma = 0.99 #discount factor\n",
        "replay_buffer_size = 100000 #no. of experiences\n",
        "tau = 0.01 #Interpolation parameter"
      ]
    },
    {
      "cell_type": "markdown",
      "metadata": {
        "id": "8hD_Vs-bYnip"
      },
      "source": [
        "### Implementing Experience Replay"
      ]
    },
    {
      "cell_type": "code",
      "execution_count": 35,
      "metadata": {
        "id": "K932ufvF3uQM"
      },
      "outputs": [],
      "source": [
        "class ReplayMemory(object):\n",
        "\n",
        "  def __init__(self, capacity):\n",
        "    self.device = torch.device(\"cuda:0\" if torch.cuda.is_available() else \"cpu\") #if exterior device(gpu) is present. uses that hardware to process\n",
        "    self.capacity = capacity #total size of memory size\n",
        "    self.memory = [ ]\n",
        "\n",
        "  def push(self, event): #appends event and removes oldest event if memory is full\n",
        "    self.memory.append(event)\n",
        "    if len(self.memory) > self.capacity:\n",
        "      del self.memory[0]\n",
        "\n",
        "  def sample(self, batch_size):\n",
        "    exp = random.sample(self.memory, k = batch_size)\n",
        "    state = torch.from_numpy(np.vstack([e[0] for e in exp if e is not None])).float().to(self.device) #states converted to tensors and float values and send to gpu or cpu\n",
        "    action = torch.from_numpy(np.vstack([e[1] for e in exp if e is not None])).long().to(self.device) #same as states but long integers\n",
        "    rewards = torch.from_numpy(np.vstack([e[2] for e in exp if e is not None])).float().to(self.device)\n",
        "    next_state = torch.from_numpy(np.vstack([e[3] for e in exp if e is not None])).float().to(self.device)\n",
        "    dones = torch.from_numpy(np.vstack([e[4] for e in exp if e is not None]).astype(np.uint8)).float().to(self.device)\n",
        "    return state, next_state, action, rewards, dones"
      ]
    },
    {
      "cell_type": "markdown",
      "metadata": {
        "id": "JmEkbFbUY6Jt"
      },
      "source": [
        "### Implementing the DQN class"
      ]
    },
    {
      "cell_type": "code",
      "execution_count": 47,
      "metadata": {
        "id": "X4O4QC9a7wUs"
      },
      "outputs": [],
      "source": [
        "class Agent():\n",
        "\n",
        "    def __init__(self, state_size, action_size):\n",
        "        self.device = torch.device(\"cuda:0\" if cuda_bit==1 else \"cpu\") #if exterior device(gpu) is present. uses that hardware to process\n",
        "        self.state_size = state_size\n",
        "        self.action_size = action_size\n",
        "        self.local_qnetwork = NeuNet(state_size, action_size).to(self.device)\n",
        "        self.target_qnetwork = NeuNet(state_size, action_size).to(self.device)\n",
        "        self.optimizer = optim.Adam(self.local_qnetwork.parameters(), lr = learning_rate)\n",
        "        self.memory = ReplayMemory(replay_buffer_size)\n",
        "        self.t_step = 0\n",
        "\n",
        "    def step(self, state, action, reward, next_state, done):\n",
        "        self.memory.push((state, action, reward, next_state, done))\n",
        "        self.t_step = (self.t_step + 1) % 4\n",
        "        if self.t_step == 0:\n",
        "            if len(self.memory.memory) > minibatch_size: #self.memory.memory second memory is attribute. while self.memory is the instance of the memory class\n",
        "                exp_local = self.memory.sample(minibatch_size) #samples 100 experiences from the memory\n",
        "                self.learn(exp_local, gamma)\n",
        "\n",
        "    def act(self, state, epsilon = 0.):\n",
        "        state = torch.from_numpy(state).float().unsqueeze(0).to(self.device) #set as torch tensor and an extra variable to the vector to show batch number\n",
        "        self.local_qnetwork.eval()\n",
        "        with torch.no_grad():\n",
        "            action_values = self.local_qnetwork(state)\n",
        "        self.local_qnetwork.train()\n",
        "        if random.random() > epsilon: #epsilon greedy action selection policy\n",
        "            return np.argmax(action_values.cpu().data.numpy())\n",
        "        else:\n",
        "            return random.choice(np.arange(self.action_size))\n",
        "\n",
        "    def learn(self, exp, gamma):\n",
        "        states,next_states, actions, rewards, dones = exp\n",
        "        next_q_targets = self.target_qnetwork(next_states).detach().max(1)[0].unsqueeze(1)\n",
        "        q_targets = rewards + (gamma * next_q_targets * (1 - dones))\n",
        "        q_expected = self.local_qnetwork(states).gather(1, actions)\n",
        "        loss = F.mse_loss(q_expected, q_targets)\n",
        "        self.optimizer.zero_grad()\n",
        "        loss.backward()\n",
        "        self.optimizer.step()\n",
        "        self.soft_update(self.local_qnetwork, self.target_qnetwork, tau)\n",
        "\n",
        "    def soft_update(self, local_model, target_model, tau):\n",
        "        for target_param, local_param in zip(target_model.parameters(), local_model.parameters()):\n",
        "            target_param.data.copy_(tau * local_param.data + (1.0 - tau) * target_param.data)\n"
      ]
    },
    {
      "cell_type": "markdown",
      "metadata": {
        "id": "o1tZElccZmf6"
      },
      "source": [
        "### Initializing the DQN agent"
      ]
    },
    {
      "cell_type": "code",
      "execution_count": 48,
      "metadata": {
        "id": "LQHsKhwdSSA5"
      },
      "outputs": [],
      "source": [
        "agent = Agent(state_size, number_actions)"
      ]
    },
    {
      "cell_type": "markdown",
      "metadata": {
        "id": "E8v0PtUfaVQp"
      },
      "source": [
        "### Training the DQN agent"
      ]
    },
    {
      "cell_type": "code",
      "execution_count": 50,
      "metadata": {
        "colab": {
          "base_uri": "https://localhost:8080/"
        },
        "id": "yL53_97fTCFi",
        "outputId": "a2598c14-f3b3-45a2-89e3-9e5cac7c9564"
      },
      "outputs": [
        {
          "name": "stdout",
          "output_type": "stream",
          "text": [
            "Episode Number 100\tAverage Score: -106.25\n",
            "Episode Number 200\tAverage Score: -30.893\n",
            "Episode Number 300\tAverage Score: 63.567\n",
            "Episode Number 400\tAverage Score: 188.90\n",
            "Episode Number 500\tAverage Score: 225.28\n",
            "Episode Number 566\tAverage Score: 250.07\n",
            "Environment solved in 566 episodes! Episode Number 566\tAverage Score: 250.07\n"
          ]
        }
      ],
      "source": [
        "number_ep = 2000\n",
        "max_num_timesteps_per_ep = 1000\n",
        "epsilon_start = 1.0\n",
        "epsilon_end = 0.01\n",
        "epsilon_decay = 0.995\n",
        "epsilon = epsilon_start\n",
        "scores = deque(maxlen = 100)\n",
        "sdf = pd.DataFrame(columns = ['Episode', 'Score'])\n",
        "\n",
        "for episode in range(1, number_ep + 1):\n",
        "  state, _ = env.reset() #other information is discarded w underscore\n",
        "  score = 0\n",
        "  for t in range(max_num_timesteps_per_ep):\n",
        "    action = agent.act(state, epsilon)\n",
        "    next_state, reward, done, _, _ = env.step(action)\n",
        "    agent.step(state, action, reward, next_state, done)\n",
        "    state = next_state\n",
        "    score += reward\n",
        "    if done:\n",
        "      break\n",
        "  scores.append(score)\n",
        "  epsilon = max(epsilon_end, epsilon_decay*epsilon)\n",
        "  print('\\rEpisode Number {}\\tAverage Score: {:.2f}'.format(episode, np.mean(scores)), end=\"\")\n",
        "  if episode % 100 == 0:\n",
        "      print('\\rEpisode Number {}\\tAverage Score: {:.2f}'.format(episode, np.mean(scores)))\n",
        "      sdf.loc[len(sdf)] = {'Episode': episode, 'Score': np.mean(scores)}\n",
        "  if (np.mean(scores) >= 250.0):\n",
        "      print('\\nEnvironment solved in {:d} episodes! Episode Number {}\\tAverage Score: {:.2f}'.format(episode, episode, np.mean(scores)))\n",
        "      sdf.loc[len(sdf)] = {'Episode': episode, 'Score': np.mean(scores)}\n",
        "      torch.save(agent.local_qnetwork.state_dict(), 'checkpoint charlie')\n",
        "      break\n"
      ]
    },
    {
      "cell_type": "code",
      "execution_count": 51,
      "metadata": {},
      "outputs": [
        {
          "data": {
            "image/png": "[encoded data removed]",
            "text/plain": [
              "<Figure size 1000x600 with 1 Axes>"
            ]
          },
          "metadata": {},
          "output_type": "display_data"
        }
      ],
      "source": [
        "import matplotlib.pyplot as plt\n",
        "\n",
        "# Plot average score vs. episode\n",
        "plt.figure(figsize=(10, 6))\n",
        "plt.plot(sdf['Episode'], sdf['Score'], marker='o', linestyle='-', color='b')\n",
        "plt.xlabel('Episode')\n",
        "plt.ylabel('Average Score')\n",
        "plt.title('Agent Performance Over Time (Reward vs. Episode)')\n",
        "plt.grid(True)\n",
        "plt.tight_layout()\n",
        "plt.show()\n"
      ]
    },
    {
      "cell_type": "markdown",
      "metadata": {},
      "source": [
        "###Training Curve"
      ]
    },
    {
      "cell_type": "markdown",
      "metadata": {},
      "source": [
        "### Testing the DQN agent"
      ]
    },
    {
      "cell_type": "code",
      "execution_count": 34,
      "metadata": {},
      "outputs": [
        {
          "name": "stdout",
          "output_type": "stream",
          "text": [
            "Run number - 0\n",
            "Episode 10 | Successes so far: 6cesses: 6\n",
            "Episode 20 | Successes so far: 15esses: 15\n",
            "Episode 30 | Successes so far: 24esses: 24\n",
            "Episode 40 | Successes so far: 34esses: 34\n",
            "Episode 50 | Successes so far: 43esses: 43\n",
            "Episode 60 | Successes so far: 52esses: 52\n",
            "Episode 70 | Successes so far: 61esses: 61\n",
            "Episode 80 | Successes so far: 71esses: 71\n",
            "Episode 90 | Successes so far: 80esses: 80\n",
            "Episode 100 | Successes so far: 90esses: 90\n",
            "Total successful episodes (score > 200) out of 100: 90\n",
            "Run number - 1\n",
            "Episode 10 | Successes so far: 10esses: 10\n",
            "Episode 20 | Successes so far: 19esses: 19\n",
            "Episode 30 | Successes so far: 27esses: 27\n",
            "Episode 40 | Successes so far: 37esses: 37\n",
            "Episode 50 | Successes so far: 47esses: 47\n",
            "Episode 60 | Successes so far: 57esses: 57\n",
            "Episode 70 | Successes so far: 67esses: 67\n",
            "Episode 80 | Successes so far: 77esses: 77\n",
            "Episode 90 | Successes so far: 87esses: 87\n",
            "Episode 100 | Successes so far: 97esses: 97\n",
            "Total successful episodes (score > 200) out of 100: 97\n",
            "Run number - 2\n",
            "Episode 10 | Successes so far: 9cesses: 9\n",
            "Episode 20 | Successes so far: 16esses: 16\n",
            "Episode 30 | Successes so far: 23esses: 23\n",
            "Episode 40 | Successes so far: 32esses: 32\n",
            "Episode 50 | Successes so far: 41esses: 41\n",
            "Episode 60 | Successes so far: 50esses: 50\n",
            "Episode 70 | Successes so far: 60esses: 60\n",
            "Episode 80 | Successes so far: 70esses: 70\n",
            "Episode 90 | Successes so far: 80esses: 80\n",
            "Episode 100 | Successes so far: 90esses: 90\n",
            "Total successful episodes (score > 200) out of 100: 90\n",
            "Run number - 3\n",
            "Episode 10 | Successes so far: 9cesses: 9\n",
            "Episode 20 | Successes so far: 18esses: 18\n",
            "Episode 30 | Successes so far: 27esses: 27\n",
            "Episode 40 | Successes so far: 36esses: 36\n",
            "Episode 50 | Successes so far: 46esses: 46\n",
            "Episode 60 | Successes so far: 55esses: 55\n",
            "Episode 70 | Successes so far: 65esses: 65\n",
            "Episode 80 | Successes so far: 74esses: 74\n",
            "Episode 90 | Successes so far: 84esses: 84\n",
            "Episode 100 | Successes so far: 94esses: 94\n",
            "Total successful episodes (score > 200) out of 100: 94\n",
            "Run number - 4\n",
            "Episode 10 | Successes so far: 10esses: 10\n",
            "Episode 20 | Successes so far: 20esses: 20\n",
            "Episode 30 | Successes so far: 28esses: 28\n",
            "Episode 40 | Successes so far: 37esses: 37\n",
            "Episode 50 | Successes so far: 46esses: 46\n",
            "Episode 60 | Successes so far: 56esses: 56\n",
            "Episode 70 | Successes so far: 66esses: 66\n",
            "Episode 80 | Successes so far: 74esses: 74\n",
            "Episode 90 | Successes so far: 84esses: 84\n",
            "Episode 100 | Successes so far: 94esses: 94\n",
            "Total successful episodes (score > 200) out of 100: 94\n",
            "93.0\n"
          ]
        }
      ],
      "source": [
        "agent.local_qnetwork.load_state_dict(torch.load('checkpoint charlie'))\n",
        "\n",
        "number_ep = 100\n",
        "scores = []\n",
        "success_count = 0\n",
        "sum_success=0\n",
        "avg_success=0\n",
        "\n",
        "for i in range (5):\n",
        "    print(f\"Run number - {i}\")\n",
        "    for episode in range(1, number_ep + 1):\n",
        "        state, _ = env.reset()\n",
        "        score = 0\n",
        "        for t in range(max_num_timesteps_per_ep):\n",
        "            action = agent.act(state, epsilon=0.0)\n",
        "            next_state, reward, done, _, _ = env.step(action)\n",
        "            state = next_state\n",
        "            score += reward\n",
        "            if done:\n",
        "                break\n",
        "        scores.append(score)\n",
        "        if score > 200:\n",
        "            success_count += 1\n",
        "\n",
        "        print(f\"\\rEpisode {episode} | Score: {score:.2f} | Successes: {success_count}\", end=\"\")\n",
        "        if episode % 10 == 0:\n",
        "            print(f\"\\rEpisode {episode} | Successes so far: {success_count}\")\n",
        "\n",
        "    print(f\"Total successful episodes (score > 200) out of 100: {success_count}\")\n",
        "    sum_success +=success_count\n",
        "    success_count=0\n",
        "avg_success=sum_success/5\n",
        "print(avg_success)\n"
      ]
    },
    {
      "cell_type": "markdown",
      "metadata": {},
      "source": [
        "### Video Proof"
      ]
    },
    {
      "cell_type": "code",
      "execution_count": 35,
      "metadata": {},
      "outputs": [
        {
          "name": "stderr",
          "output_type": "stream",
          "text": [
            "IMAGEIO FFMPEG_WRITER WARNING: input image is not divisible by macro_block_size=16, resizing from (600, 400) to (608, 400) to ensure video compatibility with most codecs and players. To prevent resizing, make your input image divisible by the macro_block_size or set the macro_block_size to 1 (risking incompatibility).\n"
          ]
        },
        {
          "data": {
            "text/html": [
              "<video alt=\"test\" autoplay\n",
              "                loop controls style=\"height: 400px;\">\n",
              "                <source src=\"data:video/mp4;base64,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\" type=\"video/mp4\" />\n",
              "             </video>"
            ],
            "text/plain": [
              "<IPython.core.display.HTML object>"
            ]
          },
          "metadata": {},
          "output_type": "display_data"
        }
      ],
      "source": [
        "import glob\n",
        "import io\n",
        "import base64\n",
        "import imageio\n",
        "from IPython.display import HTML, display\n",
        "\n",
        "agent.local_qnetwork.load_state_dict(torch.load('checkpoint charlie'))\n",
        "\n",
        "def show_video_of_model(agent, env_name):\n",
        "    env = gym.make(env_name, render_mode='rgb_array')\n",
        "    state, _ = env.reset()\n",
        "    done = False\n",
        "    frames = []\n",
        "    while not done:\n",
        "        frame = env.render()\n",
        "        frames.append(frame)\n",
        "        action = agent.act(state)\n",
        "        state, reward, done, _, _ = env.step(action.item())\n",
        "    env.close()\n",
        "    imageio.mimsave('video.mp4', frames, fps=30)\n",
        "\n",
        "show_video_of_model(agent, 'LunarLander-v3')\n",
        "\n",
        "def show_video():\n",
        "    mp4list = glob.glob('*.mp4')\n",
        "    if len(mp4list) > 0:\n",
        "        mp4 = mp4list[0]\n",
        "        video = io.open(mp4, 'r+b').read()\n",
        "        encoded = base64.b64encode(video)\n",
        "        display(HTML(data='''<video alt=\"test\" autoplay\n",
        "                loop controls style=\"height: 400px;\">\n",
        "                <source src=\"data:video/mp4;base64,{0}\" type=\"video/mp4\" />\n",
        "             </video>'''.format(encoded.decode('ascii'))))\n",
        "    else:\n",
        "        print(\"Could not find video\")\n",
        "\n",
        "show_video()"
      ]
    }
  ],
  "metadata": {
    "colab": {
      "provenance": []
    },
    "kernelspec": {
      "display_name": "CUDA_test",
      "language": "python",
      "name": "python3"
    },
    "language_info": {
      "codemirror_mode": {
        "name": "ipython",
        "version": 3
      },
      "file_extension": ".py",
      "mimetype": "text/x-python",
      "name": "python",
      "nbconvert_exporter": "python",
      "pygments_lexer": "ipython3",
      "version": "3.12.9"
    }
  },
  "nbformat": 4,
  "nbformat_minor": 0
}
